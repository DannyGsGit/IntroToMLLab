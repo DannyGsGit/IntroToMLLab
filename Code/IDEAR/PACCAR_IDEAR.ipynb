{
 "cells": [
  {
   "cell_type": "markdown",
   "metadata": {},
   "source": [
    "# Interactive Data Miner\n",
    "## ITD Advanced Analytics\n",
    "- Date: 2018/05\n",
    "- Credit: Based on MS TDSP Utilities\n",
    "\n",
    "This notebook steps through the most common analyses performed in the early stages of the [CRISP DM](https://en.wikipedia.org/wiki/Cross-industry_standard_process_for_data_mining) analysis process. The notebook is specifically centered around \"Data Understanding\" and covers basic \"Data Preparation\" tasks as well. \n",
    "\n",
    "More advanced data preparation and modeling work is use-case-specific and is not captured in this generic workflow. Rather, this notebook is intended to serve as a launchpad for more detailed analysis. "
   ]
  },
  {
   "cell_type": "code",
   "execution_count": 1,
   "metadata": {
    "scrolled": false
   },
   "outputs": [
    {
     "data": {
      "text/html": [
       "<style>\n",
       "    .widget-label { min-width: 20ex !important; }\n",
       "    .widget-text { min-width: 60ex !important; }\n",
       "</style>"
      ],
      "text/plain": [
       "<IPython.core.display.HTML object>"
      ]
     },
     "metadata": {},
     "output_type": "display_data"
    },
    {
     "data": {
      "text/html": [
       "<script>\n",
       "code_show=true; \n",
       "function code_toggle() {\n",
       " if (code_show){\n",
       " $('div.input').hide();\n",
       "\n",
       " } else {\n",
       " $('div.input').show();\n",
       "\n",
       " }\n",
       " code_show = !code_show\n",
       "} \n",
       "$( document ).ready(code_toggle);//commenting code disabling by default\n",
       "</script>\n",
       "<form action = \"javascript:code_toggle()\"><input type=\"submit\" value=\"Toggle Raw Code\"></form>"
      ],
      "text/plain": [
       "<IPython.core.display.HTML object>"
      ]
     },
     "execution_count": 1,
     "metadata": {},
     "output_type": "execute_result"
    }
   ],
   "source": [
    "from IPython.core.display import HTML\n",
    "display(HTML('''<style>\n",
    "    .widget-label { min-width: 20ex !important; }\n",
    "    .widget-text { min-width: 60ex !important; }\n",
    "</style>'''))\n",
    "\n",
    "#Toggle Code\n",
    "HTML('''<script>\n",
    "code_show=true; \n",
    "function code_toggle() {\n",
    " if (code_show){\n",
    " $('div.input').hide();\n",
    "\n",
    " } else {\n",
    " $('div.input').show();\n",
    "\n",
    " }\n",
    " code_show = !code_show\n",
    "} \n",
    "$( document ).ready(code_toggle);//commenting code disabling by default\n",
    "</script>\n",
    "<form action = \"javascript:code_toggle()\"><input type=\"submit\" value=\"Toggle Raw Code\"></form>''')"
   ]
  },
  {
   "cell_type": "markdown",
   "metadata": {},
   "source": [
    "--------------------------------------------------------------------------\n",
    "\n",
    "# <a name=\"setup\"></a> 1.0 Global Configuration and Set Up"
   ]
  },
  {
   "cell_type": "code",
   "execution_count": 2,
   "metadata": {},
   "outputs": [],
   "source": [
    "import collections\n",
    "\n",
    "from IPython.display import display\n",
    "import matplotlib.pyplot as plt\n",
    "import matplotlib\n",
    "import scipy.stats as stats\n",
    "from statsmodels.graphics.mosaicplot import mosaic\n",
    "import statsmodels.api as sm\n",
    "from statsmodels.formula.api import ols\n",
    "import pandas as pd\n",
    "import numpy as np\n",
    "import scipy\n",
    "import matplotlib.pyplot as plt\n",
    "import scipy.stats as stats\n",
    "from functools import partial\n",
    "import IPython\n",
    "import ipywidgets\n",
    "from ipywidgets import widgets\n",
    "from ipywidgets import interact, interactive,fixed\n",
    "import operator\n",
    "from IPython.display import Javascript, display,HTML, clear_output\n",
    "from ipywidgets import widgets, VBox, Output, Layout\n",
    "import seaborn as sns\n",
    "from collections import OrderedDict\n",
    "import yaml\n",
    "import copy\n",
    "import warnings\n",
    "# import getpass\n",
    "import sys\n",
    "\n",
    "warnings.filterwarnings('ignore')\n",
    "\n",
    "from helpers import *\n",
    " \n",
    "%matplotlib inline\n",
    "font={'family':'normal','weight':'normal','size':8}\n",
    "matplotlib.rc('font',**font)\n",
    "matplotlib.rcParams['figure.figsize'] = (12.0, 5.0)\n",
    "matplotlib.rc('xtick', labelsize=9) \n",
    "matplotlib.rc('ytick', labelsize=9)\n",
    "matplotlib.rc('axes', labelsize=10)\n",
    "matplotlib.rc('axes', titlesize=10)\n",
    "sns.set_style('whitegrid')\n"
   ]
  },
  {
   "cell_type": "markdown",
   "metadata": {},
   "source": [
    "## 1.1 Specify and load yaml file"
   ]
  },
  {
   "cell_type": "code",
   "execution_count": 30,
   "metadata": {},
   "outputs": [
    {
     "name": "stdout",
     "output_type": "stream",
     "text": [
      "Please enter yaml file Name: data.yaml\n"
     ]
    }
   ],
   "source": [
    "import sys\n",
    "\n",
    "#Read in yaml file as text\n",
    "if (sys.version_info > (3, 0)):    \n",
    "    yaml_file_name = input('Please enter yaml file Name: ')\n",
    "else:\n",
    "    yaml_file_name = raw_input('Please enter yaml file Name: ')\n",
    "\n",
    "Sample_Size = 10000\n",
    "\n",
    "# %%add_conf_code_to_report\n",
    "\n",
    "conf_dict = ConfUtility.parse_yaml(yaml_file_name)\n",
    "\n",
    "# Read in data from local file or SQL server\n",
    "if 'DataSource' not in conf_dict:\n",
    "    df=pd.read_csv(conf_dict['DataFilePath'], skipinitialspace=True)\n",
    "\n",
    "# Making sure that we are not reading any extra column\n",
    "df = df[[each for each in df.columns if 'Unnamed' not in each]]\n",
    "\n",
    "# Filter out unnecessary columns\n",
    "necessary_columns = conf_dict['CategoricalColumns'] + conf_dict['NumericalColumns'] + [conf_dict['Target']]\n",
    "df = df[list(set(necessary_columns))]\n",
    "\n",
    "# Save a backup of df and numerical columns, pre-manipulation\n",
    "df_original = df\n",
    "conf_dict['OriginalNumericalColumns'] = copy.deepcopy(conf_dict['NumericalColumns'])\n",
    "conf_dict['OriginalCategoricalColumns'] = copy.deepcopy(conf_dict['CategoricalColumns'])"
   ]
  },
  {
   "cell_type": "markdown",
   "metadata": {},
   "source": [
    "--------------------------------------\n",
    "# 2.0 Prepare Data\n",
    "Section 2 covers typical data manipulation steps to prepare data for analysis. It is common to first run the full notebook, then evaluate features to identify outliers, non-normal distributions, etc. that are then remediated by coming back to section 2 for cleansing. \n",
    "\n",
    "After applying changes in any subsection of this section, be sure to hit the \"Apply\" buttons to re-compile the notebook with the changes you've made.\n",
    "\n",
    "## 2.1 Filtering\n",
    "Filters are applied in this first section such that any transformations of the data are reflected in analyses below. Note that changes made to the data in this section are not automatically propagated through the document, subsequent cells must be re-compiled individually with Ctrl+Enter or by selecting *Cell > Run All Below* (recommended)."
   ]
  },
  {
   "cell_type": "markdown",
   "metadata": {},
   "source": [
    "The tool supports filtering on ranges. For more refined filtering methods (e.g. validating values against other columns), custom code can be added by expanding the source code and adding user-defined functions. Any custom function must produce a Pandas DataFrame object named 'df' to propagate through the notebook.\n",
    "\n",
    "[[Hit \"Toggle Raw Code\" button at top of notebook to edit user-defined filters]]"
   ]
  },
  {
   "cell_type": "code",
   "execution_count": 31,
   "metadata": {},
   "outputs": [
    {
     "name": "stdout",
     "output_type": "stream",
     "text": [
      "Columns already dropped\n"
     ]
    }
   ],
   "source": [
    "# Investigate missingness\n",
    "# NA values will crash the model fits, so let's see how to handle them\n",
    "\n",
    "## Function to count NAs\n",
    "def count_NA(data):\n",
    "    na_counts = data.isnull().sum(axis=0).reset_index(name='NACount')\n",
    "    ## Print out the list of columns with missing values\n",
    "    return(na_counts[na_counts.NACount>0].sort_values('NACount', ascending=False))\n",
    "\n",
    "def FillNACols(data, colname, value):\n",
    "    data[colname][data[colname].isna()] = value\n",
    "    return(data)\n",
    "\n",
    "# Inspect NA counts\n",
    "## Get the counts of NAs\n",
    "na_counts = count_NA(df)\n",
    "## Print details about each column with NAs\n",
    "for idx in na_counts['index']:\n",
    "    print('Feature: {}'.format(idx))\n",
    "    print('Number of NAs: {}'.format(na_counts.NACount[na_counts['index']==idx].item()))\n",
    "    print(df[idx].unique())\n",
    "    print('==============================================')\n",
    "\n",
    "# Fill values\n",
    "## Simple fills\n",
    "df = FillNACols(df, 'Alley', 'None')\n",
    "df = FillNACols(df, 'PoolQC', 'None')\n",
    "df = FillNACols(df, 'MiscFeature', 'None')\n",
    "df = FillNACols(df, 'Fence', 'None')\n",
    "df = FillNACols(df, 'FireplaceQu', 'None')\n",
    "df = FillNACols(df, 'GarageFinish', 'None')\n",
    "df = FillNACols(df, 'GarageCond', 'None')\n",
    "df = FillNACols(df, 'GarageQual', 'None')\n",
    "df = FillNACols(df, 'GarageType', 'None')\n",
    "df = FillNACols(df, 'BsmtExposure', 'None')\n",
    "df = FillNACols(df, 'BsmtQual', 'None')\n",
    "df = FillNACols(df, 'BsmtCond', 'None')\n",
    "df = FillNACols(df, 'BsmtFinType1', 'None')\n",
    "df = FillNACols(df, 'BsmtFinType2', 'None')\n",
    "\n",
    "## Remove Rows\n",
    "df = df = df[pd.notna(df['MasVnrType'])]\n",
    "df = df = df[pd.notna(df['Electrical'])]\n",
    "\n",
    "## Remove Columns\n",
    "cols_to_drop = ['GarageYrBlt', 'LotFrontage']\n",
    "try:\n",
    "    df.drop(columns=cols_to_drop, inplace=True)\n",
    "except:\n",
    "    print(\"Columns already dropped\")"
   ]
  },
  {
   "cell_type": "code",
   "execution_count": 32,
   "metadata": {
    "scrolled": false
   },
   "outputs": [],
   "source": [
    "# Update conf_dict to reflect the new df\n",
    "conf_dict['CategoricalColumns'] = list(set(conf_dict['CategoricalColumns']) - set(cols_to_drop))\n",
    "conf_dict['NumericalColumns'] = list(set(conf_dict['NumericalColumns']) - set(cols_to_drop))"
   ]
  },
  {
   "cell_type": "code",
   "execution_count": 33,
   "metadata": {
    "scrolled": true
   },
   "outputs": [
    {
     "data": {
      "text/html": [
       "<div>\n",
       "<style scoped>\n",
       "    .dataframe tbody tr th:only-of-type {\n",
       "        vertical-align: middle;\n",
       "    }\n",
       "\n",
       "    .dataframe tbody tr th {\n",
       "        vertical-align: top;\n",
       "    }\n",
       "\n",
       "    .dataframe thead th {\n",
       "        text-align: right;\n",
       "    }\n",
       "</style>\n",
       "<table border=\"1\" class=\"dataframe\">\n",
       "  <thead>\n",
       "    <tr style=\"text-align: right;\">\n",
       "      <th></th>\n",
       "      <th>BsmtFullBath</th>\n",
       "      <th>Functional</th>\n",
       "      <th>OverallCond</th>\n",
       "      <th>Electrical</th>\n",
       "      <th>GrLivArea</th>\n",
       "      <th>GarageFinish</th>\n",
       "      <th>Neighborhood</th>\n",
       "      <th>3SsnPorch</th>\n",
       "      <th>BldgType</th>\n",
       "      <th>BsmtQual</th>\n",
       "      <th>...</th>\n",
       "      <th>GarageCars</th>\n",
       "      <th>BedroomAbvGr</th>\n",
       "      <th>GarageCond</th>\n",
       "      <th>HeatingQC</th>\n",
       "      <th>2ndFlrSF</th>\n",
       "      <th>PoolArea</th>\n",
       "      <th>HouseStyle</th>\n",
       "      <th>ExterCond</th>\n",
       "      <th>YearBuilt</th>\n",
       "      <th>LowQualFinSF</th>\n",
       "    </tr>\n",
       "  </thead>\n",
       "  <tbody>\n",
       "    <tr>\n",
       "      <th>0</th>\n",
       "      <td>1</td>\n",
       "      <td>Typ</td>\n",
       "      <td>5</td>\n",
       "      <td>SBrkr</td>\n",
       "      <td>7.444254</td>\n",
       "      <td>RFn</td>\n",
       "      <td>CollgCr</td>\n",
       "      <td>0</td>\n",
       "      <td>1Fam</td>\n",
       "      <td>Gd</td>\n",
       "      <td>...</td>\n",
       "      <td>2</td>\n",
       "      <td>3</td>\n",
       "      <td>TA</td>\n",
       "      <td>Ex</td>\n",
       "      <td>6.749943</td>\n",
       "      <td>0</td>\n",
       "      <td>2Story</td>\n",
       "      <td>TA</td>\n",
       "      <td>2003</td>\n",
       "      <td>0</td>\n",
       "    </tr>\n",
       "    <tr>\n",
       "      <th>1</th>\n",
       "      <td>0</td>\n",
       "      <td>Typ</td>\n",
       "      <td>8</td>\n",
       "      <td>SBrkr</td>\n",
       "      <td>7.140461</td>\n",
       "      <td>RFn</td>\n",
       "      <td>Veenker</td>\n",
       "      <td>0</td>\n",
       "      <td>1Fam</td>\n",
       "      <td>Gd</td>\n",
       "      <td>...</td>\n",
       "      <td>2</td>\n",
       "      <td>3</td>\n",
       "      <td>TA</td>\n",
       "      <td>Ex</td>\n",
       "      <td>-4.605170</td>\n",
       "      <td>0</td>\n",
       "      <td>1Story</td>\n",
       "      <td>TA</td>\n",
       "      <td>1976</td>\n",
       "      <td>0</td>\n",
       "    </tr>\n",
       "    <tr>\n",
       "      <th>2</th>\n",
       "      <td>1</td>\n",
       "      <td>Typ</td>\n",
       "      <td>5</td>\n",
       "      <td>SBrkr</td>\n",
       "      <td>7.487739</td>\n",
       "      <td>RFn</td>\n",
       "      <td>CollgCr</td>\n",
       "      <td>0</td>\n",
       "      <td>1Fam</td>\n",
       "      <td>Gd</td>\n",
       "      <td>...</td>\n",
       "      <td>2</td>\n",
       "      <td>3</td>\n",
       "      <td>TA</td>\n",
       "      <td>Ex</td>\n",
       "      <td>6.763896</td>\n",
       "      <td>0</td>\n",
       "      <td>2Story</td>\n",
       "      <td>TA</td>\n",
       "      <td>2001</td>\n",
       "      <td>0</td>\n",
       "    </tr>\n",
       "    <tr>\n",
       "      <th>3</th>\n",
       "      <td>1</td>\n",
       "      <td>Typ</td>\n",
       "      <td>5</td>\n",
       "      <td>SBrkr</td>\n",
       "      <td>7.448340</td>\n",
       "      <td>Unf</td>\n",
       "      <td>Crawfor</td>\n",
       "      <td>0</td>\n",
       "      <td>1Fam</td>\n",
       "      <td>TA</td>\n",
       "      <td>...</td>\n",
       "      <td>3</td>\n",
       "      <td>3</td>\n",
       "      <td>TA</td>\n",
       "      <td>Gd</td>\n",
       "      <td>6.628055</td>\n",
       "      <td>0</td>\n",
       "      <td>2Story</td>\n",
       "      <td>TA</td>\n",
       "      <td>1915</td>\n",
       "      <td>0</td>\n",
       "    </tr>\n",
       "    <tr>\n",
       "      <th>4</th>\n",
       "      <td>1</td>\n",
       "      <td>Typ</td>\n",
       "      <td>5</td>\n",
       "      <td>SBrkr</td>\n",
       "      <td>7.695308</td>\n",
       "      <td>RFn</td>\n",
       "      <td>NoRidge</td>\n",
       "      <td>0</td>\n",
       "      <td>1Fam</td>\n",
       "      <td>Gd</td>\n",
       "      <td>...</td>\n",
       "      <td>3</td>\n",
       "      <td>4</td>\n",
       "      <td>TA</td>\n",
       "      <td>Ex</td>\n",
       "      <td>6.959408</td>\n",
       "      <td>0</td>\n",
       "      <td>2Story</td>\n",
       "      <td>TA</td>\n",
       "      <td>2000</td>\n",
       "      <td>0</td>\n",
       "    </tr>\n",
       "  </tbody>\n",
       "</table>\n",
       "<p>5 rows × 79 columns</p>\n",
       "</div>"
      ],
      "text/plain": [
       "   BsmtFullBath Functional  OverallCond Electrical  GrLivArea GarageFinish  \\\n",
       "0             1        Typ            5      SBrkr   7.444254          RFn   \n",
       "1             0        Typ            8      SBrkr   7.140461          RFn   \n",
       "2             1        Typ            5      SBrkr   7.487739          RFn   \n",
       "3             1        Typ            5      SBrkr   7.448340          Unf   \n",
       "4             1        Typ            5      SBrkr   7.695308          RFn   \n",
       "\n",
       "  Neighborhood  3SsnPorch BldgType BsmtQual     ...      GarageCars  \\\n",
       "0      CollgCr          0     1Fam       Gd     ...               2   \n",
       "1      Veenker          0     1Fam       Gd     ...               2   \n",
       "2      CollgCr          0     1Fam       Gd     ...               2   \n",
       "3      Crawfor          0     1Fam       TA     ...               3   \n",
       "4      NoRidge          0     1Fam       Gd     ...               3   \n",
       "\n",
       "   BedroomAbvGr  GarageCond  HeatingQC  2ndFlrSF  PoolArea HouseStyle  \\\n",
       "0             3          TA         Ex  6.749943         0     2Story   \n",
       "1             3          TA         Ex -4.605170         0     1Story   \n",
       "2             3          TA         Ex  6.763896         0     2Story   \n",
       "3             3          TA         Gd  6.628055         0     2Story   \n",
       "4             4          TA         Ex  6.959408         0     2Story   \n",
       "\n",
       "   ExterCond YearBuilt LowQualFinSF  \n",
       "0         TA      2003            0  \n",
       "1         TA      1976            0  \n",
       "2         TA      2001            0  \n",
       "3         TA      1915            0  \n",
       "4         TA      2000            0  \n",
       "\n",
       "[5 rows x 79 columns]"
      ]
     },
     "execution_count": 33,
     "metadata": {},
     "output_type": "execute_result"
    }
   ],
   "source": [
    "df.head()"
   ]
  },
  {
   "cell_type": "code",
   "execution_count": 34,
   "metadata": {},
   "outputs": [
    {
     "data": {
      "text/plain": [
       "{'CategoricalColumns': ['Functional',\n",
       "  'Electrical',\n",
       "  'GarageFinish',\n",
       "  'Neighborhood',\n",
       "  'BldgType',\n",
       "  'BsmtQual',\n",
       "  'GarageQual',\n",
       "  'BsmtFinType1',\n",
       "  'SaleCondition',\n",
       "  'FireplaceQu',\n",
       "  'BsmtExposure',\n",
       "  'CentralAir',\n",
       "  'MSZoning',\n",
       "  'Foundation',\n",
       "  'BsmtCond',\n",
       "  'Street',\n",
       "  'SaleType',\n",
       "  'RoofStyle',\n",
       "  'Exterior1st',\n",
       "  'PoolQC',\n",
       "  'GarageType',\n",
       "  'LotConfig',\n",
       "  'Fence',\n",
       "  'MiscFeature',\n",
       "  'LandContour',\n",
       "  'Condition1',\n",
       "  'Utilities',\n",
       "  'LandSlope',\n",
       "  'Heating',\n",
       "  'PavedDrive',\n",
       "  'Exterior2nd',\n",
       "  'RoofMatl',\n",
       "  'KitchenQual',\n",
       "  'LotShape',\n",
       "  'Alley',\n",
       "  'BsmtFinType2',\n",
       "  'MasVnrType',\n",
       "  'Condition2',\n",
       "  'ExterQual',\n",
       "  'GarageCond',\n",
       "  'HeatingQC',\n",
       "  'HouseStyle',\n",
       "  'ExterCond'],\n",
       " 'DataFilePath': 'idear_data.csv',\n",
       " 'NumericalColumns': ['BsmtFullBath',\n",
       "  'OverallCond',\n",
       "  'GrLivArea',\n",
       "  '3SsnPorch',\n",
       "  'YrSold',\n",
       "  'GarageArea',\n",
       "  'TotalBsmtSF',\n",
       "  'MiscVal',\n",
       "  'MSSubClass',\n",
       "  'OpenPorchSF',\n",
       "  'BsmtUnfSF',\n",
       "  'MasVnrArea',\n",
       "  'Fireplaces',\n",
       "  'MoSold',\n",
       "  '1stFlrSF',\n",
       "  'EnclosedPorch',\n",
       "  'BsmtFinSF2',\n",
       "  'BsmtHalfBath',\n",
       "  'GarageCars',\n",
       "  'TotRmsAbvGrd',\n",
       "  'LotArea',\n",
       "  'OverallQual',\n",
       "  'BsmtFinSF1',\n",
       "  'YearBuilt',\n",
       "  'ScreenPorch',\n",
       "  'KitchenAbvGr',\n",
       "  'SalePrice',\n",
       "  'YearRemodAdd',\n",
       "  'tax_assessment',\n",
       "  'WoodDeckSF',\n",
       "  'BedroomAbvGr',\n",
       "  '2ndFlrSF',\n",
       "  'PoolArea',\n",
       "  'HalfBath',\n",
       "  'FullBath',\n",
       "  'LowQualFinSF'],\n",
       " 'Target': 'SalePrice',\n",
       " 'OriginalNumericalColumns': ['MSSubClass',\n",
       "  'LotArea',\n",
       "  'OverallQual',\n",
       "  'OverallCond',\n",
       "  'YearBuilt',\n",
       "  'YearRemodAdd',\n",
       "  'MasVnrArea',\n",
       "  'BsmtFinSF1',\n",
       "  'BsmtFinSF2',\n",
       "  'BsmtUnfSF',\n",
       "  'TotalBsmtSF',\n",
       "  '1stFlrSF',\n",
       "  '2ndFlrSF',\n",
       "  'LowQualFinSF',\n",
       "  'GrLivArea',\n",
       "  'BsmtFullBath',\n",
       "  'BsmtHalfBath',\n",
       "  'FullBath',\n",
       "  'HalfBath',\n",
       "  'BedroomAbvGr',\n",
       "  'KitchenAbvGr',\n",
       "  'TotRmsAbvGrd',\n",
       "  'Fireplaces',\n",
       "  'GarageCars',\n",
       "  'GarageArea',\n",
       "  'WoodDeckSF',\n",
       "  'OpenPorchSF',\n",
       "  'EnclosedPorch',\n",
       "  '3SsnPorch',\n",
       "  'ScreenPorch',\n",
       "  'PoolArea',\n",
       "  'MiscVal',\n",
       "  'MoSold',\n",
       "  'YrSold',\n",
       "  'SalePrice',\n",
       "  'tax_assessment'],\n",
       " 'OriginalCategoricalColumns': ['MSZoning',\n",
       "  'Street',\n",
       "  'Alley',\n",
       "  'LotShape',\n",
       "  'LandContour',\n",
       "  'Utilities',\n",
       "  'LotConfig',\n",
       "  'LandSlope',\n",
       "  'Neighborhood',\n",
       "  'Condition1',\n",
       "  'Condition2',\n",
       "  'BldgType',\n",
       "  'HouseStyle',\n",
       "  'RoofStyle',\n",
       "  'RoofMatl',\n",
       "  'Exterior1st',\n",
       "  'Exterior2nd',\n",
       "  'MasVnrType',\n",
       "  'ExterQual',\n",
       "  'ExterCond',\n",
       "  'Foundation',\n",
       "  'BsmtQual',\n",
       "  'BsmtCond',\n",
       "  'BsmtExposure',\n",
       "  'BsmtFinType1',\n",
       "  'BsmtFinType2',\n",
       "  'Heating',\n",
       "  'HeatingQC',\n",
       "  'CentralAir',\n",
       "  'Electrical',\n",
       "  'KitchenQual',\n",
       "  'Functional',\n",
       "  'FireplaceQu',\n",
       "  'GarageType',\n",
       "  'GarageFinish',\n",
       "  'GarageQual',\n",
       "  'GarageCond',\n",
       "  'PavedDrive',\n",
       "  'PoolQC',\n",
       "  'Fence',\n",
       "  'MiscFeature',\n",
       "  'SaleType',\n",
       "  'SaleCondition']}"
      ]
     },
     "execution_count": 34,
     "metadata": {},
     "output_type": "execute_result"
    }
   ],
   "source": [
    "conf_dict"
   ]
  },
  {
   "cell_type": "code",
   "execution_count": 35,
   "metadata": {},
   "outputs": [
    {
     "name": "stdout",
     "output_type": "stream",
     "text": [
      "Confirm Filter Application\n"
     ]
    },
    {
     "data": {
      "application/vnd.jupyter.widget-view+json": {
       "model_id": "cb6297cb695b4f78aac1e015b6ac257a",
       "version_major": 2,
       "version_minor": 0
      },
      "text/plain": [
       "Button(description='Apply', style=ButtonStyle())"
      ]
     },
     "metadata": {},
     "output_type": "display_data"
    }
   ],
   "source": [
    "# Re-run all cells below\n",
    "def run_all(ev):\n",
    "    display(Javascript('IPython.notebook.execute_cells_below()'))\n",
    "\n",
    "print(\"Confirm Filter Application\")\n",
    "button_rerun = widgets.Button(description=\"Apply\")\n",
    "button_rerun.on_click(run_all)\n",
    "display(button_rerun)"
   ]
  },
  {
   "cell_type": "markdown",
   "metadata": {},
   "source": [
    "## 2.2 Log Transformations\n",
    "It may be necesarry to transform certain columns. In particular, it is common to log-transform numerical columns to ensure a normal distribution. If a feature fails the normality tests below, try creating a log-transformed version of that feature here- this version may pass a normality test.\n",
    "\n",
    "Note: When a column is log-transformed, the original column (e.g. \"Age\") is replaced by the transformed version (\"Age_log\"). If you decide not to use the transformation, simply re-run this section with your column de-selected to restore the original version."
   ]
  },
  {
   "cell_type": "code",
   "execution_count": 36,
   "metadata": {},
   "outputs": [
    {
     "data": {
      "application/vnd.jupyter.widget-view+json": {
       "model_id": "90bbb7adda334c7499c46d08fbf3a9be",
       "version_major": 2,
       "version_minor": 0
      },
      "text/plain": [
       "SelectMultiple(description='Select Column(s)', layout=Layout(display='flex', flex_flow='column'), options=('Bs…"
      ]
     },
     "metadata": {},
     "output_type": "display_data"
    },
    {
     "data": {
      "application/vnd.jupyter.widget-view+json": {
       "model_id": "0b814d7f0e6b42ca9a543ff194518304",
       "version_major": 2,
       "version_minor": 0
      },
      "text/plain": [
       "Button(description='Add Transforms', style=ButtonStyle())"
      ]
     },
     "metadata": {},
     "output_type": "display_data"
    },
    {
     "data": {
      "application/vnd.jupyter.widget-view+json": {
       "model_id": "da9444adcf844b78a236338157791fa1",
       "version_major": 2,
       "version_minor": 0
      },
      "text/plain": [
       "Output()"
      ]
     },
     "metadata": {},
     "output_type": "display_data"
    }
   ],
   "source": [
    "# Reset values\n",
    "df_xform = copy.deepcopy(df)\n",
    "# conf_dict['NumericalColumns'] = copy.deepcopy(conf_dict['OriginalNumericalColumns'])\n",
    "log_transforms = {}\n",
    "\n",
    "# Define a multiple-select list to select columns for transformation\n",
    "log_list = widgets.SelectMultiple(\n",
    "    options=conf_dict['NumericalColumns'],\n",
    "    description='Select Column(s)',\n",
    "    disabled=False,\n",
    "    layout=Layout(display=\"flex\", flex_flow='column')\n",
    ")\n",
    "\n",
    "display(log_list)\n",
    "\n",
    "# And a button to execute the transform\n",
    "out_log = Output()\n",
    "with out_log:\n",
    "        clear_output()\n",
    "\n",
    "def apply_log(ev):\n",
    "    for feature in log_list.value:\n",
    "        # Create new feature\n",
    "        new_feature = feature + '_log'\n",
    "        df_xform[new_feature] = np.log1p(df_xform[feature])\n",
    "        conf_dict['NumericalColumns'].append(new_feature)\n",
    "        # Drop untransformed feature\n",
    "#         conf_dict['NumericalColumns'].remove(feature)\n",
    "#         df_xform.drop([feature], axis = 1, inplace = True)\n",
    "        log_transforms.update({new_feature: {'type': 'log1p', 'source_feature': feature}})\n",
    "        with out_log: \n",
    "            print(\"Generated log transform of \" + feature + \": \" + new_feature)\n",
    "            print(\"Removed \" + feature + \" from numerical features\")\n",
    "\n",
    "            \n",
    "\n",
    "\n",
    "button_log = widgets.Button(description=\"Add Transforms\")\n",
    "button_log.on_click(apply_log)\n",
    "display(button_log)\n",
    "\n",
    "display(out_log)"
   ]
  },
  {
   "cell_type": "code",
   "execution_count": 37,
   "metadata": {},
   "outputs": [
    {
     "name": "stdout",
     "output_type": "stream",
     "text": [
      "Apply log transforms to notebook\n"
     ]
    },
    {
     "data": {
      "application/vnd.jupyter.widget-view+json": {
       "model_id": "cb6297cb695b4f78aac1e015b6ac257a",
       "version_major": 2,
       "version_minor": 0
      },
      "text/plain": [
       "Button(description='Apply', style=ButtonStyle())"
      ]
     },
     "metadata": {},
     "output_type": "display_data"
    }
   ],
   "source": [
    "print(\"Apply log transforms to notebook\")\n",
    "display(button_rerun)"
   ]
  },
  {
   "cell_type": "markdown",
   "metadata": {},
   "source": [
    "## 2.3 Discretization\n",
    "In some cases, it may be beneficial to bin numerical values. This can be achieved in the following section. Binning will add columns with an appended *_bin* label."
   ]
  },
  {
   "cell_type": "code",
   "execution_count": 38,
   "metadata": {},
   "outputs": [
    {
     "data": {
      "application/vnd.jupyter.widget-view+json": {
       "model_id": "8bdeaa9a29874810a83be742b0d1a272",
       "version_major": 2,
       "version_minor": 0
      },
      "text/plain": [
       "Dropdown(description='Feature:', options=('BsmtFullBath', 'OverallCond', 'GrLivArea', '3SsnPorch', 'YrSold', '…"
      ]
     },
     "metadata": {},
     "output_type": "display_data"
    },
    {
     "data": {
      "application/vnd.jupyter.widget-view+json": {
       "model_id": "9abcc0f8080a4a7fbc202c96509c38b0",
       "version_major": 2,
       "version_minor": 0
      },
      "text/plain": [
       "IntSlider(value=4, description='Number of Bins', min=2)"
      ]
     },
     "metadata": {},
     "output_type": "display_data"
    },
    {
     "data": {
      "application/vnd.jupyter.widget-view+json": {
       "model_id": "69f91e4bc39b459baa618616e4a08b79",
       "version_major": 2,
       "version_minor": 0
      },
      "text/plain": [
       "Button(description='Apply Discretization', style=ButtonStyle())"
      ]
     },
     "metadata": {},
     "output_type": "display_data"
    },
    {
     "data": {
      "application/vnd.jupyter.widget-view+json": {
       "model_id": "6a03bfb05e9140d79703660ee83696fa",
       "version_major": 2,
       "version_minor": 0
      },
      "text/plain": [
       "Output()"
      ]
     },
     "metadata": {},
     "output_type": "display_data"
    }
   ],
   "source": [
    "df_binned = copy.deepcopy(df_xform)\n",
    "conf_dict['CategoricalColumns'] = copy.deepcopy(conf_dict['OriginalCategoricalColumns'])\n",
    "\n",
    "# Prep a clean-sheet output to reflect transforms being applied\n",
    "out_disc = Output()\n",
    "with out_disc:\n",
    "        clear_output()\n",
    "\n",
    "# Define a multiple-select list to select columns for transformation\n",
    "feature_list = widgets.Dropdown(\n",
    "    options=conf_dict['NumericalColumns'],\n",
    "    description='Feature:'\n",
    ")\n",
    "\n",
    "bincount = widgets.IntSlider(\n",
    "    min=2, max=100,\n",
    "    step=1, value=4,\n",
    "    description='Number of Bins')\n",
    "\n",
    "display(feature_list)\n",
    "display(bincount)\n",
    "\n",
    "\n",
    "\n",
    "# Pre-allocate dict to log transformations\n",
    "bin_transforms = {}\n",
    "\n",
    "# And a button to execute the transform\n",
    "def apply_bin(ev):\n",
    "    # Create new feature\n",
    "    feature = feature_list.value\n",
    "    new_feature = feature + '_bin'\n",
    "    # Create the binned feature\n",
    "    df_binned[new_feature] = pd.qcut(df_binned[feature], bincount.value, duplicates = 'drop')\n",
    "    # Add the feature \n",
    "    conf_dict['CategoricalColumns'].append(new_feature)\n",
    "    with out_disc: \n",
    "        print(\"Generated binned version of \" + feature + \": \" + new_feature)\n",
    "    # Update the log\n",
    "    bin_transforms.update({new_feature: {'bin_count': bincount.value, 'source_feature': feature}})\n",
    "            \n",
    "\n",
    "\n",
    "button_bin = widgets.Button(description=\"Apply Discretization\")\n",
    "button_bin.on_click(apply_bin)\n",
    "display(button_bin)\n",
    "\n",
    "display(out_disc)"
   ]
  },
  {
   "cell_type": "code",
   "execution_count": 39,
   "metadata": {},
   "outputs": [
    {
     "name": "stdout",
     "output_type": "stream",
     "text": [
      "Apply binning to notebook\n"
     ]
    },
    {
     "data": {
      "application/vnd.jupyter.widget-view+json": {
       "model_id": "cb6297cb695b4f78aac1e015b6ac257a",
       "version_major": 2,
       "version_minor": 0
      },
      "text/plain": [
       "Button(description='Apply', style=ButtonStyle())"
      ]
     },
     "metadata": {},
     "output_type": "display_data"
    }
   ],
   "source": [
    "print(\"Apply binning to notebook\")\n",
    "display(button_rerun)"
   ]
  },
  {
   "cell_type": "markdown",
   "metadata": {},
   "source": [
    "## 2.4 Export Transformations\n",
    "\n",
    "The transformations specified in the sub-sections of section 2 are automatically exported to a YAML file for reproducibility. See \"transformation_logs.yaml\" in your working directory for a record of transformations."
   ]
  },
  {
   "cell_type": "code",
   "execution_count": 40,
   "metadata": {},
   "outputs": [
    {
     "name": "stdout",
     "output_type": "stream",
     "text": [
      "Exported transformation log to ./transformation_logs.yaml\n",
      "\n",
      "=========================== \n",
      "Transformation Log: \n",
      "{}\n"
     ]
    }
   ],
   "source": [
    "transforms = {}\n",
    "           \n",
    "            \n",
    "# Get log transforms\n",
    "for i in log_transforms:\n",
    "    if i in transforms:\n",
    "        transforms[i].update({'log': log_transforms[i]})\n",
    "    else:\n",
    "        transforms.update({i:{'log': log_transforms[i]}})\n",
    "\n",
    "\n",
    "\n",
    "# Get binning transforms\n",
    "for i in bin_transforms:\n",
    "    if i in transforms:\n",
    "        transforms[i].update({'discretize': bin_transforms[i]})\n",
    "    else:\n",
    "        transforms.update({i:{'discretize': bin_transforms[i]}})\n",
    "\n",
    "\n",
    "# Sort by keys\n",
    "transforms = dict(collections.OrderedDict(sorted(transforms.items())))\n",
    "\n",
    "# Save transformations to yaml\n",
    "with open('transformation_logs.yaml', 'w') as outfile:\n",
    "    yaml.dump(transforms, outfile, default_flow_style=False)\n",
    "    \n",
    "print(\"Exported transformation log to ./transformation_logs.yaml\")\n",
    "print(\"\\n=========================== \\nTransformation Log: \")\n",
    "print(transforms)"
   ]
  },
  {
   "cell_type": "markdown",
   "metadata": {},
   "source": [
    "---------------------------------------\n",
    "\n",
    "# 3.0 Summaries"
   ]
  },
  {
   "cell_type": "code",
   "execution_count": 41,
   "metadata": {
    "scrolled": false
   },
   "outputs": [
    {
     "data": {
      "text/html": [
       "<ul><li>Target variable is SalePrice</li><li>Numerical Columns are BsmtFullBath, \n",
       "OverallCond, \n",
       "GrLivArea, \n",
       "3SsnPorch, \n",
       "YrSold, \n",
       "GarageArea, \n",
       "TotalBsmtSF, \n",
       "MiscVal, \n",
       "MSSubClass, \n",
       "OpenPorchSF, \n",
       "BsmtUnfSF, \n",
       "MasVnrArea, \n",
       "Fireplaces, \n",
       "MoSold, \n",
       "1stFlrSF, \n",
       "EnclosedPorch, \n",
       "BsmtFinSF2, \n",
       "BsmtHalfBath, \n",
       "GarageCars, \n",
       "TotRmsAbvGrd, \n",
       "LotArea, \n",
       "OverallQual, \n",
       "BsmtFinSF1, \n",
       "YearBuilt, \n",
       "ScreenPorch, \n",
       "KitchenAbvGr, \n",
       "SalePrice, \n",
       "YearRemodAdd, \n",
       "tax_assessment, \n",
       "WoodDeckSF, \n",
       "BedroomAbvGr, \n",
       "2ndFlrSF, \n",
       "PoolArea, \n",
       "HalfBath, \n",
       "FullBath, \n",
       "LowQualFinSF</li><li>Categorical Columns are Utilities, \n",
       "Street, \n",
       "SaleType, \n",
       "SaleCondition, \n",
       "RoofStyle, \n",
       "RoofMatl, \n",
       "PoolQC, \n",
       "PavedDrive, \n",
       "Neighborhood, \n",
       "MiscFeature, \n",
       "MasVnrType, \n",
       "MSZoning, \n",
       "LotShape, \n",
       "LotConfig, \n",
       "LandSlope, \n",
       "LandContour, \n",
       "KitchenQual, \n",
       "HouseStyle, \n",
       "HeatingQC, \n",
       "Heating, \n",
       "GarageType, \n",
       "GarageQual, \n",
       "GarageFinish, \n",
       "GarageCond, \n",
       "Functional, \n",
       "Foundation, \n",
       "FireplaceQu, \n",
       "Fence, \n",
       "Exterior2nd, \n",
       "Exterior1st, \n",
       "ExterQual, \n",
       "ExterCond, \n",
       "Electrical, \n",
       "Condition2, \n",
       "Condition1, \n",
       "CentralAir, \n",
       "BsmtQual, \n",
       "BsmtFinType2, \n",
       "BsmtFinType1, \n",
       "BsmtExposure, \n",
       "BsmtCond, \n",
       "BldgType, \n",
       "Alley</li></ul>"
      ],
      "text/plain": [
       "<IPython.core.display.HTML object>"
      ]
     },
     "execution_count": 41,
     "metadata": {},
     "output_type": "execute_result"
    }
   ],
   "source": [
    "# Sampling Data if data size is larger than 10k\n",
    "df0 = df_binned # df0 is the unsampled data. Will be used in data exploration and analysis where sampling is not needed\n",
    "         # However, keep in mind that your final report will always be based on the sampled data. \n",
    "    \n",
    "\n",
    "if Sample_Size < df_binned.shape[0]:\n",
    "    df = df_binned.sample(Sample_Size)\n",
    "else:\n",
    "    df = df_binned\n",
    "\n",
    "# change float data types\n",
    "if 'FloatDataTypes' in conf_dict:   \n",
    "    for col_name in conf_dict['FloatDataTypes']:\n",
    "        df[col_name] = df[col_name].astype(float)      \n",
    "        \n",
    "# Getting the list of categorical columns if it was not there in the yaml file\n",
    "if 'CategoricalColumns' not in conf_dict:\n",
    "    conf_dict['CategoricalColumns'] = list(set(list(df.select_dtypes(exclude=[np.number]).columns)))\n",
    "\n",
    "# Getting the list of numerical columns if it was not there in the yaml file\n",
    "if 'NumericalColumns' not in conf_dict:\n",
    "    conf_dict['NumericalColumns'] = list(df.select_dtypes(include=[np.number]).columns)    \n",
    "\n",
    "# Exclude columns that we do not need\n",
    "if 'ColumnsToExclude' in conf_dict:\n",
    "    conf_dict['CategoricalColumns'] = list(set(conf_dict['CategoricalColumns'])-set(conf_dict['ColumnsToExclude']))\n",
    "    conf_dict['NumericalColumns'] = list(set(conf_dict['NumericalColumns'])-set(conf_dict['ColumnsToExclude']))\n",
    "\n",
    "# Ordering the categorical variables according to the number of unique categories\n",
    "filtered_cat_columns = []\n",
    "temp_dict = {}\n",
    "for cat_var in conf_dict['CategoricalColumns']:\n",
    "    temp_dict[cat_var] = len(np.unique(df[cat_var].dropna()))\n",
    "sorted_x = sorted(temp_dict.items(), key=operator.itemgetter(0), reverse=True)\n",
    "conf_dict['CategoricalColumns'] = [x for (x,y) in sorted_x]\n",
    "\n",
    "ConfUtility.dict_to_htmllist(conf_dict,['Target','CategoricalColumns','NumericalColumns'])"
   ]
  },
  {
   "cell_type": "markdown",
   "metadata": {
    "collapsed": true
   },
   "source": [
    "## 3.2 Dimensions"
   ]
  },
  {
   "cell_type": "code",
   "execution_count": 42,
   "metadata": {
    "scrolled": false
   },
   "outputs": [
    {
     "name": "stdout",
     "output_type": "stream",
     "text": [
      "The data has 1451 Rows and 79 columns\n"
     ]
    }
   ],
   "source": [
    "print ('The data has {} Rows and {} columns'.format(df0.shape[0],df0.shape[1]))"
   ]
  },
  {
   "cell_type": "markdown",
   "metadata": {
    "collapsed": true
   },
   "source": [
    "## 3.3 Print the column types"
   ]
  },
  {
   "cell_type": "code",
   "execution_count": 43,
   "metadata": {
    "scrolled": false
   },
   "outputs": [
    {
     "name": "stdout",
     "output_type": "stream",
     "text": [
      "The types of columns are:\n"
     ]
    },
    {
     "data": {
      "text/plain": [
       "BsmtFullBath        int64\n",
       "Functional         object\n",
       "OverallCond         int64\n",
       "Electrical         object\n",
       "GrLivArea         float64\n",
       "GarageFinish       object\n",
       "Neighborhood       object\n",
       "3SsnPorch           int64\n",
       "BldgType           object\n",
       "BsmtQual           object\n",
       "GarageQual         object\n",
       "YrSold              int64\n",
       "GarageArea          int64\n",
       "TotalBsmtSF         int64\n",
       "BsmtFinType1       object\n",
       "MiscVal             int64\n",
       "SaleCondition      object\n",
       "MSSubClass          int64\n",
       "FireplaceQu        object\n",
       "BsmtExposure       object\n",
       "CentralAir         object\n",
       "MSZoning           object\n",
       "Foundation         object\n",
       "BsmtCond           object\n",
       "BsmtUnfSF           int64\n",
       "MasVnrArea        float64\n",
       "HalfBath            int64\n",
       "Fireplaces          int64\n",
       "OpenPorchSF         int64\n",
       "Street             object\n",
       "                   ...   \n",
       "BsmtFinSF1          int64\n",
       "TotRmsAbvGrd        int64\n",
       "LandSlope          object\n",
       "Heating            object\n",
       "PavedDrive         object\n",
       "Exterior2nd        object\n",
       "ScreenPorch         int64\n",
       "KitchenAbvGr        int64\n",
       "SalePrice         float64\n",
       "RoofMatl           object\n",
       "KitchenQual        object\n",
       "LotShape           object\n",
       "YearRemodAdd        int64\n",
       "tax_assessment      int64\n",
       "Alley              object\n",
       "BsmtFinType2       object\n",
       "MasVnrType         object\n",
       "WoodDeckSF          int64\n",
       "Condition2         object\n",
       "ExterQual          object\n",
       "GarageCars          int64\n",
       "BedroomAbvGr        int64\n",
       "GarageCond         object\n",
       "HeatingQC          object\n",
       "2ndFlrSF          float64\n",
       "PoolArea            int64\n",
       "HouseStyle         object\n",
       "ExterCond          object\n",
       "YearBuilt           int64\n",
       "LowQualFinSF        int64\n",
       "Length: 79, dtype: object"
      ]
     },
     "execution_count": 43,
     "metadata": {},
     "output_type": "execute_result"
    }
   ],
   "source": [
    "print(\"The types of columns are:\")\n",
    "df.dtypes"
   ]
  },
  {
   "cell_type": "markdown",
   "metadata": {
    "collapsed": true
   },
   "source": [
    "##  3.4 Extract Descriptive Statistics of Each Column"
   ]
  },
  {
   "cell_type": "code",
   "execution_count": 44,
   "metadata": {
    "scrolled": false
   },
   "outputs": [],
   "source": [
    "def num_missing(x):\n",
    "    return len(x.index)-x.count()\n",
    "\n",
    "def num_unique(x):\n",
    "    return len(np.unique(x.dropna()))\n",
    "\n",
    "\n",
    "temp_df = df0.describe().T\n",
    "\n",
    "sum_df = pd.DataFrame(df0.sum(numeric_only = True))\n",
    "sum_df.columns = ['sum']\n",
    "\n",
    "missing_df = pd.DataFrame(df0.apply(num_missing, axis=0)) \n",
    "missing_df.columns = ['missing']\n",
    "\n",
    "unq_df = pd.DataFrame(df0.apply(num_unique, axis=0))\n",
    "unq_df.columns = ['unique']\n",
    "\n",
    "types_df = pd.DataFrame(df0.dtypes)\n",
    "types_df.columns = ['DataType']"
   ]
  },
  {
   "cell_type": "markdown",
   "metadata": {
    "collapsed": true
   },
   "source": [
    "### 3.4.1 Numerical Columns:"
   ]
  },
  {
   "cell_type": "code",
   "execution_count": 45,
   "metadata": {
    "scrolled": false
   },
   "outputs": [
    {
     "data": {
      "text/html": [
       "<div>\n",
       "<style scoped>\n",
       "    .dataframe tbody tr th:only-of-type {\n",
       "        vertical-align: middle;\n",
       "    }\n",
       "\n",
       "    .dataframe tbody tr th {\n",
       "        vertical-align: top;\n",
       "    }\n",
       "\n",
       "    .dataframe thead th {\n",
       "        text-align: right;\n",
       "    }\n",
       "</style>\n",
       "<table border=\"1\" class=\"dataframe\">\n",
       "  <thead>\n",
       "    <tr style=\"text-align: right;\">\n",
       "      <th></th>\n",
       "      <th>count</th>\n",
       "      <th>mean</th>\n",
       "      <th>std</th>\n",
       "      <th>min</th>\n",
       "      <th>25%</th>\n",
       "      <th>50%</th>\n",
       "      <th>75%</th>\n",
       "      <th>max</th>\n",
       "      <th>sum</th>\n",
       "      <th>missing</th>\n",
       "      <th>unique</th>\n",
       "      <th>DataType</th>\n",
       "    </tr>\n",
       "  </thead>\n",
       "  <tbody>\n",
       "    <tr>\n",
       "      <th>BsmtFullBath</th>\n",
       "      <td>1451.0</td>\n",
       "      <td>0.423846</td>\n",
       "      <td>0.518842</td>\n",
       "      <td>0.000000</td>\n",
       "      <td>0.000000</td>\n",
       "      <td>0.000000</td>\n",
       "      <td>1.000000</td>\n",
       "      <td>3.000000</td>\n",
       "      <td>6.150000e+02</td>\n",
       "      <td>0</td>\n",
       "      <td>4</td>\n",
       "      <td>int64</td>\n",
       "    </tr>\n",
       "    <tr>\n",
       "      <th>OverallCond</th>\n",
       "      <td>1451.0</td>\n",
       "      <td>5.579600</td>\n",
       "      <td>1.113415</td>\n",
       "      <td>1.000000</td>\n",
       "      <td>5.000000</td>\n",
       "      <td>5.000000</td>\n",
       "      <td>6.000000</td>\n",
       "      <td>9.000000</td>\n",
       "      <td>8.096000e+03</td>\n",
       "      <td>0</td>\n",
       "      <td>9</td>\n",
       "      <td>int64</td>\n",
       "    </tr>\n",
       "    <tr>\n",
       "      <th>GrLivArea</th>\n",
       "      <td>1451.0</td>\n",
       "      <td>7.266823</td>\n",
       "      <td>0.333808</td>\n",
       "      <td>5.811171</td>\n",
       "      <td>7.028210</td>\n",
       "      <td>7.288935</td>\n",
       "      <td>7.482125</td>\n",
       "      <td>8.637996</td>\n",
       "      <td>1.054416e+04</td>\n",
       "      <td>0</td>\n",
       "      <td>858</td>\n",
       "      <td>float64</td>\n",
       "    </tr>\n",
       "    <tr>\n",
       "      <th>3SsnPorch</th>\n",
       "      <td>1451.0</td>\n",
       "      <td>3.430737</td>\n",
       "      <td>29.406940</td>\n",
       "      <td>0.000000</td>\n",
       "      <td>0.000000</td>\n",
       "      <td>0.000000</td>\n",
       "      <td>0.000000</td>\n",
       "      <td>508.000000</td>\n",
       "      <td>4.978000e+03</td>\n",
       "      <td>0</td>\n",
       "      <td>20</td>\n",
       "      <td>int64</td>\n",
       "    </tr>\n",
       "    <tr>\n",
       "      <th>YrSold</th>\n",
       "      <td>1451.0</td>\n",
       "      <td>2007.815300</td>\n",
       "      <td>1.329376</td>\n",
       "      <td>2006.000000</td>\n",
       "      <td>2007.000000</td>\n",
       "      <td>2008.000000</td>\n",
       "      <td>2009.000000</td>\n",
       "      <td>2010.000000</td>\n",
       "      <td>2.913340e+06</td>\n",
       "      <td>0</td>\n",
       "      <td>5</td>\n",
       "      <td>int64</td>\n",
       "    </tr>\n",
       "    <tr>\n",
       "      <th>GarageArea</th>\n",
       "      <td>1451.0</td>\n",
       "      <td>472.525155</td>\n",
       "      <td>214.171752</td>\n",
       "      <td>0.000000</td>\n",
       "      <td>327.500000</td>\n",
       "      <td>478.000000</td>\n",
       "      <td>576.000000</td>\n",
       "      <td>1418.000000</td>\n",
       "      <td>6.856340e+05</td>\n",
       "      <td>0</td>\n",
       "      <td>438</td>\n",
       "      <td>int64</td>\n",
       "    </tr>\n",
       "    <tr>\n",
       "      <th>TotalBsmtSF</th>\n",
       "      <td>1451.0</td>\n",
       "      <td>1056.310131</td>\n",
       "      <td>437.914609</td>\n",
       "      <td>0.000000</td>\n",
       "      <td>795.000000</td>\n",
       "      <td>991.000000</td>\n",
       "      <td>1297.500000</td>\n",
       "      <td>6110.000000</td>\n",
       "      <td>1.532706e+06</td>\n",
       "      <td>0</td>\n",
       "      <td>717</td>\n",
       "      <td>int64</td>\n",
       "    </tr>\n",
       "    <tr>\n",
       "      <th>MiscVal</th>\n",
       "      <td>1451.0</td>\n",
       "      <td>43.758787</td>\n",
       "      <td>497.648467</td>\n",
       "      <td>0.000000</td>\n",
       "      <td>0.000000</td>\n",
       "      <td>0.000000</td>\n",
       "      <td>0.000000</td>\n",
       "      <td>15500.000000</td>\n",
       "      <td>6.349400e+04</td>\n",
       "      <td>0</td>\n",
       "      <td>21</td>\n",
       "      <td>int64</td>\n",
       "    </tr>\n",
       "    <tr>\n",
       "      <th>MSSubClass</th>\n",
       "      <td>1451.0</td>\n",
       "      <td>56.933150</td>\n",
       "      <td>42.350366</td>\n",
       "      <td>20.000000</td>\n",
       "      <td>20.000000</td>\n",
       "      <td>50.000000</td>\n",
       "      <td>70.000000</td>\n",
       "      <td>190.000000</td>\n",
       "      <td>8.261000e+04</td>\n",
       "      <td>0</td>\n",
       "      <td>15</td>\n",
       "      <td>int64</td>\n",
       "    </tr>\n",
       "    <tr>\n",
       "      <th>BsmtUnfSF</th>\n",
       "      <td>1451.0</td>\n",
       "      <td>567.197105</td>\n",
       "      <td>442.209192</td>\n",
       "      <td>0.000000</td>\n",
       "      <td>222.000000</td>\n",
       "      <td>479.000000</td>\n",
       "      <td>808.000000</td>\n",
       "      <td>2336.000000</td>\n",
       "      <td>8.230030e+05</td>\n",
       "      <td>0</td>\n",
       "      <td>777</td>\n",
       "      <td>int64</td>\n",
       "    </tr>\n",
       "    <tr>\n",
       "      <th>MasVnrArea</th>\n",
       "      <td>1451.0</td>\n",
       "      <td>103.756720</td>\n",
       "      <td>181.108150</td>\n",
       "      <td>0.000000</td>\n",
       "      <td>0.000000</td>\n",
       "      <td>0.000000</td>\n",
       "      <td>166.000000</td>\n",
       "      <td>1600.000000</td>\n",
       "      <td>1.505510e+05</td>\n",
       "      <td>0</td>\n",
       "      <td>327</td>\n",
       "      <td>float64</td>\n",
       "    </tr>\n",
       "    <tr>\n",
       "      <th>HalfBath</th>\n",
       "      <td>1451.0</td>\n",
       "      <td>0.381116</td>\n",
       "      <td>0.502574</td>\n",
       "      <td>0.000000</td>\n",
       "      <td>0.000000</td>\n",
       "      <td>0.000000</td>\n",
       "      <td>1.000000</td>\n",
       "      <td>2.000000</td>\n",
       "      <td>5.530000e+02</td>\n",
       "      <td>0</td>\n",
       "      <td>3</td>\n",
       "      <td>int64</td>\n",
       "    </tr>\n",
       "    <tr>\n",
       "      <th>Fireplaces</th>\n",
       "      <td>1451.0</td>\n",
       "      <td>0.612681</td>\n",
       "      <td>0.643443</td>\n",
       "      <td>0.000000</td>\n",
       "      <td>0.000000</td>\n",
       "      <td>1.000000</td>\n",
       "      <td>1.000000</td>\n",
       "      <td>3.000000</td>\n",
       "      <td>8.890000e+02</td>\n",
       "      <td>0</td>\n",
       "      <td>4</td>\n",
       "      <td>int64</td>\n",
       "    </tr>\n",
       "    <tr>\n",
       "      <th>OpenPorchSF</th>\n",
       "      <td>1451.0</td>\n",
       "      <td>46.422467</td>\n",
       "      <td>66.060150</td>\n",
       "      <td>0.000000</td>\n",
       "      <td>0.000000</td>\n",
       "      <td>24.000000</td>\n",
       "      <td>68.000000</td>\n",
       "      <td>547.000000</td>\n",
       "      <td>6.735900e+04</td>\n",
       "      <td>0</td>\n",
       "      <td>201</td>\n",
       "      <td>int64</td>\n",
       "    </tr>\n",
       "    <tr>\n",
       "      <th>MoSold</th>\n",
       "      <td>1451.0</td>\n",
       "      <td>6.319090</td>\n",
       "      <td>2.700353</td>\n",
       "      <td>1.000000</td>\n",
       "      <td>5.000000</td>\n",
       "      <td>6.000000</td>\n",
       "      <td>8.000000</td>\n",
       "      <td>12.000000</td>\n",
       "      <td>9.169000e+03</td>\n",
       "      <td>0</td>\n",
       "      <td>12</td>\n",
       "      <td>int64</td>\n",
       "    </tr>\n",
       "    <tr>\n",
       "      <th>1stFlrSF</th>\n",
       "      <td>1451.0</td>\n",
       "      <td>7.006821</td>\n",
       "      <td>0.317130</td>\n",
       "      <td>5.811171</td>\n",
       "      <td>6.782203</td>\n",
       "      <td>6.990266</td>\n",
       "      <td>7.237785</td>\n",
       "      <td>8.453616</td>\n",
       "      <td>1.016690e+04</td>\n",
       "      <td>0</td>\n",
       "      <td>748</td>\n",
       "      <td>float64</td>\n",
       "    </tr>\n",
       "    <tr>\n",
       "      <th>EnclosedPorch</th>\n",
       "      <td>1451.0</td>\n",
       "      <td>21.952447</td>\n",
       "      <td>61.108223</td>\n",
       "      <td>0.000000</td>\n",
       "      <td>0.000000</td>\n",
       "      <td>0.000000</td>\n",
       "      <td>0.000000</td>\n",
       "      <td>552.000000</td>\n",
       "      <td>3.185300e+04</td>\n",
       "      <td>0</td>\n",
       "      <td>119</td>\n",
       "      <td>int64</td>\n",
       "    </tr>\n",
       "    <tr>\n",
       "      <th>BsmtFinSF2</th>\n",
       "      <td>1451.0</td>\n",
       "      <td>46.838043</td>\n",
       "      <td>161.777324</td>\n",
       "      <td>0.000000</td>\n",
       "      <td>0.000000</td>\n",
       "      <td>0.000000</td>\n",
       "      <td>0.000000</td>\n",
       "      <td>1474.000000</td>\n",
       "      <td>6.796200e+04</td>\n",
       "      <td>0</td>\n",
       "      <td>144</td>\n",
       "      <td>int64</td>\n",
       "    </tr>\n",
       "    <tr>\n",
       "      <th>BsmtHalfBath</th>\n",
       "      <td>1451.0</td>\n",
       "      <td>0.057891</td>\n",
       "      <td>0.239449</td>\n",
       "      <td>0.000000</td>\n",
       "      <td>0.000000</td>\n",
       "      <td>0.000000</td>\n",
       "      <td>0.000000</td>\n",
       "      <td>2.000000</td>\n",
       "      <td>8.400000e+01</td>\n",
       "      <td>0</td>\n",
       "      <td>3</td>\n",
       "      <td>int64</td>\n",
       "    </tr>\n",
       "    <tr>\n",
       "      <th>LotArea</th>\n",
       "      <td>1451.0</td>\n",
       "      <td>9.110021</td>\n",
       "      <td>0.517381</td>\n",
       "      <td>7.170127</td>\n",
       "      <td>8.927647</td>\n",
       "      <td>9.156624</td>\n",
       "      <td>9.358761</td>\n",
       "      <td>12.279532</td>\n",
       "      <td>1.321864e+04</td>\n",
       "      <td>0</td>\n",
       "      <td>1066</td>\n",
       "      <td>float64</td>\n",
       "    </tr>\n",
       "    <tr>\n",
       "      <th>OverallQual</th>\n",
       "      <td>1451.0</td>\n",
       "      <td>6.093728</td>\n",
       "      <td>1.381467</td>\n",
       "      <td>1.000000</td>\n",
       "      <td>5.000000</td>\n",
       "      <td>6.000000</td>\n",
       "      <td>7.000000</td>\n",
       "      <td>10.000000</td>\n",
       "      <td>8.842000e+03</td>\n",
       "      <td>0</td>\n",
       "      <td>10</td>\n",
       "      <td>int64</td>\n",
       "    </tr>\n",
       "    <tr>\n",
       "      <th>FullBath</th>\n",
       "      <td>1451.0</td>\n",
       "      <td>1.562371</td>\n",
       "      <td>0.550301</td>\n",
       "      <td>0.000000</td>\n",
       "      <td>1.000000</td>\n",
       "      <td>2.000000</td>\n",
       "      <td>2.000000</td>\n",
       "      <td>3.000000</td>\n",
       "      <td>2.267000e+03</td>\n",
       "      <td>0</td>\n",
       "      <td>4</td>\n",
       "      <td>int64</td>\n",
       "    </tr>\n",
       "    <tr>\n",
       "      <th>BsmtFinSF1</th>\n",
       "      <td>1451.0</td>\n",
       "      <td>442.274983</td>\n",
       "      <td>455.369276</td>\n",
       "      <td>0.000000</td>\n",
       "      <td>0.000000</td>\n",
       "      <td>381.000000</td>\n",
       "      <td>707.000000</td>\n",
       "      <td>5644.000000</td>\n",
       "      <td>6.417410e+05</td>\n",
       "      <td>0</td>\n",
       "      <td>633</td>\n",
       "      <td>int64</td>\n",
       "    </tr>\n",
       "    <tr>\n",
       "      <th>TotRmsAbvGrd</th>\n",
       "      <td>1451.0</td>\n",
       "      <td>6.516885</td>\n",
       "      <td>1.626576</td>\n",
       "      <td>2.000000</td>\n",
       "      <td>5.000000</td>\n",
       "      <td>6.000000</td>\n",
       "      <td>7.000000</td>\n",
       "      <td>14.000000</td>\n",
       "      <td>9.456000e+03</td>\n",
       "      <td>0</td>\n",
       "      <td>12</td>\n",
       "      <td>int64</td>\n",
       "    </tr>\n",
       "    <tr>\n",
       "      <th>ScreenPorch</th>\n",
       "      <td>1451.0</td>\n",
       "      <td>15.154376</td>\n",
       "      <td>55.917522</td>\n",
       "      <td>0.000000</td>\n",
       "      <td>0.000000</td>\n",
       "      <td>0.000000</td>\n",
       "      <td>0.000000</td>\n",
       "      <td>480.000000</td>\n",
       "      <td>2.198900e+04</td>\n",
       "      <td>0</td>\n",
       "      <td>76</td>\n",
       "      <td>int64</td>\n",
       "    </tr>\n",
       "    <tr>\n",
       "      <th>KitchenAbvGr</th>\n",
       "      <td>1451.0</td>\n",
       "      <td>1.046175</td>\n",
       "      <td>0.219571</td>\n",
       "      <td>0.000000</td>\n",
       "      <td>1.000000</td>\n",
       "      <td>1.000000</td>\n",
       "      <td>1.000000</td>\n",
       "      <td>3.000000</td>\n",
       "      <td>1.518000e+03</td>\n",
       "      <td>0</td>\n",
       "      <td>4</td>\n",
       "      <td>int64</td>\n",
       "    </tr>\n",
       "    <tr>\n",
       "      <th>SalePrice</th>\n",
       "      <td>1451.0</td>\n",
       "      <td>12.022388</td>\n",
       "      <td>0.399502</td>\n",
       "      <td>10.460242</td>\n",
       "      <td>11.774520</td>\n",
       "      <td>11.998433</td>\n",
       "      <td>12.273731</td>\n",
       "      <td>13.534473</td>\n",
       "      <td>1.744449e+04</td>\n",
       "      <td>0</td>\n",
       "      <td>657</td>\n",
       "      <td>float64</td>\n",
       "    </tr>\n",
       "    <tr>\n",
       "      <th>YearRemodAdd</th>\n",
       "      <td>1451.0</td>\n",
       "      <td>1984.760165</td>\n",
       "      <td>20.651334</td>\n",
       "      <td>1950.000000</td>\n",
       "      <td>1966.000000</td>\n",
       "      <td>1993.000000</td>\n",
       "      <td>2004.000000</td>\n",
       "      <td>2010.000000</td>\n",
       "      <td>2.879887e+06</td>\n",
       "      <td>0</td>\n",
       "      <td>61</td>\n",
       "      <td>int64</td>\n",
       "    </tr>\n",
       "    <tr>\n",
       "      <th>tax_assessment</th>\n",
       "      <td>1451.0</td>\n",
       "      <td>158464.507236</td>\n",
       "      <td>55937.346368</td>\n",
       "      <td>20400.000000</td>\n",
       "      <td>125700.000000</td>\n",
       "      <td>166600.000000</td>\n",
       "      <td>189400.000000</td>\n",
       "      <td>270500.000000</td>\n",
       "      <td>2.299320e+08</td>\n",
       "      <td>0</td>\n",
       "      <td>38</td>\n",
       "      <td>int64</td>\n",
       "    </tr>\n",
       "    <tr>\n",
       "      <th>WoodDeckSF</th>\n",
       "      <td>1451.0</td>\n",
       "      <td>94.412819</td>\n",
       "      <td>125.436852</td>\n",
       "      <td>0.000000</td>\n",
       "      <td>0.000000</td>\n",
       "      <td>0.000000</td>\n",
       "      <td>168.000000</td>\n",
       "      <td>857.000000</td>\n",
       "      <td>1.369930e+05</td>\n",
       "      <td>0</td>\n",
       "      <td>274</td>\n",
       "      <td>int64</td>\n",
       "    </tr>\n",
       "    <tr>\n",
       "      <th>GarageCars</th>\n",
       "      <td>1451.0</td>\n",
       "      <td>1.764990</td>\n",
       "      <td>0.748728</td>\n",
       "      <td>0.000000</td>\n",
       "      <td>1.000000</td>\n",
       "      <td>2.000000</td>\n",
       "      <td>2.000000</td>\n",
       "      <td>4.000000</td>\n",
       "      <td>2.561000e+03</td>\n",
       "      <td>0</td>\n",
       "      <td>5</td>\n",
       "      <td>int64</td>\n",
       "    </tr>\n",
       "    <tr>\n",
       "      <th>BedroomAbvGr</th>\n",
       "      <td>1451.0</td>\n",
       "      <td>2.866988</td>\n",
       "      <td>0.815086</td>\n",
       "      <td>0.000000</td>\n",
       "      <td>2.000000</td>\n",
       "      <td>3.000000</td>\n",
       "      <td>3.000000</td>\n",
       "      <td>8.000000</td>\n",
       "      <td>4.160000e+03</td>\n",
       "      <td>0</td>\n",
       "      <td>8</td>\n",
       "      <td>int64</td>\n",
       "    </tr>\n",
       "    <tr>\n",
       "      <th>2ndFlrSF</th>\n",
       "      <td>1451.0</td>\n",
       "      <td>0.247923</td>\n",
       "      <td>5.570647</td>\n",
       "      <td>-4.605170</td>\n",
       "      <td>-4.605170</td>\n",
       "      <td>-4.605170</td>\n",
       "      <td>6.590315</td>\n",
       "      <td>7.632890</td>\n",
       "      <td>3.597359e+02</td>\n",
       "      <td>0</td>\n",
       "      <td>414</td>\n",
       "      <td>float64</td>\n",
       "    </tr>\n",
       "    <tr>\n",
       "      <th>PoolArea</th>\n",
       "      <td>1451.0</td>\n",
       "      <td>2.776017</td>\n",
       "      <td>40.301212</td>\n",
       "      <td>0.000000</td>\n",
       "      <td>0.000000</td>\n",
       "      <td>0.000000</td>\n",
       "      <td>0.000000</td>\n",
       "      <td>738.000000</td>\n",
       "      <td>4.028000e+03</td>\n",
       "      <td>0</td>\n",
       "      <td>8</td>\n",
       "      <td>int64</td>\n",
       "    </tr>\n",
       "    <tr>\n",
       "      <th>YearBuilt</th>\n",
       "      <td>1451.0</td>\n",
       "      <td>1971.092350</td>\n",
       "      <td>30.190266</td>\n",
       "      <td>1872.000000</td>\n",
       "      <td>1954.000000</td>\n",
       "      <td>1972.000000</td>\n",
       "      <td>2000.000000</td>\n",
       "      <td>2010.000000</td>\n",
       "      <td>2.860055e+06</td>\n",
       "      <td>0</td>\n",
       "      <td>112</td>\n",
       "      <td>int64</td>\n",
       "    </tr>\n",
       "    <tr>\n",
       "      <th>LowQualFinSF</th>\n",
       "      <td>1451.0</td>\n",
       "      <td>5.880772</td>\n",
       "      <td>48.771560</td>\n",
       "      <td>0.000000</td>\n",
       "      <td>0.000000</td>\n",
       "      <td>0.000000</td>\n",
       "      <td>0.000000</td>\n",
       "      <td>572.000000</td>\n",
       "      <td>8.533000e+03</td>\n",
       "      <td>0</td>\n",
       "      <td>24</td>\n",
       "      <td>int64</td>\n",
       "    </tr>\n",
       "  </tbody>\n",
       "</table>\n",
       "</div>"
      ],
      "text/plain": [
       "                 count           mean           std           min  \\\n",
       "BsmtFullBath    1451.0       0.423846      0.518842      0.000000   \n",
       "OverallCond     1451.0       5.579600      1.113415      1.000000   \n",
       "GrLivArea       1451.0       7.266823      0.333808      5.811171   \n",
       "3SsnPorch       1451.0       3.430737     29.406940      0.000000   \n",
       "YrSold          1451.0    2007.815300      1.329376   2006.000000   \n",
       "GarageArea      1451.0     472.525155    214.171752      0.000000   \n",
       "TotalBsmtSF     1451.0    1056.310131    437.914609      0.000000   \n",
       "MiscVal         1451.0      43.758787    497.648467      0.000000   \n",
       "MSSubClass      1451.0      56.933150     42.350366     20.000000   \n",
       "BsmtUnfSF       1451.0     567.197105    442.209192      0.000000   \n",
       "MasVnrArea      1451.0     103.756720    181.108150      0.000000   \n",
       "HalfBath        1451.0       0.381116      0.502574      0.000000   \n",
       "Fireplaces      1451.0       0.612681      0.643443      0.000000   \n",
       "OpenPorchSF     1451.0      46.422467     66.060150      0.000000   \n",
       "MoSold          1451.0       6.319090      2.700353      1.000000   \n",
       "1stFlrSF        1451.0       7.006821      0.317130      5.811171   \n",
       "EnclosedPorch   1451.0      21.952447     61.108223      0.000000   \n",
       "BsmtFinSF2      1451.0      46.838043    161.777324      0.000000   \n",
       "BsmtHalfBath    1451.0       0.057891      0.239449      0.000000   \n",
       "LotArea         1451.0       9.110021      0.517381      7.170127   \n",
       "OverallQual     1451.0       6.093728      1.381467      1.000000   \n",
       "FullBath        1451.0       1.562371      0.550301      0.000000   \n",
       "BsmtFinSF1      1451.0     442.274983    455.369276      0.000000   \n",
       "TotRmsAbvGrd    1451.0       6.516885      1.626576      2.000000   \n",
       "ScreenPorch     1451.0      15.154376     55.917522      0.000000   \n",
       "KitchenAbvGr    1451.0       1.046175      0.219571      0.000000   \n",
       "SalePrice       1451.0      12.022388      0.399502     10.460242   \n",
       "YearRemodAdd    1451.0    1984.760165     20.651334   1950.000000   \n",
       "tax_assessment  1451.0  158464.507236  55937.346368  20400.000000   \n",
       "WoodDeckSF      1451.0      94.412819    125.436852      0.000000   \n",
       "GarageCars      1451.0       1.764990      0.748728      0.000000   \n",
       "BedroomAbvGr    1451.0       2.866988      0.815086      0.000000   \n",
       "2ndFlrSF        1451.0       0.247923      5.570647     -4.605170   \n",
       "PoolArea        1451.0       2.776017     40.301212      0.000000   \n",
       "YearBuilt       1451.0    1971.092350     30.190266   1872.000000   \n",
       "LowQualFinSF    1451.0       5.880772     48.771560      0.000000   \n",
       "\n",
       "                          25%            50%            75%            max  \\\n",
       "BsmtFullBath         0.000000       0.000000       1.000000       3.000000   \n",
       "OverallCond          5.000000       5.000000       6.000000       9.000000   \n",
       "GrLivArea            7.028210       7.288935       7.482125       8.637996   \n",
       "3SsnPorch            0.000000       0.000000       0.000000     508.000000   \n",
       "YrSold            2007.000000    2008.000000    2009.000000    2010.000000   \n",
       "GarageArea         327.500000     478.000000     576.000000    1418.000000   \n",
       "TotalBsmtSF        795.000000     991.000000    1297.500000    6110.000000   \n",
       "MiscVal              0.000000       0.000000       0.000000   15500.000000   \n",
       "MSSubClass          20.000000      50.000000      70.000000     190.000000   \n",
       "BsmtUnfSF          222.000000     479.000000     808.000000    2336.000000   \n",
       "MasVnrArea           0.000000       0.000000     166.000000    1600.000000   \n",
       "HalfBath             0.000000       0.000000       1.000000       2.000000   \n",
       "Fireplaces           0.000000       1.000000       1.000000       3.000000   \n",
       "OpenPorchSF          0.000000      24.000000      68.000000     547.000000   \n",
       "MoSold               5.000000       6.000000       8.000000      12.000000   \n",
       "1stFlrSF             6.782203       6.990266       7.237785       8.453616   \n",
       "EnclosedPorch        0.000000       0.000000       0.000000     552.000000   \n",
       "BsmtFinSF2           0.000000       0.000000       0.000000    1474.000000   \n",
       "BsmtHalfBath         0.000000       0.000000       0.000000       2.000000   \n",
       "LotArea              8.927647       9.156624       9.358761      12.279532   \n",
       "OverallQual          5.000000       6.000000       7.000000      10.000000   \n",
       "FullBath             1.000000       2.000000       2.000000       3.000000   \n",
       "BsmtFinSF1           0.000000     381.000000     707.000000    5644.000000   \n",
       "TotRmsAbvGrd         5.000000       6.000000       7.000000      14.000000   \n",
       "ScreenPorch          0.000000       0.000000       0.000000     480.000000   \n",
       "KitchenAbvGr         1.000000       1.000000       1.000000       3.000000   \n",
       "SalePrice           11.774520      11.998433      12.273731      13.534473   \n",
       "YearRemodAdd      1966.000000    1993.000000    2004.000000    2010.000000   \n",
       "tax_assessment  125700.000000  166600.000000  189400.000000  270500.000000   \n",
       "WoodDeckSF           0.000000       0.000000     168.000000     857.000000   \n",
       "GarageCars           1.000000       2.000000       2.000000       4.000000   \n",
       "BedroomAbvGr         2.000000       3.000000       3.000000       8.000000   \n",
       "2ndFlrSF            -4.605170      -4.605170       6.590315       7.632890   \n",
       "PoolArea             0.000000       0.000000       0.000000     738.000000   \n",
       "YearBuilt         1954.000000    1972.000000    2000.000000    2010.000000   \n",
       "LowQualFinSF         0.000000       0.000000       0.000000     572.000000   \n",
       "\n",
       "                         sum  missing  unique DataType  \n",
       "BsmtFullBath    6.150000e+02        0       4    int64  \n",
       "OverallCond     8.096000e+03        0       9    int64  \n",
       "GrLivArea       1.054416e+04        0     858  float64  \n",
       "3SsnPorch       4.978000e+03        0      20    int64  \n",
       "YrSold          2.913340e+06        0       5    int64  \n",
       "GarageArea      6.856340e+05        0     438    int64  \n",
       "TotalBsmtSF     1.532706e+06        0     717    int64  \n",
       "MiscVal         6.349400e+04        0      21    int64  \n",
       "MSSubClass      8.261000e+04        0      15    int64  \n",
       "BsmtUnfSF       8.230030e+05        0     777    int64  \n",
       "MasVnrArea      1.505510e+05        0     327  float64  \n",
       "HalfBath        5.530000e+02        0       3    int64  \n",
       "Fireplaces      8.890000e+02        0       4    int64  \n",
       "OpenPorchSF     6.735900e+04        0     201    int64  \n",
       "MoSold          9.169000e+03        0      12    int64  \n",
       "1stFlrSF        1.016690e+04        0     748  float64  \n",
       "EnclosedPorch   3.185300e+04        0     119    int64  \n",
       "BsmtFinSF2      6.796200e+04        0     144    int64  \n",
       "BsmtHalfBath    8.400000e+01        0       3    int64  \n",
       "LotArea         1.321864e+04        0    1066  float64  \n",
       "OverallQual     8.842000e+03        0      10    int64  \n",
       "FullBath        2.267000e+03        0       4    int64  \n",
       "BsmtFinSF1      6.417410e+05        0     633    int64  \n",
       "TotRmsAbvGrd    9.456000e+03        0      12    int64  \n",
       "ScreenPorch     2.198900e+04        0      76    int64  \n",
       "KitchenAbvGr    1.518000e+03        0       4    int64  \n",
       "SalePrice       1.744449e+04        0     657  float64  \n",
       "YearRemodAdd    2.879887e+06        0      61    int64  \n",
       "tax_assessment  2.299320e+08        0      38    int64  \n",
       "WoodDeckSF      1.369930e+05        0     274    int64  \n",
       "GarageCars      2.561000e+03        0       5    int64  \n",
       "BedroomAbvGr    4.160000e+03        0       8    int64  \n",
       "2ndFlrSF        3.597359e+02        0     414  float64  \n",
       "PoolArea        4.028000e+03        0       8    int64  \n",
       "YearBuilt       2.860055e+06        0     112    int64  \n",
       "LowQualFinSF    8.533000e+03        0      24    int64  "
      ]
     },
     "execution_count": 45,
     "metadata": {},
     "output_type": "execute_result"
    }
   ],
   "source": [
    "summary_df = temp_df.join(sum_df).join(missing_df).join(unq_df).join(types_df).drop_duplicates()\n",
    "summary_df"
   ]
  },
  {
   "cell_type": "markdown",
   "metadata": {
    "collapsed": true
   },
   "source": [
    "### 3.4.2 Categorical Columns:"
   ]
  },
  {
   "cell_type": "code",
   "execution_count": 46,
   "metadata": {
    "scrolled": false
   },
   "outputs": [
    {
     "data": {
      "text/html": [
       "<div>\n",
       "<style scoped>\n",
       "    .dataframe tbody tr th:only-of-type {\n",
       "        vertical-align: middle;\n",
       "    }\n",
       "\n",
       "    .dataframe tbody tr th {\n",
       "        vertical-align: top;\n",
       "    }\n",
       "\n",
       "    .dataframe thead th {\n",
       "        text-align: right;\n",
       "    }\n",
       "</style>\n",
       "<table border=\"1\" class=\"dataframe\">\n",
       "  <thead>\n",
       "    <tr style=\"text-align: right;\">\n",
       "      <th></th>\n",
       "      <th>missing</th>\n",
       "      <th>unique</th>\n",
       "      <th>DataType</th>\n",
       "    </tr>\n",
       "  </thead>\n",
       "  <tbody>\n",
       "    <tr>\n",
       "      <th>Functional</th>\n",
       "      <td>0</td>\n",
       "      <td>7</td>\n",
       "      <td>object</td>\n",
       "    </tr>\n",
       "    <tr>\n",
       "      <th>Electrical</th>\n",
       "      <td>0</td>\n",
       "      <td>5</td>\n",
       "      <td>object</td>\n",
       "    </tr>\n",
       "    <tr>\n",
       "      <th>GarageFinish</th>\n",
       "      <td>0</td>\n",
       "      <td>4</td>\n",
       "      <td>object</td>\n",
       "    </tr>\n",
       "    <tr>\n",
       "      <th>Neighborhood</th>\n",
       "      <td>0</td>\n",
       "      <td>25</td>\n",
       "      <td>object</td>\n",
       "    </tr>\n",
       "    <tr>\n",
       "      <th>BldgType</th>\n",
       "      <td>0</td>\n",
       "      <td>5</td>\n",
       "      <td>object</td>\n",
       "    </tr>\n",
       "    <tr>\n",
       "      <th>BsmtQual</th>\n",
       "      <td>0</td>\n",
       "      <td>5</td>\n",
       "      <td>object</td>\n",
       "    </tr>\n",
       "    <tr>\n",
       "      <th>GarageQual</th>\n",
       "      <td>0</td>\n",
       "      <td>6</td>\n",
       "      <td>object</td>\n",
       "    </tr>\n",
       "    <tr>\n",
       "      <th>BsmtFinType1</th>\n",
       "      <td>0</td>\n",
       "      <td>7</td>\n",
       "      <td>object</td>\n",
       "    </tr>\n",
       "    <tr>\n",
       "      <th>SaleCondition</th>\n",
       "      <td>0</td>\n",
       "      <td>6</td>\n",
       "      <td>object</td>\n",
       "    </tr>\n",
       "    <tr>\n",
       "      <th>FireplaceQu</th>\n",
       "      <td>0</td>\n",
       "      <td>6</td>\n",
       "      <td>object</td>\n",
       "    </tr>\n",
       "    <tr>\n",
       "      <th>BsmtExposure</th>\n",
       "      <td>0</td>\n",
       "      <td>5</td>\n",
       "      <td>object</td>\n",
       "    </tr>\n",
       "    <tr>\n",
       "      <th>CentralAir</th>\n",
       "      <td>0</td>\n",
       "      <td>2</td>\n",
       "      <td>object</td>\n",
       "    </tr>\n",
       "    <tr>\n",
       "      <th>MSZoning</th>\n",
       "      <td>0</td>\n",
       "      <td>5</td>\n",
       "      <td>object</td>\n",
       "    </tr>\n",
       "    <tr>\n",
       "      <th>Foundation</th>\n",
       "      <td>0</td>\n",
       "      <td>6</td>\n",
       "      <td>object</td>\n",
       "    </tr>\n",
       "    <tr>\n",
       "      <th>BsmtCond</th>\n",
       "      <td>0</td>\n",
       "      <td>5</td>\n",
       "      <td>object</td>\n",
       "    </tr>\n",
       "    <tr>\n",
       "      <th>Street</th>\n",
       "      <td>0</td>\n",
       "      <td>2</td>\n",
       "      <td>object</td>\n",
       "    </tr>\n",
       "    <tr>\n",
       "      <th>SaleType</th>\n",
       "      <td>0</td>\n",
       "      <td>9</td>\n",
       "      <td>object</td>\n",
       "    </tr>\n",
       "    <tr>\n",
       "      <th>RoofStyle</th>\n",
       "      <td>0</td>\n",
       "      <td>6</td>\n",
       "      <td>object</td>\n",
       "    </tr>\n",
       "    <tr>\n",
       "      <th>Exterior1st</th>\n",
       "      <td>0</td>\n",
       "      <td>15</td>\n",
       "      <td>object</td>\n",
       "    </tr>\n",
       "    <tr>\n",
       "      <th>PoolQC</th>\n",
       "      <td>0</td>\n",
       "      <td>4</td>\n",
       "      <td>object</td>\n",
       "    </tr>\n",
       "    <tr>\n",
       "      <th>GarageType</th>\n",
       "      <td>0</td>\n",
       "      <td>7</td>\n",
       "      <td>object</td>\n",
       "    </tr>\n",
       "    <tr>\n",
       "      <th>LotConfig</th>\n",
       "      <td>0</td>\n",
       "      <td>5</td>\n",
       "      <td>object</td>\n",
       "    </tr>\n",
       "    <tr>\n",
       "      <th>Fence</th>\n",
       "      <td>0</td>\n",
       "      <td>5</td>\n",
       "      <td>object</td>\n",
       "    </tr>\n",
       "    <tr>\n",
       "      <th>MiscFeature</th>\n",
       "      <td>0</td>\n",
       "      <td>5</td>\n",
       "      <td>object</td>\n",
       "    </tr>\n",
       "    <tr>\n",
       "      <th>LandContour</th>\n",
       "      <td>0</td>\n",
       "      <td>4</td>\n",
       "      <td>object</td>\n",
       "    </tr>\n",
       "    <tr>\n",
       "      <th>Condition1</th>\n",
       "      <td>0</td>\n",
       "      <td>9</td>\n",
       "      <td>object</td>\n",
       "    </tr>\n",
       "    <tr>\n",
       "      <th>Utilities</th>\n",
       "      <td>0</td>\n",
       "      <td>2</td>\n",
       "      <td>object</td>\n",
       "    </tr>\n",
       "    <tr>\n",
       "      <th>LandSlope</th>\n",
       "      <td>0</td>\n",
       "      <td>3</td>\n",
       "      <td>object</td>\n",
       "    </tr>\n",
       "    <tr>\n",
       "      <th>Heating</th>\n",
       "      <td>0</td>\n",
       "      <td>6</td>\n",
       "      <td>object</td>\n",
       "    </tr>\n",
       "    <tr>\n",
       "      <th>PavedDrive</th>\n",
       "      <td>0</td>\n",
       "      <td>3</td>\n",
       "      <td>object</td>\n",
       "    </tr>\n",
       "    <tr>\n",
       "      <th>Exterior2nd</th>\n",
       "      <td>0</td>\n",
       "      <td>16</td>\n",
       "      <td>object</td>\n",
       "    </tr>\n",
       "    <tr>\n",
       "      <th>RoofMatl</th>\n",
       "      <td>0</td>\n",
       "      <td>8</td>\n",
       "      <td>object</td>\n",
       "    </tr>\n",
       "    <tr>\n",
       "      <th>KitchenQual</th>\n",
       "      <td>0</td>\n",
       "      <td>4</td>\n",
       "      <td>object</td>\n",
       "    </tr>\n",
       "    <tr>\n",
       "      <th>LotShape</th>\n",
       "      <td>0</td>\n",
       "      <td>4</td>\n",
       "      <td>object</td>\n",
       "    </tr>\n",
       "    <tr>\n",
       "      <th>Alley</th>\n",
       "      <td>0</td>\n",
       "      <td>3</td>\n",
       "      <td>object</td>\n",
       "    </tr>\n",
       "    <tr>\n",
       "      <th>BsmtFinType2</th>\n",
       "      <td>0</td>\n",
       "      <td>7</td>\n",
       "      <td>object</td>\n",
       "    </tr>\n",
       "    <tr>\n",
       "      <th>MasVnrType</th>\n",
       "      <td>0</td>\n",
       "      <td>4</td>\n",
       "      <td>object</td>\n",
       "    </tr>\n",
       "    <tr>\n",
       "      <th>Condition2</th>\n",
       "      <td>0</td>\n",
       "      <td>8</td>\n",
       "      <td>object</td>\n",
       "    </tr>\n",
       "    <tr>\n",
       "      <th>ExterQual</th>\n",
       "      <td>0</td>\n",
       "      <td>4</td>\n",
       "      <td>object</td>\n",
       "    </tr>\n",
       "    <tr>\n",
       "      <th>GarageCond</th>\n",
       "      <td>0</td>\n",
       "      <td>6</td>\n",
       "      <td>object</td>\n",
       "    </tr>\n",
       "    <tr>\n",
       "      <th>HeatingQC</th>\n",
       "      <td>0</td>\n",
       "      <td>5</td>\n",
       "      <td>object</td>\n",
       "    </tr>\n",
       "    <tr>\n",
       "      <th>HouseStyle</th>\n",
       "      <td>0</td>\n",
       "      <td>8</td>\n",
       "      <td>object</td>\n",
       "    </tr>\n",
       "    <tr>\n",
       "      <th>ExterCond</th>\n",
       "      <td>0</td>\n",
       "      <td>5</td>\n",
       "      <td>object</td>\n",
       "    </tr>\n",
       "  </tbody>\n",
       "</table>\n",
       "</div>"
      ],
      "text/plain": [
       "               missing  unique DataType\n",
       "Functional           0       7   object\n",
       "Electrical           0       5   object\n",
       "GarageFinish         0       4   object\n",
       "Neighborhood         0      25   object\n",
       "BldgType             0       5   object\n",
       "BsmtQual             0       5   object\n",
       "GarageQual           0       6   object\n",
       "BsmtFinType1         0       7   object\n",
       "SaleCondition        0       6   object\n",
       "FireplaceQu          0       6   object\n",
       "BsmtExposure         0       5   object\n",
       "CentralAir           0       2   object\n",
       "MSZoning             0       5   object\n",
       "Foundation           0       6   object\n",
       "BsmtCond             0       5   object\n",
       "Street               0       2   object\n",
       "SaleType             0       9   object\n",
       "RoofStyle            0       6   object\n",
       "Exterior1st          0      15   object\n",
       "PoolQC               0       4   object\n",
       "GarageType           0       7   object\n",
       "LotConfig            0       5   object\n",
       "Fence                0       5   object\n",
       "MiscFeature          0       5   object\n",
       "LandContour          0       4   object\n",
       "Condition1           0       9   object\n",
       "Utilities            0       2   object\n",
       "LandSlope            0       3   object\n",
       "Heating              0       6   object\n",
       "PavedDrive           0       3   object\n",
       "Exterior2nd          0      16   object\n",
       "RoofMatl             0       8   object\n",
       "KitchenQual          0       4   object\n",
       "LotShape             0       4   object\n",
       "Alley                0       3   object\n",
       "BsmtFinType2         0       7   object\n",
       "MasVnrType           0       4   object\n",
       "Condition2           0       8   object\n",
       "ExterQual            0       4   object\n",
       "GarageCond           0       6   object\n",
       "HeatingQC            0       5   object\n",
       "HouseStyle           0       8   object\n",
       "ExterCond            0       5   object"
      ]
     },
     "execution_count": 46,
     "metadata": {},
     "output_type": "execute_result"
    }
   ],
   "source": [
    "col_names = list(types_df.index)\n",
    "num_cols = len(col_names)\n",
    "index = range(num_cols)\n",
    "cat_index = []\n",
    "for i in index:\n",
    "    if col_names[i] in conf_dict['CategoricalColumns']:\n",
    "        cat_index.append(i)\n",
    "summary_df_cat = missing_df.join(unq_df).join(types_df.iloc[cat_index], how='inner') #Only summarize categorical columns\n",
    "summary_df_cat"
   ]
  },
  {
   "cell_type": "markdown",
   "metadata": {
    "collapsed": true
   },
   "source": [
    "-----------------------------------------------\n",
    "\n",
    "# 4.0 Explore Individual Variables"
   ]
  },
  {
   "cell_type": "markdown",
   "metadata": {},
   "source": [
    "## 4.1 Explore the target variable"
   ]
  },
  {
   "cell_type": "code",
   "execution_count": 47,
   "metadata": {
    "scrolled": false
   },
   "outputs": [
    {
     "data": {
      "application/vnd.jupyter.widget-view+json": {
       "model_id": "fddff4b7cf264ab6923f529b5bb7f4fa",
       "version_major": 2,
       "version_minor": 0
      },
      "text/plain": [
       "interactive(children=(Dropdown(description='Target:', index=26, options=('BsmtFullBath', 'OverallCond', 'GrLiv…"
      ]
     },
     "metadata": {},
     "output_type": "display_data"
    },
    {
     "data": {
      "text/plain": [
       "<function __main__.histPlot(data, target)>"
      ]
     },
     "execution_count": 47,
     "metadata": {},
     "output_type": "execute_result"
    }
   ],
   "source": [
    "def histPlot(data, target):\n",
    "    plt.hist(data[target])\n",
    "    plt.show()\n",
    "\n",
    "interact(histPlot,\n",
    "        data=fixed(df),\n",
    "        target=widgets.Dropdown(\n",
    "            options=conf_dict['NumericalColumns'],\n",
    "            value=conf_dict['Target'],\n",
    "            description='Target:',\n",
    "            disabled=False,\n",
    "        ))"
   ]
  },
  {
   "cell_type": "markdown",
   "metadata": {
    "collapsed": true
   },
   "source": [
    "## 4.2 Numeric Variable Summaries & Normality Tests\n",
    "The following plots provide summary visualizations for numerical features. \n",
    "\n",
    "Along the top row of charts, we see a histogram and density plot of the distribution. \n",
    "\n",
    "The bottom-left chart shows a QQ-Plot: For a normal distribution, the blue points will generally fall on the red diagonal line. In addition, a normality test is run and results are printed at the top (p<0.05 = not normal, p>=0.05 is normal).\n",
    "\n",
    "Finally, the bottom-right chart shows a boxplot of the feature. Note that black circles are statistical outliers, it may be worth considering filtering these values in the filtering section at the top of this notebook."
   ]
  },
  {
   "cell_type": "code",
   "execution_count": 48,
   "metadata": {
    "scrolled": false
   },
   "outputs": [
    {
     "data": {
      "application/vnd.jupyter.widget-view+json": {
       "model_id": "5c553435ae684e4cba784018924e5f4e",
       "version_major": 2,
       "version_minor": 0
      },
      "text/plain": [
       "interactive(children=(Dropdown(description='Numeric Variable:', options=('BsmtFullBath', 'OverallCond', 'GrLiv…"
      ]
     },
     "metadata": {},
     "output_type": "display_data"
    },
    {
     "data": {
      "text/plain": [
       "<function helpers.NumericAnalytics.custom_barplot(df, col1='')>"
      ]
     },
     "execution_count": 48,
     "metadata": {},
     "output_type": "execute_result"
    }
   ],
   "source": [
    "w1_value = ''\n",
    "w1 = None\n",
    "w1 = widgets.Dropdown(\n",
    "        options=conf_dict['NumericalColumns'],\n",
    "        value=conf_dict['NumericalColumns'][0],\n",
    "        description='Numeric Variable:',\n",
    "    )\n",
    "\n",
    "interact(NumericAnalytics.custom_barplot, df=fixed(df), col1=w1)"
   ]
  },
  {
   "cell_type": "markdown",
   "metadata": {
    "collapsed": true
   },
   "source": [
    "## 4.3 Categorical Variable Summaries"
   ]
  },
  {
   "cell_type": "code",
   "execution_count": 49,
   "metadata": {
    "scrolled": false
   },
   "outputs": [
    {
     "data": {
      "application/vnd.jupyter.widget-view+json": {
       "model_id": "e54104a850634bb5935a9fd739469e77",
       "version_major": 2,
       "version_minor": 0
      },
      "text/plain": [
       "interactive(children=(Dropdown(description='Categorical Variable:', options=('Utilities', 'Street', 'SaleType'…"
      ]
     },
     "metadata": {},
     "output_type": "display_data"
    },
    {
     "data": {
      "text/plain": [
       "<function helpers.CategoricAnalytics.custom_barplot(df, col1='')>"
      ]
     },
     "execution_count": 49,
     "metadata": {},
     "output_type": "execute_result"
    }
   ],
   "source": [
    "w1_value = ''\n",
    "w1 = None\n",
    "\n",
    "w1 = widgets.Dropdown(\n",
    "    options = conf_dict['CategoricalColumns'],\n",
    "    value = conf_dict['CategoricalColumns'][0],\n",
    "    description = 'Categorical Variable:',\n",
    ")\n",
    "\n",
    "interact(CategoricAnalytics.custom_barplot, df=fixed(df), col1=w1)\n"
   ]
  },
  {
   "cell_type": "markdown",
   "metadata": {
    "collapsed": true
   },
   "source": [
    "##  4.4 Interactions Between Variables"
   ]
  },
  {
   "cell_type": "markdown",
   "metadata": {},
   "source": [
    "###  4.4.1 Rank variables based on linear relationships with reference variable\n",
    "In this section, we review the relationships between numeric and categorical variables against a reference variable (likely your target). This is a quick way to understand which features may contribute to the predictive value of a model."
   ]
  },
  {
   "cell_type": "code",
   "execution_count": 50,
   "metadata": {
    "scrolled": false
   },
   "outputs": [
    {
     "data": {
      "application/vnd.jupyter.widget-view+json": {
       "model_id": "75b6a00dd9754590aeec8a1ef8ab11b7",
       "version_major": 2,
       "version_minor": 0
      },
      "text/plain": [
       "interactive(children=(Dropdown(description='Ref Var:', options=('SalePrice', 'BsmtFullBath', 'OverallCond', 'G…"
      ]
     },
     "metadata": {},
     "output_type": "display_data"
    },
    {
     "data": {
      "text/plain": [
       "<function helpers.InteractionAnalytics.rank_associations(df, conf_dict, col1, col2, col3)>"
      ]
     },
     "execution_count": 50,
     "metadata": {},
     "output_type": "execute_result"
    }
   ],
   "source": [
    "cols_list = [conf_dict['Target']] + conf_dict['NumericalColumns'] + conf_dict['CategoricalColumns'] \n",
    "cols_list = list(OrderedDict.fromkeys(cols_list)) \n",
    "w1 = widgets.Dropdown(    \n",
    "    options=cols_list,\n",
    "    value=cols_list[0],\n",
    "    description='Ref Var:'\n",
    ")\n",
    "w2 = ipywidgets.Text(value=\"5\", description='Top Num Vars:')\n",
    "w3 = ipywidgets.Text(value=\"5\", description='Top Cat Vars:')\n",
    "\n",
    "interact(InteractionAnalytics.rank_associations, df=fixed(df),conf_dict=fixed(conf_dict), col1=w1, col2=w2, col3=w3)\n"
   ]
  },
  {
   "cell_type": "markdown",
   "metadata": {
    "collapsed": true
   },
   "source": [
    "###  4.4.2 Interactions between categorical variables"
   ]
  },
  {
   "cell_type": "code",
   "execution_count": 51,
   "metadata": {
    "scrolled": false
   },
   "outputs": [
    {
     "data": {
      "application/vnd.jupyter.widget-view+json": {
       "model_id": "1d8de7fbc1bb4b76bb69f0ecfcaf53b7",
       "version_major": 2,
       "version_minor": 0
      },
      "text/plain": [
       "interactive(children=(Dropdown(description='Categorical Var 1:', options=('Utilities', 'Street', 'SaleType', '…"
      ]
     },
     "metadata": {},
     "output_type": "display_data"
    },
    {
     "data": {
      "text/plain": [
       "<function helpers.InteractionAnalytics.categorical_relations(df, col1, col2)>"
      ]
     },
     "execution_count": 51,
     "metadata": {},
     "output_type": "execute_result"
    }
   ],
   "source": [
    "w1, w2 = None, None\n",
    "\n",
    "if conf_dict['Target'] in conf_dict['CategoricalColumns']:\n",
    "    cols_list = [conf_dict['Target']] + conf_dict['CategoricalColumns'] \n",
    "    cols_list = list(OrderedDict.fromkeys(cols_list)) \n",
    "else:\n",
    "    cols_list = conf_dict['CategoricalColumns']\n",
    "    \n",
    "w1 = widgets.Dropdown(\n",
    "    options=cols_list,\n",
    "    value=cols_list[0],\n",
    "    description='Categorical Var 1:'\n",
    ")\n",
    "w2 = widgets.Dropdown(\n",
    "    options=cols_list,\n",
    "    value=cols_list[1],\n",
    "    description='Categorical Var 2:'\n",
    ")\n",
    "\n",
    "interact(InteractionAnalytics.categorical_relations, df=fixed(df), col1=w1, col2=w2)\n"
   ]
  },
  {
   "cell_type": "markdown",
   "metadata": {
    "collapsed": true
   },
   "source": [
    "###  4.4.4 Interactions between numerical variables"
   ]
  },
  {
   "cell_type": "code",
   "execution_count": 52,
   "metadata": {
    "scrolled": false
   },
   "outputs": [
    {
     "data": {
      "application/vnd.jupyter.widget-view+json": {
       "model_id": "72a571438cf74db89f5c12fe1c548972",
       "version_major": 2,
       "version_minor": 0
      },
      "text/plain": [
       "interactive(children=(Dropdown(description='Numerical Var 1:', options=('SalePrice', 'BsmtFullBath', 'OverallC…"
      ]
     },
     "metadata": {},
     "output_type": "display_data"
    },
    {
     "data": {
      "text/plain": [
       "<function helpers.InteractionAnalytics.numerical_relations(df, col1, col2)>"
      ]
     },
     "execution_count": 52,
     "metadata": {},
     "output_type": "execute_result"
    }
   ],
   "source": [
    "w1, w2 = None, None\n",
    "\n",
    "if conf_dict['Target'] in conf_dict['NumericalColumns']:\n",
    "    cols_list = [conf_dict['Target']] + conf_dict['NumericalColumns'] \n",
    "    cols_list = list(OrderedDict.fromkeys(cols_list)) \n",
    "else:\n",
    "    cols_list = conf_dict['NumericalColumns']\n",
    "w1 = widgets.Dropdown(\n",
    "    options=cols_list,\n",
    "    value=cols_list[0],\n",
    "    description='Numerical Var 1:'\n",
    ")\n",
    "w2 = widgets.Dropdown(\n",
    "    options=cols_list,\n",
    "    value=cols_list[1],\n",
    "    description='Numerical Var 2:'\n",
    ")\n",
    "\n",
    "interact(InteractionAnalytics.numerical_relations, df=fixed(df), col1=w1, col2=w2)\n"
   ]
  },
  {
   "cell_type": "markdown",
   "metadata": {
    "collapsed": true
   },
   "source": [
    "### 4.4.5 Correlation matrix between numerical variables\n",
    "The correlation matrix represents the results of mass correlation analyses between all numerical variables. A value of 1 represents a perfect correlation, while 0 indicates no correlation. \n",
    "\n",
    "The matrix can use multiple correlation methods. Some guidelines for selecting the correct method are below. For continuous features we have:\n",
    "\n",
    "* Pearson: Most widely used method, measures degree of association. Variables must be linear and normally distributed and must be continuous (e.g. age, weight).\n",
    "\n",
    "When incorporating rank data, use one of the following:\n",
    "\n",
    "* Spearman: Similar to Pearson, but no assumption of normal distribution and the variables can be either continuous or ordinal (e.g. finishing position in a race, rank in class). This is the more popular rank metric over Kendall.\n",
    "* Kendall: More robust than Spearman when working with small datasets, or datasets with errors. This robustness comes with a tradeoff on performance, with Kendall being exponentially slower for large datasets.\n"
   ]
  },
  {
   "cell_type": "code",
   "execution_count": 53,
   "metadata": {},
   "outputs": [
    {
     "data": {
      "image/png": "[encoded data removed]",
      "text/plain": [
       "<Figure size 1080x1080 with 2 Axes>"
      ]
     },
     "metadata": {
      "needs_background": "light"
     },
     "output_type": "display_data"
    }
   ],
   "source": [
    "from matplotlib.pyplot import quiver, colorbar, clim,  matshow\n",
    "import matplotlib.ticker as ticker\n",
    "\n",
    "df2 = df[conf_dict['NumericalColumns']].corr(method='kendall')\n",
    "col_names = list(df[conf_dict['NumericalColumns']].columns)\n",
    "\n",
    "fig,ax = plt.subplots(figsize=(15,15))\n",
    "m = ax.matshow(df2, cmap=matplotlib.pyplot.cm.coolwarm)\n",
    "ax.grid(b=False)\n",
    "fig.colorbar(m)\n",
    "ax.set_xticklabels([' '] + col_names, rotation=90)\n",
    "ax.set_yticklabels([' '] + col_names)\n",
    "ax.xaxis.set_major_locator(ticker.MultipleLocator(1))\n",
    "ax.yaxis.set_major_locator(ticker.MultipleLocator(1))\n",
    "fig.show()"
   ]
  },
  {
   "cell_type": "markdown",
   "metadata": {
    "collapsed": true
   },
   "source": [
    "###  4.4.6 Interactions between numerical and categorical variables\n",
    "In this section we perform hypothesis tests to determine whether the values of a categorical variable (e.g. your target) have statistically different distributions. Note that a p-value is calculated to reflect one of two interpretations:\n",
    "\n",
    "* p<=0.05: We reject the null hypothesis that the different levels of the categorical variable are equal. In other words, the levels are significantly different. \n",
    "* p>0.05: Accept the null hypothesis that the levels of the categorical feature are equal. There is no difference in the value of the numerical feature between our categories."
   ]
  },
  {
   "cell_type": "code",
   "execution_count": 54,
   "metadata": {
    "scrolled": false
   },
   "outputs": [
    {
     "data": {
      "application/vnd.jupyter.widget-view+json": {
       "model_id": "8f2201682a6d48e9b9bf007273d6c606",
       "version_major": 2,
       "version_minor": 0
      },
      "text/plain": [
       "interactive(children=(Dropdown(description='Numerical Variable:', options=('SalePrice', 'BsmtFullBath', 'Overa…"
      ]
     },
     "metadata": {},
     "output_type": "display_data"
    },
    {
     "data": {
      "text/plain": [
       "<function helpers.InteractionAnalytics.nc_relation(df, conf_dict, col1, col2, col3=None)>"
      ]
     },
     "execution_count": 54,
     "metadata": {},
     "output_type": "execute_result"
    }
   ],
   "source": [
    "w1, w2 = None, None\n",
    "\n",
    "if conf_dict['Target'] in conf_dict['NumericalColumns']:\n",
    "    cols_list = [conf_dict['Target']] + conf_dict['NumericalColumns'] #Make target the default reference variable\n",
    "    cols_list = list(OrderedDict.fromkeys(cols_list)) #remove variables that might be duplicates with target\n",
    "else:\n",
    "    cols_list = conf_dict['NumericalColumns']\n",
    "    \n",
    "w1 = widgets.Dropdown(\n",
    "    options=cols_list,\n",
    "    value=cols_list[0],\n",
    "    description='Numerical Variable:'\n",
    ")\n",
    "\n",
    "if conf_dict['Target'] in conf_dict['CategoricalColumns']:\n",
    "    cols_list = [conf_dict['Target']] + conf_dict['CategoricalColumns'] #Make target the default reference variable\n",
    "    cols_list = list(OrderedDict.fromkeys(cols_list)) #remove variables that might be duplicates with target\n",
    "else:\n",
    "    cols_list = conf_dict['CategoricalColumns']\n",
    "    \n",
    "w2 = widgets.Dropdown(\n",
    "    options=cols_list,\n",
    "    value=cols_list[0],\n",
    "    description='Categorical Variable:'\n",
    ")\n",
    "interact(InteractionAnalytics.nc_relation, df=fixed(df),conf_dict=fixed(conf_dict), col1=w1, col2=w2, col3=fixed(w3))\n"
   ]
  },
  {
   "cell_type": "markdown",
   "metadata": {
    "collapsed": true
   },
   "source": [
    "### 4.4.8 Interactions between two numerical and one categorical variable"
   ]
  },
  {
   "cell_type": "code",
   "execution_count": 55,
   "metadata": {
    "scrolled": false
   },
   "outputs": [
    {
     "data": {
      "application/vnd.jupyter.widget-view+json": {
       "model_id": "ae11e6b710594304a43347c6d5b377f3",
       "version_major": 2,
       "version_minor": 0
      },
      "text/plain": [
       "interactive(children=(Dropdown(description='Numerical Var 1:', options=('SalePrice', 'BsmtFullBath', 'OverallC…"
      ]
     },
     "metadata": {},
     "output_type": "display_data"
    },
    {
     "data": {
      "text/plain": [
       "<function helpers.InteractionAnalytics.nnc_relation(df, conf_dict, col1, col2, col3)>"
      ]
     },
     "execution_count": 55,
     "metadata": {},
     "output_type": "execute_result"
    }
   ],
   "source": [
    "w1, w2, w3 = None, None, None\n",
    "\n",
    "if conf_dict['Target'] in conf_dict['NumericalColumns']:\n",
    "    cols_list = [conf_dict['Target']] + conf_dict['NumericalColumns'] \n",
    "    cols_list = list(OrderedDict.fromkeys(cols_list)) \n",
    "else:\n",
    "    cols_list = conf_dict['NumericalColumns']\n",
    "    \n",
    "w1 = widgets.Dropdown(\n",
    "    options = cols_list,\n",
    "    value = cols_list[0],\n",
    "    description = 'Numerical Var 1:'\n",
    ")\n",
    "w2 = widgets.Dropdown(\n",
    "    options = cols_list,\n",
    "    value = cols_list[1],\n",
    "    description = 'Numerical Var 2:'\n",
    ")\n",
    "\n",
    "if conf_dict['Target'] in conf_dict['CategoricalColumns']:\n",
    "    cols_list = [conf_dict['Target']] + conf_dict['CategoricalColumns'] \n",
    "    cols_list = list(OrderedDict.fromkeys(cols_list)) \n",
    "else:\n",
    "    cols_list = conf_dict['CategoricalColumns']\n",
    "    \n",
    "w3 = widgets.Dropdown(\n",
    "    options = cols_list,\n",
    "    value = cols_list[0],\n",
    "    description = 'Legend Cat Var:'\n",
    ")\n",
    "interact(InteractionAnalytics.nnc_relation, df=fixed(df),conf_dict=fixed(conf_dict), col1=w1, col2=w2, col3=w3)\n"
   ]
  },
  {
   "cell_type": "markdown",
   "metadata": {
    "collapsed": true
   },
   "source": [
    "---------------------------------\n",
    "# 5.0 Latent Trait Analysis & Dimension Reduction\n",
    "\n",
    "## 5.1 Principal Components Analysis (PCA)\n",
    "Principal component analysis re-calculates *n* principal components for a dataset with *n* numerical features. The principal components are derived sequentially to capture the largest amount of variation in the data, i.e. PC1 captures the most variation, followed by PC2, then PC3... Each principal component is a combination of the original features. \n",
    "\n",
    "Practically speaking, PCA is commonly used for two purposes: Dimension reduction and latent trait analysis. For the purposes of this workflow, we are interested in latent trait analysis. \n",
    "\n",
    "PCAs can often capture latent traits in our data in the same way an IQ test estimates intelligence (the latent trait) from questions (our numerical features). The variable factor compass shows how the original numerical features influence the \"momentum\" of points in our PCA scatterplot. For example, if we saw an \"oil temperature\" arrow pointing north-east on our compass, we would ascertain that points in the top right of our scatter plot have high oil temperatures, while points in the bottom left have lower oil temp. Furthermore, arrows that are close to eachother imply a relationship between those values. If our \"oil temperature\" vector points in a similar direction to \"ambient temperature\", a possible relationship between those values is implied. If the scatterplot shows many points flagged as \"failures\" in the top right, this points to a relationship between ambient temp, oil temp and failure.\n",
    "\n",
    "The final chart shows the percentage of variation captured by each principal component. When drawing insights from PCA, it's important to make sure that these insights are based on a sufficient portion of the variation. For example, if PC1 captures 40% of variation and PC2 captures 35%, a scatterplot of PC1 and PC2 explains 75% of the variation and we can draw fairly robust conclusions. Conversely, if PC1 and PC2 only capture 5% of variation, conclusions are fairly disconnected from the complete dataset.\n",
    "\n",
    "----------------------------------\n",
    "Interesting relationships exist between 2-4, 2-5"
   ]
  },
  {
   "cell_type": "code",
   "execution_count": 56,
   "metadata": {},
   "outputs": [
    {
     "data": {
      "application/vnd.jupyter.widget-view+json": {
       "model_id": "5bd08d3defa84d9989624b511624e7ad",
       "version_major": 2,
       "version_minor": 0
      },
      "text/plain": [
       "interactive(children=(Dropdown(description='Legend Variable:', options=('Utilities', 'Street', 'SaleType', 'Sa…"
      ]
     },
     "metadata": {},
     "output_type": "display_data"
    }
   ],
   "source": [
    "from sklearn.decomposition import PCA\n",
    "import seaborn as sns\n",
    "import numpy as np\n",
    "import matplotlib.pyplot as plt\n",
    "\n",
    "def numerical_pca_egv(df, conf_dict, col1, col2, col3):\n",
    "    # Do the PCA.\n",
    "    n_components = len(conf_dict['NumericalColumns'])\n",
    "    df2 = df[conf_dict['NumericalColumns']]\n",
    "\n",
    "    scaler = StandardScaler()\n",
    "    scaler.fit(df2)\n",
    "    df2 = scaler.transform(df2)\n",
    "    df2 = pd.DataFrame(df2, columns = conf_dict['NumericalColumns'])\n",
    "\n",
    "    pca = PCA(n_components=n_components)\n",
    "    reduced = pca.fit_transform(df2)\n",
    "    print(pca.explained_variance_ratio_)\n",
    "\n",
    "    # Append the principle components for each entry to the dataframe\n",
    "    for i in range(0, n_components):\n",
    "        df2['PC' + str(i + 1)] = reduced[:, i]\n",
    "\n",
    "    #display(df2.head())\n",
    "    if col1 not in conf_dict['NumericalColumns']:\n",
    "        df.reset_index(drop=True, inplace=True)\n",
    "        df2.reset_index(drop=True, inplace=True)\n",
    "        df2[col1] = df[col1]\n",
    "\n",
    "    # Show the points in terms of the first two PCs\n",
    "    g = sns.lmplot(('PC' + str(col2)),\n",
    "                   ('PC' + str(col3)),\n",
    "                   hue=col1,\n",
    "                   data=df2,\n",
    "                   fit_reg=False,\n",
    "                   scatter=True,\n",
    "                   size=7)\n",
    "    plt.show()\n",
    "\n",
    "    # Plot a variable factor map for the first two dimensions.\n",
    "    (fig, ax) = plt.subplots(figsize=(8, 8))\n",
    "    for i in range(0, len(pca.components_)):\n",
    "        ax.arrow(0,\n",
    "                 0,  # Start the arrow at the origin\n",
    "                 pca.components_[int(col2) - 1, i],  #0 for PC1\n",
    "                 pca.components_[int(col3) - 1, i],  #1 for PC2\n",
    "                 head_width=0.05,\n",
    "                 head_length=0.08)\n",
    "\n",
    "        plt.text(pca.components_[int(col2) - 1, i] + 0.05,\n",
    "                 pca.components_[int(col3) - 1, i] + 0.05,\n",
    "                 df2.columns.values[i])\n",
    "\n",
    "    an = np.linspace(0, 2 * np.pi, 100)\n",
    "    plt.plot(np.cos(an), np.sin(an))  # Add a unit circle for scale\n",
    "    plt.axis('equal')\n",
    "    ax.set_title('Variable factor compass')\n",
    "    plt.show()\n",
    "\n",
    "    # Do a scree plot\n",
    "    ind = np.arange(0, n_components)\n",
    "    cumpca = np.cumsum(pca.explained_variance_ratio_)\n",
    "    \n",
    "    (fig, ax) = plt.subplots(figsize=(8, 6))\n",
    "    sns.pointplot(x=ind, y=cumpca)\n",
    "    ax.set_title('Scree plot')\n",
    "    ax.set_xticks(ind)\n",
    "    ax.set_xticklabels(ind)\n",
    "    ax.set_xlabel('Component Number')\n",
    "    ax.set_ylabel('Explained Variance')\n",
    "    plt.show()\n",
    "    \n",
    "\n",
    "num_numeric = len(conf_dict['NumericalColumns'])\n",
    "if  num_numeric > 3:\n",
    "    \n",
    "    w1, w2, w3 = None, None, None\n",
    "    if conf_dict['Target'] in conf_dict['CategoricalColumns']:\n",
    "        cols_list = [conf_dict['Target']] + conf_dict['CategoricalColumns'] \n",
    "        cols_list = list(OrderedDict.fromkeys(cols_list)) \n",
    "    else:\n",
    "        cols_list = conf_dict['CategoricalColumns']\n",
    "\n",
    "    \n",
    "    w1 = widgets.Dropdown(\n",
    "        options = cols_list,\n",
    "        value = cols_list[0],\n",
    "        description = 'Legend Variable:',\n",
    "        width = 10\n",
    "    )\n",
    "    w2 = widgets.Dropdown(\n",
    "        options = [str(x) for x in np.arange(1,num_numeric+1)],\n",
    "        value = '1',\n",
    "        width = 1,\n",
    "        description='PC at X-Axis:'\n",
    "    )\n",
    "    w3 = widgets.Dropdown(\n",
    "        options = [str(x) for x in np.arange(1,num_numeric+1)],\n",
    "        value = '2',\n",
    "        description = 'PC at Y-Axis:'\n",
    "    )\n",
    "    \n",
    "    interact(numerical_pca_egv, \\\n",
    "             df=fixed(df), \\\n",
    "             conf_dict= fixed(conf_dict), \\\n",
    "             col1=w1, col2=w2, col3=w3)"
   ]
  }
 ],
 "metadata": {
  "celltoolbar": "Raw Cell Format",
  "kernelspec": {
   "display_name": "Python 3",
   "language": "python",
   "name": "python3"
  },
  "language_info": {
   "codemirror_mode": {
    "name": "ipython",
    "version": 3
   },
   "file_extension": ".py",
   "mimetype": "text/x-python",
   "name": "python",
   "nbconvert_exporter": "python",
   "pygments_lexer": "ipython3",
   "version": "3.6.3"
  },
  "widgets": {
   "state": {
    "04f0d91d56f342708c52e57fbe9bcd06": {
     "views": [
      {
       "cell_index": 45
      }
     ]
    },
    "0506975d69c14717be17695d1a6c7132": {
     "views": [
      {
       "cell_index": 50
      }
     ]
    },
    "0dc41da3c3f445d690100fd99558f244": {
     "views": [
      {
       "cell_index": 30
      }
     ]
    },
    "2196ee8000864f23bbfa4689bfaffc7d": {
     "views": [
      {
       "cell_index": 37
      }
     ]
    },
    "4a5ca2989b4d456d8d019f38514c3485": {
     "views": [
      {
       "cell_index": 35
      }
     ]
    },
    "56d3942cb1684869808846d861e7b0b9": {
     "views": [
      {
       "cell_index": 48
      }
     ]
    },
    "642af708746142059091fb9c21fb4612": {
     "views": [
      {
       "cell_index": 28
      }
     ]
    },
    "9cc891c4a4dc4ca3bc4801bf7c38e19d": {
     "views": [
      {
       "cell_index": 41
      }
     ]
    },
    "a416687c67684df8818f966704d9f073": {
     "views": [
      {
       "cell_index": 43
      }
     ]
    },
    "d0c17a981a554bcc89cba56b4a1edccd": {
     "views": [
      {
       "cell_index": 39
      }
     ]
    },
    "d0d887fc32c940e88721b75f39ec03c5": {
     "views": [
      {
       "cell_index": 13
      }
     ]
    },
    "e96f8216a4b94c3aa524bce1034708ef": {
     "views": [
      {
       "cell_index": 32
      }
     ]
    }
   },
   "version": "1.2.0"
  }
 },
 "nbformat": 4,
 "nbformat_minor": 1
}
