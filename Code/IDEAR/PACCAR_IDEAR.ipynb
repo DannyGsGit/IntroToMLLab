{
 "cells": [
  {
   "cell_type": "markdown",
   "metadata": {},
   "source": [
    "# Interactive Data Miner\n",
    "## ITD Advanced Analytics\n",
    "- Date: 2018/05\n",
    "- Credit: Based on MS TDSP Utilities\n",
    "\n",
    "This notebook steps through the most common analyses performed in the early stages of the [CRISP DM](https://en.wikipedia.org/wiki/Cross-industry_standard_process_for_data_mining) analysis process. The notebook is specifically centered around \"Data Understanding\" and covers basic \"Data Preparation\" tasks as well. \n",
    "\n",
    "More advanced data preparation and modeling work is use-case-specific and is not captured in this generic workflow. Rather, this notebook is intended to serve as a launchpad for more detailed analysis. "
   ]
  },
  {
   "cell_type": "code",
   "execution_count": 1,
   "metadata": {
    "scrolled": false
   },
   "outputs": [
    {
     "data": {
      "text/html": [
       "<style>\n",
       "    .widget-label { min-width: 20ex !important; }\n",
       "    .widget-text { min-width: 60ex !important; }\n",
       "</style>"
      ],
      "text/plain": [
       "<IPython.core.display.HTML object>"
      ]
     },
     "metadata": {},
     "output_type": "display_data"
    },
    {
     "data": {
      "text/html": [
       "<script>\n",
       "code_show=true; \n",
       "function code_toggle() {\n",
       " if (code_show){\n",
       " $('div.input').hide();\n",
       "\n",
       " } else {\n",
       " $('div.input').show();\n",
       "\n",
       " }\n",
       " code_show = !code_show\n",
       "} \n",
       "$( document ).ready(code_toggle);//commenting code disabling by default\n",
       "</script>\n",
       "<form action = \"javascript:code_toggle()\"><input type=\"submit\" value=\"Toggle Raw Code\"></form>"
      ],
      "text/plain": [
       "<IPython.core.display.HTML object>"
      ]
     },
     "execution_count": 1,
     "metadata": {},
     "output_type": "execute_result"
    }
   ],
   "source": [
    "from IPython.core.display import HTML\n",
    "display(HTML('''<style>\n",
    "    .widget-label { min-width: 20ex !important; }\n",
    "    .widget-text { min-width: 60ex !important; }\n",
    "</style>'''))\n",
    "\n",
    "#Toggle Code\n",
    "HTML('''<script>\n",
    "code_show=true; \n",
    "function code_toggle() {\n",
    " if (code_show){\n",
    " $('div.input').hide();\n",
    "\n",
    " } else {\n",
    " $('div.input').show();\n",
    "\n",
    " }\n",
    " code_show = !code_show\n",
    "} \n",
    "$( document ).ready(code_toggle);//commenting code disabling by default\n",
    "</script>\n",
    "<form action = \"javascript:code_toggle()\"><input type=\"submit\" value=\"Toggle Raw Code\"></form>''')"
   ]
  },
  {
   "cell_type": "markdown",
   "metadata": {},
   "source": [
    "--------------------------------------------------------------------------\n",
    "\n",
    "# <a name=\"setup\"></a> 1.0 Global Configuration and Set Up"
   ]
  },
  {
   "cell_type": "code",
   "execution_count": 7,
   "metadata": {},
   "outputs": [],
   "source": [
    "import collections\n",
    "\n",
    "from IPython.display import display\n",
    "import matplotlib.pyplot as plt\n",
    "import matplotlib\n",
    "import scipy.stats as stats\n",
    "from statsmodels.graphics.mosaicplot import mosaic\n",
    "import statsmodels.api as sm\n",
    "from statsmodels.formula.api import ols\n",
    "import pandas as pd\n",
    "import numpy as np\n",
    "import scipy\n",
    "import matplotlib.pyplot as plt\n",
    "import scipy.stats as stats\n",
    "from functools import partial\n",
    "import IPython\n",
    "import ipywidgets\n",
    "from ipywidgets import widgets\n",
    "from ipywidgets import interact, interactive,fixed\n",
    "import operator\n",
    "from IPython.display import Javascript, display,HTML, clear_output\n",
    "from ipywidgets import widgets, VBox, Output, Layout\n",
    "import seaborn as sns\n",
    "from collections import OrderedDict\n",
    "import yaml\n",
    "import copy\n",
    "import warnings\n",
    "# import getpass\n",
    "import sys\n",
    "\n",
    "warnings.filterwarnings('ignore')\n",
    "\n",
    "from helpers import *\n",
    " \n",
    "%matplotlib inline\n",
    "font={'family':'normal','weight':'normal','size':8}\n",
    "matplotlib.rc('font',**font)\n",
    "matplotlib.rcParams['figure.figsize'] = (12.0, 5.0)\n",
    "matplotlib.rc('xtick', labelsize=9) \n",
    "matplotlib.rc('ytick', labelsize=9)\n",
    "matplotlib.rc('axes', labelsize=10)\n",
    "matplotlib.rc('axes', titlesize=10)\n",
    "sns.set_style('whitegrid')\n"
   ]
  },
  {
   "cell_type": "markdown",
   "metadata": {},
   "source": [
    "## 1.1 Specify and load yaml file"
   ]
  },
  {
   "cell_type": "code",
   "execution_count": 8,
   "metadata": {},
   "outputs": [
    {
     "name": "stdout",
     "output_type": "stream",
     "text": [
      "Please enter yaml file Name: data.yaml\n"
     ]
    }
   ],
   "source": [
    "import sys\n",
    "\n",
    "#Read in yaml file as text\n",
    "if (sys.version_info > (3, 0)):    \n",
    "    yaml_file_name = input('Please enter yaml file Name: ')\n",
    "else:\n",
    "    yaml_file_name = raw_input('Please enter yaml file Name: ')\n",
    "\n",
    "Sample_Size = 10000\n",
    "\n",
    "# %%add_conf_code_to_report\n",
    "\n",
    "conf_dict = ConfUtility.parse_yaml(yaml_file_name)\n",
    "\n",
    "# Read in data from local file or SQL server\n",
    "if 'DataSource' not in conf_dict:\n",
    "    df=pd.read_csv(conf_dict['DataFilePath'], skipinitialspace=True)\n",
    "\n",
    "# Making sure that we are not reading any extra column\n",
    "df = df[[each for each in df.columns if 'Unnamed' not in each]]\n",
    "\n",
    "# Filter out unnecessary columns\n",
    "necessary_columns = conf_dict['CategoricalColumns'] + conf_dict['NumericalColumns'] + [conf_dict['Target']]\n",
    "df = df[list(set(necessary_columns))]\n",
    "\n",
    "# Save a backup of df and numerical columns, pre-manipulation\n",
    "df_original = df\n",
    "conf_dict['OriginalNumericalColumns'] = copy.deepcopy(conf_dict['NumericalColumns'])\n",
    "conf_dict['OriginalCategoricalColumns'] = copy.deepcopy(conf_dict['CategoricalColumns'])"
   ]
  },
  {
   "cell_type": "markdown",
   "metadata": {},
   "source": [
    "--------------------------------------\n",
    "# 2.0 Prepare Data\n",
    "Section 2 covers typical data manipulation steps to prepare data for analysis. It is common to first run the full notebook, then evaluate features to identify outliers, non-normal distributions, etc. that are then remediated by coming back to section 2 for cleansing. \n",
    "\n",
    "After applying changes in any subsection of this section, be sure to hit the \"Apply\" buttons to re-compile the notebook with the changes you've made.\n",
    "\n",
    "## 2.1 Filtering\n",
    "Filters are applied in this first section such that any transformations of the data are reflected in analyses below. Note that changes made to the data in this section are not automatically propagated through the document, subsequent cells must be re-compiled individually with Ctrl+Enter or by selecting *Cell > Run All Below* (recommended)."
   ]
  },
  {
   "cell_type": "markdown",
   "metadata": {},
   "source": [
    "The tool supports filtering on ranges. For more refined filtering methods (e.g. validating values against other columns), custom code can be added by expanding the source code and adding user-defined functions. Any custom function must produce a Pandas DataFrame object named 'df' to propagate through the notebook.\n",
    "\n",
    "[[Hit \"Toggle Raw Code\" button at top of notebook to edit user-defined filters]]"
   ]
  },
  {
   "cell_type": "code",
   "execution_count": 9,
   "metadata": {},
   "outputs": [
    {
     "name": "stdout",
     "output_type": "stream",
     "text": [
      "Feature: PoolQC\n",
      "Number of NAs: 1453\n",
      "[nan 'Ex' 'Fa' 'Gd']\n",
      "==============================================\n",
      "Feature: MiscFeature\n",
      "Number of NAs: 1406\n",
      "[nan 'Shed' 'Gar2' 'Othr' 'TenC']\n",
      "==============================================\n",
      "Feature: Alley\n",
      "Number of NAs: 1369\n",
      "[nan 'Grvl' 'Pave']\n",
      "==============================================\n",
      "Feature: Fence\n",
      "Number of NAs: 1179\n",
      "[nan 'MnPrv' 'GdWo' 'GdPrv' 'MnWw']\n",
      "==============================================\n",
      "Feature: FireplaceQu\n",
      "Number of NAs: 690\n",
      "[nan 'TA' 'Gd' 'Fa' 'Ex' 'Po']\n",
      "==============================================\n",
      "Feature: LotFrontage\n",
      "Number of NAs: 259\n",
      "[ 65.  80.  68.  60.  84.  85.  75.  nan  51.  50.  70.  91.  72.  66.\n",
      " 101.  57.  44. 110.  98.  47. 108. 112.  74. 115.  61.  48.  33.  52.\n",
      " 100.  24.  89.  63.  76.  81.  95.  69.  21.  32.  78. 121. 122.  40.\n",
      " 105.  73.  77.  64.  94.  34.  90.  55.  88.  82.  71. 120. 107.  92.\n",
      " 134.  62.  86. 141.  97.  54.  41.  79. 174.  99.  67.  83.  43. 103.\n",
      "  93.  30. 129. 140.  35.  37. 118.  87. 116. 150. 111.  49.  96.  59.\n",
      "  36.  56. 102.  58.  38. 109. 130.  53. 137.  45. 106. 104.  42.  39.\n",
      " 144. 114. 128. 149. 313. 168. 182. 138. 160. 152. 124. 153.  46.]\n",
      "==============================================\n",
      "Feature: GarageType\n",
      "Number of NAs: 81\n",
      "['Attchd' 'Detchd' 'BuiltIn' 'CarPort' nan 'Basment' '2Types']\n",
      "==============================================\n",
      "Feature: GarageQual\n",
      "Number of NAs: 81\n",
      "['TA' 'Fa' 'Gd' nan 'Ex' 'Po']\n",
      "==============================================\n",
      "Feature: GarageFinish\n",
      "Number of NAs: 81\n",
      "['RFn' 'Unf' 'Fin' nan]\n",
      "==============================================\n",
      "Feature: GarageYrBlt\n",
      "Number of NAs: 81\n",
      "[2003. 1976. 2001. 1998. 2000. 1993. 2004. 1973. 1931. 1939. 1965. 2005.\n",
      " 1962. 2006. 1960. 1991. 1970. 1967. 1958. 1930. 2002. 1968. 2007. 2008.\n",
      " 1957. 1920. 1966. 1959. 1995. 1954. 1953.   nan 1983. 1977. 1997. 1985.\n",
      " 1963. 1981. 1964. 1999. 1935. 1990. 1945. 1987. 1989. 1915. 1956. 1948.\n",
      " 1974. 2009. 1950. 1961. 1921. 1900. 1979. 1951. 1969. 1936. 1975. 1971.\n",
      " 1923. 1984. 1926. 1955. 1986. 1988. 1916. 1932. 1972. 1918. 1980. 1924.\n",
      " 1996. 1940. 1949. 1994. 1910. 1978. 1982. 1992. 1925. 1941. 2010. 1927.\n",
      " 1947. 1937. 1942. 1938. 1952. 1928. 1922. 1934. 1906. 1914. 1946. 1908.\n",
      " 1929. 1933.]\n",
      "==============================================\n",
      "Feature: GarageCond\n",
      "Number of NAs: 81\n",
      "['TA' 'Fa' nan 'Gd' 'Po' 'Ex']\n",
      "==============================================\n",
      "Feature: BsmtFinType2\n",
      "Number of NAs: 38\n",
      "['Unf' 'BLQ' nan 'ALQ' 'Rec' 'LwQ' 'GLQ']\n",
      "==============================================\n",
      "Feature: BsmtExposure\n",
      "Number of NAs: 38\n",
      "['No' 'Gd' 'Mn' 'Av' nan]\n",
      "==============================================\n",
      "Feature: BsmtCond\n",
      "Number of NAs: 37\n",
      "['TA' 'Gd' nan 'Fa' 'Po']\n",
      "==============================================\n",
      "Feature: BsmtQual\n",
      "Number of NAs: 37\n",
      "['Gd' 'TA' 'Ex' nan 'Fa']\n",
      "==============================================\n",
      "Feature: BsmtFinType1\n",
      "Number of NAs: 37\n",
      "['GLQ' 'ALQ' 'Unf' 'Rec' 'BLQ' nan 'LwQ']\n",
      "==============================================\n",
      "Feature: MasVnrArea\n",
      "Number of NAs: 8\n",
      "[1.960e+02 0.000e+00 1.620e+02 3.500e+02 1.860e+02 2.400e+02 2.860e+02\n",
      " 3.060e+02 2.120e+02 1.800e+02 3.800e+02 2.810e+02 6.400e+02 2.000e+02\n",
      " 2.460e+02 1.320e+02 6.500e+02 1.010e+02 4.120e+02 2.720e+02 4.560e+02\n",
      " 1.031e+03 1.780e+02 5.730e+02 3.440e+02 2.870e+02 1.670e+02 1.115e+03\n",
      " 4.000e+01 1.040e+02 5.760e+02 4.430e+02 4.680e+02 6.600e+01 2.200e+01\n",
      " 2.840e+02 7.600e+01 2.030e+02 6.800e+01 1.830e+02 4.800e+01 2.800e+01\n",
      " 3.360e+02 6.000e+02 7.680e+02 4.800e+02 2.200e+02 1.840e+02 1.129e+03\n",
      " 1.160e+02 1.350e+02 2.660e+02 8.500e+01 3.090e+02 1.360e+02 2.880e+02\n",
      " 7.000e+01 3.200e+02 5.000e+01 1.200e+02 4.360e+02 2.520e+02 8.400e+01\n",
      " 6.640e+02 2.260e+02 3.000e+02 6.530e+02 1.120e+02 4.910e+02 2.680e+02\n",
      " 7.480e+02 9.800e+01 2.750e+02 1.380e+02 2.050e+02 2.620e+02 1.280e+02\n",
      " 2.600e+02 1.530e+02 6.400e+01 3.120e+02 1.600e+01 9.220e+02 1.420e+02\n",
      " 2.900e+02 1.270e+02 5.060e+02 2.970e+02       nan 6.040e+02 2.540e+02\n",
      " 3.600e+01 1.020e+02 4.720e+02 4.810e+02 1.080e+02 3.020e+02 1.720e+02\n",
      " 3.990e+02 2.700e+02 4.600e+01 2.100e+02 1.740e+02 3.480e+02 3.150e+02\n",
      " 2.990e+02 3.400e+02 1.660e+02 7.200e+01 3.100e+01 3.400e+01 2.380e+02\n",
      " 1.600e+03 3.650e+02 5.600e+01 1.500e+02 2.780e+02 2.560e+02 2.250e+02\n",
      " 3.700e+02 3.880e+02 1.750e+02 2.960e+02 1.460e+02 1.130e+02 1.760e+02\n",
      " 6.160e+02 3.000e+01 1.060e+02 8.700e+02 3.620e+02 5.300e+02 5.000e+02\n",
      " 5.100e+02 2.470e+02 3.050e+02 2.550e+02 1.250e+02 1.000e+02 4.320e+02\n",
      " 1.260e+02 4.730e+02 7.400e+01 1.450e+02 2.320e+02 3.760e+02 4.200e+01\n",
      " 1.610e+02 1.100e+02 1.800e+01 2.240e+02 2.480e+02 8.000e+01 3.040e+02\n",
      " 2.150e+02 7.720e+02 4.350e+02 3.780e+02 5.620e+02 1.680e+02 8.900e+01\n",
      " 2.850e+02 3.600e+02 9.400e+01 3.330e+02 9.210e+02 7.620e+02 5.940e+02\n",
      " 2.190e+02 1.880e+02 4.790e+02 5.840e+02 1.820e+02 2.500e+02 2.920e+02\n",
      " 2.450e+02 2.070e+02 8.200e+01 9.700e+01 3.350e+02 2.080e+02 4.200e+02\n",
      " 1.700e+02 4.590e+02 2.800e+02 9.900e+01 1.920e+02 2.040e+02 2.330e+02\n",
      " 1.560e+02 4.520e+02 5.130e+02 2.610e+02 1.640e+02 2.590e+02 2.090e+02\n",
      " 2.630e+02 2.160e+02 3.510e+02 6.600e+02 3.810e+02 5.400e+01 5.280e+02\n",
      " 2.580e+02 4.640e+02 5.700e+01 1.470e+02 1.170e+03 2.930e+02 6.300e+02\n",
      " 4.660e+02 1.090e+02 4.100e+01 1.600e+02 2.890e+02 6.510e+02 1.690e+02\n",
      " 9.500e+01 4.420e+02 2.020e+02 3.380e+02 8.940e+02 3.280e+02 6.730e+02\n",
      " 6.030e+02 1.000e+00 3.750e+02 9.000e+01 3.800e+01 1.570e+02 1.100e+01\n",
      " 1.400e+02 1.300e+02 1.480e+02 8.600e+02 4.240e+02 1.047e+03 2.430e+02\n",
      " 8.160e+02 3.870e+02 2.230e+02 1.580e+02 1.370e+02 1.150e+02 1.890e+02\n",
      " 2.740e+02 1.170e+02 6.000e+01 1.220e+02 9.200e+01 4.150e+02 7.600e+02\n",
      " 2.700e+01 7.500e+01 3.610e+02 1.050e+02 3.420e+02 2.980e+02 5.410e+02\n",
      " 2.360e+02 1.440e+02 4.230e+02 4.400e+01 1.510e+02 9.750e+02 4.500e+02\n",
      " 2.300e+02 5.710e+02 2.400e+01 5.300e+01 2.060e+02 1.400e+01 3.240e+02\n",
      " 2.950e+02 3.960e+02 6.700e+01 1.540e+02 4.250e+02 4.500e+01 1.378e+03\n",
      " 3.370e+02 1.490e+02 1.430e+02 5.100e+01 1.710e+02 2.340e+02 6.300e+01\n",
      " 7.660e+02 3.200e+01 8.100e+01 1.630e+02 5.540e+02 2.180e+02 6.320e+02\n",
      " 1.140e+02 5.670e+02 3.590e+02 4.510e+02 6.210e+02 7.880e+02 8.600e+01\n",
      " 7.960e+02 3.910e+02 2.280e+02 8.800e+01 1.650e+02 4.280e+02 4.100e+02\n",
      " 5.640e+02 3.680e+02 3.180e+02 5.790e+02 6.500e+01 7.050e+02 4.080e+02\n",
      " 2.440e+02 1.230e+02 3.660e+02 7.310e+02 4.480e+02 2.940e+02 3.100e+02\n",
      " 2.370e+02 4.260e+02 9.600e+01 4.380e+02 1.940e+02 1.190e+02]\n",
      "==============================================\n",
      "Feature: MasVnrType\n",
      "Number of NAs: 8\n",
      "['BrkFace' 'None' 'Stone' 'BrkCmn' nan]\n",
      "==============================================\n",
      "Feature: Electrical\n",
      "Number of NAs: 1\n",
      "['SBrkr' 'FuseF' 'FuseA' 'FuseP' 'Mix' nan]\n",
      "==============================================\n"
     ]
    }
   ],
   "source": [
    "# Investigate missingness\n",
    "# NA values will crash the model fits, so let's see how to handle them\n",
    "\n",
    "## Function to count NAs\n",
    "def count_NA(data):\n",
    "    na_counts = data.isnull().sum(axis=0).reset_index(name='NACount')\n",
    "    ## Print out the list of columns with missing values\n",
    "    return(na_counts[na_counts.NACount>0].sort_values('NACount', ascending=False))\n",
    "\n",
    "def FillNACols(data, colname, value):\n",
    "    data[colname][data[colname].isna()] = value\n",
    "    return(data)\n",
    "\n",
    "# Inspect NA counts\n",
    "## Get the counts of NAs\n",
    "na_counts = count_NA(df)\n",
    "## Print details about each column with NAs\n",
    "for idx in na_counts['index']:\n",
    "    print('Feature: {}'.format(idx))\n",
    "    print('Number of NAs: {}'.format(na_counts.NACount[na_counts['index']==idx].item()))\n",
    "    print(df[idx].unique())\n",
    "    print('==============================================')\n",
    "\n",
    "# Fill values\n",
    "## Simple fills\n",
    "df = FillNACols(df, 'Alley', 'None')\n",
    "df = FillNACols(df, 'PoolQC', 'None')\n",
    "df = FillNACols(df, 'MiscFeature', 'None')\n",
    "df = FillNACols(df, 'Fence', 'None')\n",
    "df = FillNACols(df, 'FireplaceQu', 'None')\n",
    "df = FillNACols(df, 'GarageFinish', 'None')\n",
    "df = FillNACols(df, 'GarageCond', 'None')\n",
    "df = FillNACols(df, 'GarageQual', 'None')\n",
    "df = FillNACols(df, 'GarageType', 'None')\n",
    "df = FillNACols(df, 'BsmtExposure', 'None')\n",
    "df = FillNACols(df, 'BsmtQual', 'None')\n",
    "df = FillNACols(df, 'BsmtCond', 'None')\n",
    "df = FillNACols(df, 'BsmtFinType1', 'None')\n",
    "df = FillNACols(df, 'BsmtFinType2', 'None')\n",
    "\n",
    "## Remove Rows\n",
    "df = df = df[pd.notna(df['MasVnrType'])]\n",
    "df = df = df[pd.notna(df['Electrical'])]\n",
    "\n",
    "## Remove Columns\n",
    "cols_to_drop = ['GarageYrBlt', 'LotFrontage']\n",
    "try:\n",
    "    df.drop(columns=cols_to_drop, inplace=True)\n",
    "except:\n",
    "    print(\"Columns already dropped\")"
   ]
  },
  {
   "cell_type": "code",
   "execution_count": 10,
   "metadata": {
    "scrolled": false
   },
   "outputs": [],
   "source": [
    "# Update conf_dict to reflect the new df\n",
    "conf_dict['CategoricalColumns'] = list(set(conf_dict['CategoricalColumns']) - set(cols_to_drop))\n",
    "conf_dict['NumericalColumns'] = list(set(conf_dict['NumericalColumns']) - set(cols_to_drop))"
   ]
  },
  {
   "cell_type": "code",
   "execution_count": 11,
   "metadata": {
    "scrolled": true
   },
   "outputs": [
    {
     "data": {
      "text/html": [
       "<div>\n",
       "<style scoped>\n",
       "    .dataframe tbody tr th:only-of-type {\n",
       "        vertical-align: middle;\n",
       "    }\n",
       "\n",
       "    .dataframe tbody tr th {\n",
       "        vertical-align: top;\n",
       "    }\n",
       "\n",
       "    .dataframe thead th {\n",
       "        text-align: right;\n",
       "    }\n",
       "</style>\n",
       "<table border=\"1\" class=\"dataframe\">\n",
       "  <thead>\n",
       "    <tr style=\"text-align: right;\">\n",
       "      <th></th>\n",
       "      <th>BsmtFinType2</th>\n",
       "      <th>GarageCars</th>\n",
       "      <th>MoSold</th>\n",
       "      <th>BldgType</th>\n",
       "      <th>ExterCond</th>\n",
       "      <th>Exterior1st</th>\n",
       "      <th>RoofMatl</th>\n",
       "      <th>Fence</th>\n",
       "      <th>SaleCondition</th>\n",
       "      <th>KitchenQual</th>\n",
       "      <th>...</th>\n",
       "      <th>TotalBsmtSF</th>\n",
       "      <th>MSSubClass</th>\n",
       "      <th>1stFlrSF</th>\n",
       "      <th>FireplaceQu</th>\n",
       "      <th>OverallQual</th>\n",
       "      <th>PavedDrive</th>\n",
       "      <th>BsmtHalfBath</th>\n",
       "      <th>ExterQual</th>\n",
       "      <th>MasVnrType</th>\n",
       "      <th>Id</th>\n",
       "    </tr>\n",
       "  </thead>\n",
       "  <tbody>\n",
       "    <tr>\n",
       "      <th>0</th>\n",
       "      <td>Unf</td>\n",
       "      <td>2</td>\n",
       "      <td>2</td>\n",
       "      <td>1Fam</td>\n",
       "      <td>TA</td>\n",
       "      <td>VinylSd</td>\n",
       "      <td>CompShg</td>\n",
       "      <td>None</td>\n",
       "      <td>Normal</td>\n",
       "      <td>Gd</td>\n",
       "      <td>...</td>\n",
       "      <td>856</td>\n",
       "      <td>60</td>\n",
       "      <td>856</td>\n",
       "      <td>None</td>\n",
       "      <td>7</td>\n",
       "      <td>Y</td>\n",
       "      <td>0</td>\n",
       "      <td>Gd</td>\n",
       "      <td>BrkFace</td>\n",
       "      <td>1</td>\n",
       "    </tr>\n",
       "    <tr>\n",
       "      <th>1</th>\n",
       "      <td>Unf</td>\n",
       "      <td>2</td>\n",
       "      <td>5</td>\n",
       "      <td>1Fam</td>\n",
       "      <td>TA</td>\n",
       "      <td>MetalSd</td>\n",
       "      <td>CompShg</td>\n",
       "      <td>None</td>\n",
       "      <td>Normal</td>\n",
       "      <td>TA</td>\n",
       "      <td>...</td>\n",
       "      <td>1262</td>\n",
       "      <td>20</td>\n",
       "      <td>1262</td>\n",
       "      <td>TA</td>\n",
       "      <td>6</td>\n",
       "      <td>Y</td>\n",
       "      <td>1</td>\n",
       "      <td>TA</td>\n",
       "      <td>None</td>\n",
       "      <td>2</td>\n",
       "    </tr>\n",
       "    <tr>\n",
       "      <th>2</th>\n",
       "      <td>Unf</td>\n",
       "      <td>2</td>\n",
       "      <td>9</td>\n",
       "      <td>1Fam</td>\n",
       "      <td>TA</td>\n",
       "      <td>VinylSd</td>\n",
       "      <td>CompShg</td>\n",
       "      <td>None</td>\n",
       "      <td>Normal</td>\n",
       "      <td>Gd</td>\n",
       "      <td>...</td>\n",
       "      <td>920</td>\n",
       "      <td>60</td>\n",
       "      <td>920</td>\n",
       "      <td>TA</td>\n",
       "      <td>7</td>\n",
       "      <td>Y</td>\n",
       "      <td>0</td>\n",
       "      <td>Gd</td>\n",
       "      <td>BrkFace</td>\n",
       "      <td>3</td>\n",
       "    </tr>\n",
       "    <tr>\n",
       "      <th>3</th>\n",
       "      <td>Unf</td>\n",
       "      <td>3</td>\n",
       "      <td>2</td>\n",
       "      <td>1Fam</td>\n",
       "      <td>TA</td>\n",
       "      <td>Wd Sdng</td>\n",
       "      <td>CompShg</td>\n",
       "      <td>None</td>\n",
       "      <td>Abnorml</td>\n",
       "      <td>Gd</td>\n",
       "      <td>...</td>\n",
       "      <td>756</td>\n",
       "      <td>70</td>\n",
       "      <td>961</td>\n",
       "      <td>Gd</td>\n",
       "      <td>7</td>\n",
       "      <td>Y</td>\n",
       "      <td>0</td>\n",
       "      <td>TA</td>\n",
       "      <td>None</td>\n",
       "      <td>4</td>\n",
       "    </tr>\n",
       "    <tr>\n",
       "      <th>4</th>\n",
       "      <td>Unf</td>\n",
       "      <td>3</td>\n",
       "      <td>12</td>\n",
       "      <td>1Fam</td>\n",
       "      <td>TA</td>\n",
       "      <td>VinylSd</td>\n",
       "      <td>CompShg</td>\n",
       "      <td>None</td>\n",
       "      <td>Normal</td>\n",
       "      <td>Gd</td>\n",
       "      <td>...</td>\n",
       "      <td>1145</td>\n",
       "      <td>60</td>\n",
       "      <td>1145</td>\n",
       "      <td>TA</td>\n",
       "      <td>8</td>\n",
       "      <td>Y</td>\n",
       "      <td>0</td>\n",
       "      <td>Gd</td>\n",
       "      <td>BrkFace</td>\n",
       "      <td>5</td>\n",
       "    </tr>\n",
       "  </tbody>\n",
       "</table>\n",
       "<p>5 rows × 79 columns</p>\n",
       "</div>"
      ],
      "text/plain": [
       "  BsmtFinType2  GarageCars  MoSold BldgType ExterCond Exterior1st RoofMatl  \\\n",
       "0          Unf           2       2     1Fam        TA     VinylSd  CompShg   \n",
       "1          Unf           2       5     1Fam        TA     MetalSd  CompShg   \n",
       "2          Unf           2       9     1Fam        TA     VinylSd  CompShg   \n",
       "3          Unf           3       2     1Fam        TA     Wd Sdng  CompShg   \n",
       "4          Unf           3      12     1Fam        TA     VinylSd  CompShg   \n",
       "\n",
       "  Fence SaleCondition KitchenQual ... TotalBsmtSF MSSubClass 1stFlrSF  \\\n",
       "0  None        Normal          Gd ...         856         60      856   \n",
       "1  None        Normal          TA ...        1262         20     1262   \n",
       "2  None        Normal          Gd ...         920         60      920   \n",
       "3  None       Abnorml          Gd ...         756         70      961   \n",
       "4  None        Normal          Gd ...        1145         60     1145   \n",
       "\n",
       "  FireplaceQu OverallQual  PavedDrive  BsmtHalfBath ExterQual MasVnrType Id  \n",
       "0        None           7           Y             0        Gd    BrkFace  1  \n",
       "1          TA           6           Y             1        TA       None  2  \n",
       "2          TA           7           Y             0        Gd    BrkFace  3  \n",
       "3          Gd           7           Y             0        TA       None  4  \n",
       "4          TA           8           Y             0        Gd    BrkFace  5  \n",
       "\n",
       "[5 rows x 79 columns]"
      ]
     },
     "execution_count": 11,
     "metadata": {},
     "output_type": "execute_result"
    }
   ],
   "source": [
    "df.head()"
   ]
  },
  {
   "cell_type": "code",
   "execution_count": 12,
   "metadata": {},
   "outputs": [
    {
     "data": {
      "text/plain": [
       "{'CategoricalColumns': ['BsmtFinType2',\n",
       "  'BldgType',\n",
       "  'ExterCond',\n",
       "  'Exterior1st',\n",
       "  'RoofMatl',\n",
       "  'Fence',\n",
       "  'SaleCondition',\n",
       "  'KitchenQual',\n",
       "  'Electrical',\n",
       "  'Foundation',\n",
       "  'Condition1',\n",
       "  'Exterior2nd',\n",
       "  'CentralAir',\n",
       "  'Neighborhood',\n",
       "  'Alley',\n",
       "  'RoofStyle',\n",
       "  'GarageFinish',\n",
       "  'BsmtQual',\n",
       "  'Condition2',\n",
       "  'Functional',\n",
       "  'BsmtExposure',\n",
       "  'Utilities',\n",
       "  'LandSlope',\n",
       "  'LotConfig',\n",
       "  'MSZoning',\n",
       "  'LandContour',\n",
       "  'LotShape',\n",
       "  'HouseStyle',\n",
       "  'GarageType',\n",
       "  'MiscFeature',\n",
       "  'SaleType',\n",
       "  'BsmtCond',\n",
       "  'GarageQual',\n",
       "  'GarageCond',\n",
       "  'Street',\n",
       "  'HeatingQC',\n",
       "  'Heating',\n",
       "  'PoolQC',\n",
       "  'BsmtFinType1',\n",
       "  'FireplaceQu',\n",
       "  'PavedDrive',\n",
       "  'ExterQual',\n",
       "  'MasVnrType'],\n",
       " 'DataFilePath': 'idear_data.csv',\n",
       " 'NumericalColumns': ['GarageCars',\n",
       "  'MoSold',\n",
       "  'WoodDeckSF',\n",
       "  'MasVnrArea',\n",
       "  'GarageArea',\n",
       "  '2ndFlrSF',\n",
       "  'PoolArea',\n",
       "  'LotArea',\n",
       "  'MiscVal',\n",
       "  'YrSold',\n",
       "  'BsmtFinSF2',\n",
       "  'LowQualFinSF',\n",
       "  'FullBath',\n",
       "  'HalfBath',\n",
       "  'SalePrice',\n",
       "  'TotRmsAbvGrd',\n",
       "  'YearBuilt',\n",
       "  'OverallCond',\n",
       "  'KitchenAbvGr',\n",
       "  'YearRemodAdd',\n",
       "  'GrLivArea',\n",
       "  'ScreenPorch',\n",
       "  'Fireplaces',\n",
       "  'BsmtUnfSF',\n",
       "  'BsmtFullBath',\n",
       "  'EnclosedPorch',\n",
       "  'BedroomAbvGr',\n",
       "  'BsmtFinSF1',\n",
       "  'OpenPorchSF',\n",
       "  '3SsnPorch',\n",
       "  'TotalBsmtSF',\n",
       "  'MSSubClass',\n",
       "  '1stFlrSF',\n",
       "  'OverallQual',\n",
       "  'BsmtHalfBath',\n",
       "  'Id'],\n",
       " 'Target': 'SalePrice',\n",
       " 'OriginalNumericalColumns': ['Id',\n",
       "  'MSSubClass',\n",
       "  'LotFrontage',\n",
       "  'LotArea',\n",
       "  'OverallQual',\n",
       "  'OverallCond',\n",
       "  'YearBuilt',\n",
       "  'YearRemodAdd',\n",
       "  'MasVnrArea',\n",
       "  'BsmtFinSF1',\n",
       "  'BsmtFinSF2',\n",
       "  'BsmtUnfSF',\n",
       "  'TotalBsmtSF',\n",
       "  '1stFlrSF',\n",
       "  '2ndFlrSF',\n",
       "  'LowQualFinSF',\n",
       "  'GrLivArea',\n",
       "  'BsmtFullBath',\n",
       "  'BsmtHalfBath',\n",
       "  'FullBath',\n",
       "  'HalfBath',\n",
       "  'BedroomAbvGr',\n",
       "  'KitchenAbvGr',\n",
       "  'TotRmsAbvGrd',\n",
       "  'Fireplaces',\n",
       "  'GarageYrBlt',\n",
       "  'GarageCars',\n",
       "  'GarageArea',\n",
       "  'WoodDeckSF',\n",
       "  'OpenPorchSF',\n",
       "  'EnclosedPorch',\n",
       "  '3SsnPorch',\n",
       "  'ScreenPorch',\n",
       "  'PoolArea',\n",
       "  'MiscVal',\n",
       "  'MoSold',\n",
       "  'YrSold',\n",
       "  'SalePrice'],\n",
       " 'OriginalCategoricalColumns': ['MSZoning',\n",
       "  'Street',\n",
       "  'Alley',\n",
       "  'LotShape',\n",
       "  'LandContour',\n",
       "  'Utilities',\n",
       "  'LotConfig',\n",
       "  'LandSlope',\n",
       "  'Neighborhood',\n",
       "  'Condition1',\n",
       "  'Condition2',\n",
       "  'BldgType',\n",
       "  'HouseStyle',\n",
       "  'RoofStyle',\n",
       "  'RoofMatl',\n",
       "  'Exterior1st',\n",
       "  'Exterior2nd',\n",
       "  'MasVnrType',\n",
       "  'ExterQual',\n",
       "  'ExterCond',\n",
       "  'Foundation',\n",
       "  'BsmtQual',\n",
       "  'BsmtCond',\n",
       "  'BsmtExposure',\n",
       "  'BsmtFinType1',\n",
       "  'BsmtFinType2',\n",
       "  'Heating',\n",
       "  'HeatingQC',\n",
       "  'CentralAir',\n",
       "  'Electrical',\n",
       "  'KitchenQual',\n",
       "  'Functional',\n",
       "  'FireplaceQu',\n",
       "  'GarageType',\n",
       "  'GarageFinish',\n",
       "  'GarageQual',\n",
       "  'GarageCond',\n",
       "  'PavedDrive',\n",
       "  'PoolQC',\n",
       "  'Fence',\n",
       "  'MiscFeature',\n",
       "  'SaleType',\n",
       "  'SaleCondition']}"
      ]
     },
     "execution_count": 12,
     "metadata": {},
     "output_type": "execute_result"
    }
   ],
   "source": [
    "conf_dict"
   ]
  },
  {
   "cell_type": "code",
   "execution_count": 13,
   "metadata": {},
   "outputs": [
    {
     "name": "stdout",
     "output_type": "stream",
     "text": [
      "Confirm Filter Application\n"
     ]
    },
    {
     "data": {
      "application/vnd.jupyter.widget-view+json": {
       "model_id": "85531844614540b2b49bcb1e3ddb5965",
       "version_major": 2,
       "version_minor": 0
      },
      "text/plain": [
       "Button(description='Apply', style=ButtonStyle())"
      ]
     },
     "metadata": {},
     "output_type": "display_data"
    }
   ],
   "source": [
    "# Re-run all cells below\n",
    "def run_all(ev):\n",
    "    display(Javascript('IPython.notebook.execute_cells_below()'))\n",
    "\n",
    "print(\"Confirm Filter Application\")\n",
    "button_rerun = widgets.Button(description=\"Apply\")\n",
    "button_rerun.on_click(run_all)\n",
    "display(button_rerun)"
   ]
  },
  {
   "cell_type": "markdown",
   "metadata": {},
   "source": [
    "## 2.2 Log Transformations\n",
    "It may be necesarry to transform certain columns. In particular, it is common to log-transform numerical columns to ensure a normal distribution. If a feature fails the normality tests below, try creating a log-transformed version of that feature here- this version may pass a normality test.\n",
    "\n",
    "Note: When a column is log-transformed, the original column (e.g. \"Age\") is replaced by the transformed version (\"Age_log\"). If you decide not to use the transformation, simply re-run this section with your column de-selected to restore the original version."
   ]
  },
  {
   "cell_type": "code",
   "execution_count": 14,
   "metadata": {},
   "outputs": [
    {
     "data": {
      "application/vnd.jupyter.widget-view+json": {
       "model_id": "7d89a0ff880743ada45aaa062f39bd79",
       "version_major": 2,
       "version_minor": 0
      },
      "text/plain": [
       "SelectMultiple(description='Select Column(s)', layout=Layout(display='flex', flex_flow='column'), options=('Ga…"
      ]
     },
     "metadata": {},
     "output_type": "display_data"
    },
    {
     "data": {
      "application/vnd.jupyter.widget-view+json": {
       "model_id": "bbd0295e1d824fc8a2b70f90f2358d78",
       "version_major": 2,
       "version_minor": 0
      },
      "text/plain": [
       "Button(description='Add Transforms', style=ButtonStyle())"
      ]
     },
     "metadata": {},
     "output_type": "display_data"
    },
    {
     "data": {
      "application/vnd.jupyter.widget-view+json": {
       "model_id": "d1300c9d5ded4c5cbfa2c86f221ac1bb",
       "version_major": 2,
       "version_minor": 0
      },
      "text/plain": [
       "Output()"
      ]
     },
     "metadata": {},
     "output_type": "display_data"
    }
   ],
   "source": [
    "# Reset values\n",
    "df_xform = copy.deepcopy(df)\n",
    "# conf_dict['NumericalColumns'] = copy.deepcopy(conf_dict['OriginalNumericalColumns'])\n",
    "log_transforms = {}\n",
    "\n",
    "# Define a multiple-select list to select columns for transformation\n",
    "log_list = widgets.SelectMultiple(\n",
    "    options=conf_dict['NumericalColumns'],\n",
    "    description='Select Column(s)',\n",
    "    disabled=False,\n",
    "    layout=Layout(display=\"flex\", flex_flow='column')\n",
    ")\n",
    "\n",
    "display(log_list)\n",
    "\n",
    "# And a button to execute the transform\n",
    "out_log = Output()\n",
    "with out_log:\n",
    "        clear_output()\n",
    "\n",
    "def apply_log(ev):\n",
    "    for feature in log_list.value:\n",
    "        # Create new feature\n",
    "        new_feature = feature + '_log'\n",
    "        df_xform[new_feature] = np.log1p(df_xform[feature])\n",
    "        conf_dict['NumericalColumns'].append(new_feature)\n",
    "        # Drop untransformed feature\n",
    "#         conf_dict['NumericalColumns'].remove(feature)\n",
    "#         df_xform.drop([feature], axis = 1, inplace = True)\n",
    "        log_transforms.update({new_feature: {'type': 'log1p', 'source_feature': feature}})\n",
    "        with out_log: \n",
    "            print(\"Generated log transform of \" + feature + \": \" + new_feature)\n",
    "            print(\"Removed \" + feature + \" from numerical features\")\n",
    "\n",
    "            \n",
    "\n",
    "\n",
    "button_log = widgets.Button(description=\"Add Transforms\")\n",
    "button_log.on_click(apply_log)\n",
    "display(button_log)\n",
    "\n",
    "display(out_log)"
   ]
  },
  {
   "cell_type": "code",
   "execution_count": 15,
   "metadata": {},
   "outputs": [
    {
     "name": "stdout",
     "output_type": "stream",
     "text": [
      "Apply log transforms to notebook\n"
     ]
    },
    {
     "data": {
      "application/vnd.jupyter.widget-view+json": {
       "model_id": "85531844614540b2b49bcb1e3ddb5965",
       "version_major": 2,
       "version_minor": 0
      },
      "text/plain": [
       "Button(description='Apply', style=ButtonStyle())"
      ]
     },
     "metadata": {},
     "output_type": "display_data"
    }
   ],
   "source": [
    "print(\"Apply log transforms to notebook\")\n",
    "display(button_rerun)"
   ]
  },
  {
   "cell_type": "markdown",
   "metadata": {},
   "source": [
    "## 2.3 Discretization\n",
    "In some cases, it may be beneficial to bin numerical values. This can be achieved in the following section. Binning will add columns with an appended *_bin* label."
   ]
  },
  {
   "cell_type": "code",
   "execution_count": 16,
   "metadata": {},
   "outputs": [
    {
     "data": {
      "application/vnd.jupyter.widget-view+json": {
       "model_id": "1b0dd9cb44b942e993945695798c09a1",
       "version_major": 2,
       "version_minor": 0
      },
      "text/plain": [
       "Dropdown(description='Feature:', options=('GarageCars', 'MoSold', 'WoodDeckSF', 'MasVnrArea', 'GarageArea', '2…"
      ]
     },
     "metadata": {},
     "output_type": "display_data"
    },
    {
     "data": {
      "application/vnd.jupyter.widget-view+json": {
       "model_id": "a9caa9d9733c46fd873fe6b808e2a621",
       "version_major": 2,
       "version_minor": 0
      },
      "text/plain": [
       "IntSlider(value=4, description='Number of Bins', min=2)"
      ]
     },
     "metadata": {},
     "output_type": "display_data"
    },
    {
     "data": {
      "application/vnd.jupyter.widget-view+json": {
       "model_id": "d87e9b26508d4df1ab21486cb9722a63",
       "version_major": 2,
       "version_minor": 0
      },
      "text/plain": [
       "Button(description='Apply Discretization', style=ButtonStyle())"
      ]
     },
     "metadata": {},
     "output_type": "display_data"
    },
    {
     "data": {
      "application/vnd.jupyter.widget-view+json": {
       "model_id": "c587fea86694459aaeeb21e9e657d6c6",
       "version_major": 2,
       "version_minor": 0
      },
      "text/plain": [
       "Output()"
      ]
     },
     "metadata": {},
     "output_type": "display_data"
    }
   ],
   "source": [
    "df_binned = copy.deepcopy(df_xform)\n",
    "conf_dict['CategoricalColumns'] = copy.deepcopy(conf_dict['OriginalCategoricalColumns'])\n",
    "\n",
    "# Prep a clean-sheet output to reflect transforms being applied\n",
    "out_disc = Output()\n",
    "with out_disc:\n",
    "        clear_output()\n",
    "\n",
    "# Define a multiple-select list to select columns for transformation\n",
    "feature_list = widgets.Dropdown(\n",
    "    options=conf_dict['NumericalColumns'],\n",
    "    description='Feature:'\n",
    ")\n",
    "\n",
    "bincount = widgets.IntSlider(\n",
    "    min=2, max=100,\n",
    "    step=1, value=4,\n",
    "    description='Number of Bins')\n",
    "\n",
    "display(feature_list)\n",
    "display(bincount)\n",
    "\n",
    "\n",
    "\n",
    "# Pre-allocate dict to log transformations\n",
    "bin_transforms = {}\n",
    "\n",
    "# And a button to execute the transform\n",
    "def apply_bin(ev):\n",
    "    # Create new feature\n",
    "    feature = feature_list.value\n",
    "    new_feature = feature + '_bin'\n",
    "    # Create the binned feature\n",
    "    df_binned[new_feature] = pd.qcut(df_binned[feature], bincount.value, duplicates = 'drop')\n",
    "    # Add the feature \n",
    "    conf_dict['CategoricalColumns'].append(new_feature)\n",
    "    with out_disc: \n",
    "        print(\"Generated binned version of \" + feature + \": \" + new_feature)\n",
    "    # Update the log\n",
    "    bin_transforms.update({new_feature: {'bin_count': bincount.value, 'source_feature': feature}})\n",
    "            \n",
    "\n",
    "\n",
    "button_bin = widgets.Button(description=\"Apply Discretization\")\n",
    "button_bin.on_click(apply_bin)\n",
    "display(button_bin)\n",
    "\n",
    "display(out_disc)"
   ]
  },
  {
   "cell_type": "code",
   "execution_count": 17,
   "metadata": {},
   "outputs": [
    {
     "name": "stdout",
     "output_type": "stream",
     "text": [
      "Apply binning to notebook\n"
     ]
    },
    {
     "data": {
      "application/vnd.jupyter.widget-view+json": {
       "model_id": "85531844614540b2b49bcb1e3ddb5965",
       "version_major": 2,
       "version_minor": 0
      },
      "text/plain": [
       "Button(description='Apply', style=ButtonStyle())"
      ]
     },
     "metadata": {},
     "output_type": "display_data"
    }
   ],
   "source": [
    "print(\"Apply binning to notebook\")\n",
    "display(button_rerun)"
   ]
  },
  {
   "cell_type": "markdown",
   "metadata": {},
   "source": [
    "## 2.4 Export Transformations\n",
    "\n",
    "The transformations specified in the sub-sections of section 2 are automatically exported to a YAML file for reproducibility. See \"transformation_logs.yaml\" in your working directory for a record of transformations."
   ]
  },
  {
   "cell_type": "code",
   "execution_count": 18,
   "metadata": {},
   "outputs": [
    {
     "name": "stdout",
     "output_type": "stream",
     "text": [
      "Exported transformation log to ./transformation_logs.yaml\n",
      "\n",
      "=========================== \n",
      "Transformation Log: \n",
      "{}\n"
     ]
    }
   ],
   "source": [
    "transforms = {}\n",
    "           \n",
    "            \n",
    "# Get log transforms\n",
    "for i in log_transforms:\n",
    "    if i in transforms:\n",
    "        transforms[i].update({'log': log_transforms[i]})\n",
    "    else:\n",
    "        transforms.update({i:{'log': log_transforms[i]}})\n",
    "\n",
    "\n",
    "\n",
    "# Get binning transforms\n",
    "for i in bin_transforms:\n",
    "    if i in transforms:\n",
    "        transforms[i].update({'discretize': bin_transforms[i]})\n",
    "    else:\n",
    "        transforms.update({i:{'discretize': bin_transforms[i]}})\n",
    "\n",
    "\n",
    "# Sort by keys\n",
    "transforms = dict(collections.OrderedDict(sorted(transforms.items())))\n",
    "\n",
    "# Save transformations to yaml\n",
    "with open('transformation_logs.yaml', 'w') as outfile:\n",
    "    yaml.dump(transforms, outfile, default_flow_style=False)\n",
    "    \n",
    "print(\"Exported transformation log to ./transformation_logs.yaml\")\n",
    "print(\"\\n=========================== \\nTransformation Log: \")\n",
    "print(transforms)"
   ]
  },
  {
   "cell_type": "markdown",
   "metadata": {},
   "source": [
    "---------------------------------------\n",
    "\n",
    "# 3.0 Summaries"
   ]
  },
  {
   "cell_type": "code",
   "execution_count": 19,
   "metadata": {
    "scrolled": false
   },
   "outputs": [
    {
     "data": {
      "text/html": [
       "<ul><li>Target variable is SalePrice</li><li>Categorical Columns are Utilities, \n",
       "Street, \n",
       "SaleType, \n",
       "SaleCondition, \n",
       "RoofStyle, \n",
       "RoofMatl, \n",
       "PoolQC, \n",
       "PavedDrive, \n",
       "Neighborhood, \n",
       "MiscFeature, \n",
       "MasVnrType, \n",
       "MSZoning, \n",
       "LotShape, \n",
       "LotConfig, \n",
       "LandSlope, \n",
       "LandContour, \n",
       "KitchenQual, \n",
       "HouseStyle, \n",
       "HeatingQC, \n",
       "Heating, \n",
       "GarageType, \n",
       "GarageQual, \n",
       "GarageFinish, \n",
       "GarageCond, \n",
       "Functional, \n",
       "Foundation, \n",
       "FireplaceQu, \n",
       "Fence, \n",
       "Exterior2nd, \n",
       "Exterior1st, \n",
       "ExterQual, \n",
       "ExterCond, \n",
       "Electrical, \n",
       "Condition2, \n",
       "Condition1, \n",
       "CentralAir, \n",
       "BsmtQual, \n",
       "BsmtFinType2, \n",
       "BsmtFinType1, \n",
       "BsmtExposure, \n",
       "BsmtCond, \n",
       "BldgType, \n",
       "Alley</li><li>Numerical Columns are GarageCars, \n",
       "MoSold, \n",
       "WoodDeckSF, \n",
       "MasVnrArea, \n",
       "GarageArea, \n",
       "2ndFlrSF, \n",
       "PoolArea, \n",
       "LotArea, \n",
       "MiscVal, \n",
       "YrSold, \n",
       "BsmtFinSF2, \n",
       "LowQualFinSF, \n",
       "FullBath, \n",
       "HalfBath, \n",
       "SalePrice, \n",
       "TotRmsAbvGrd, \n",
       "YearBuilt, \n",
       "OverallCond, \n",
       "KitchenAbvGr, \n",
       "YearRemodAdd, \n",
       "GrLivArea, \n",
       "ScreenPorch, \n",
       "Fireplaces, \n",
       "BsmtUnfSF, \n",
       "BsmtFullBath, \n",
       "EnclosedPorch, \n",
       "BedroomAbvGr, \n",
       "BsmtFinSF1, \n",
       "OpenPorchSF, \n",
       "3SsnPorch, \n",
       "TotalBsmtSF, \n",
       "MSSubClass, \n",
       "1stFlrSF, \n",
       "OverallQual, \n",
       "BsmtHalfBath, \n",
       "Id</li></ul>"
      ],
      "text/plain": [
       "<IPython.core.display.HTML object>"
      ]
     },
     "execution_count": 19,
     "metadata": {},
     "output_type": "execute_result"
    }
   ],
   "source": [
    "# Sampling Data if data size is larger than 10k\n",
    "df0 = df_binned # df0 is the unsampled data. Will be used in data exploration and analysis where sampling is not needed\n",
    "         # However, keep in mind that your final report will always be based on the sampled data. \n",
    "    \n",
    "\n",
    "if Sample_Size < df_binned.shape[0]:\n",
    "    df = df_binned.sample(Sample_Size)\n",
    "else:\n",
    "    df = df_binned\n",
    "\n",
    "# change float data types\n",
    "if 'FloatDataTypes' in conf_dict:   \n",
    "    for col_name in conf_dict['FloatDataTypes']:\n",
    "        df[col_name] = df[col_name].astype(float)      \n",
    "        \n",
    "# Getting the list of categorical columns if it was not there in the yaml file\n",
    "if 'CategoricalColumns' not in conf_dict:\n",
    "    conf_dict['CategoricalColumns'] = list(set(list(df.select_dtypes(exclude=[np.number]).columns)))\n",
    "\n",
    "# Getting the list of numerical columns if it was not there in the yaml file\n",
    "if 'NumericalColumns' not in conf_dict:\n",
    "    conf_dict['NumericalColumns'] = list(df.select_dtypes(include=[np.number]).columns)    \n",
    "\n",
    "# Exclude columns that we do not need\n",
    "if 'ColumnsToExclude' in conf_dict:\n",
    "    conf_dict['CategoricalColumns'] = list(set(conf_dict['CategoricalColumns'])-set(conf_dict['ColumnsToExclude']))\n",
    "    conf_dict['NumericalColumns'] = list(set(conf_dict['NumericalColumns'])-set(conf_dict['ColumnsToExclude']))\n",
    "\n",
    "# Ordering the categorical variables according to the number of unique categories\n",
    "filtered_cat_columns = []\n",
    "temp_dict = {}\n",
    "for cat_var in conf_dict['CategoricalColumns']:\n",
    "    temp_dict[cat_var] = len(np.unique(df[cat_var].dropna()))\n",
    "sorted_x = sorted(temp_dict.items(), key=operator.itemgetter(0), reverse=True)\n",
    "conf_dict['CategoricalColumns'] = [x for (x,y) in sorted_x]\n",
    "\n",
    "ConfUtility.dict_to_htmllist(conf_dict,['Target','CategoricalColumns','NumericalColumns'])"
   ]
  },
  {
   "cell_type": "markdown",
   "metadata": {
    "collapsed": true
   },
   "source": [
    "## 3.2 Dimensions"
   ]
  },
  {
   "cell_type": "code",
   "execution_count": 20,
   "metadata": {
    "scrolled": false
   },
   "outputs": [
    {
     "name": "stdout",
     "output_type": "stream",
     "text": [
      "The data has 1451 Rows and 79 columns\n"
     ]
    }
   ],
   "source": [
    "print ('The data has {} Rows and {} columns'.format(df0.shape[0],df0.shape[1]))"
   ]
  },
  {
   "cell_type": "markdown",
   "metadata": {
    "collapsed": true
   },
   "source": [
    "## 3.3 Print the column types"
   ]
  },
  {
   "cell_type": "code",
   "execution_count": 21,
   "metadata": {
    "scrolled": false
   },
   "outputs": [
    {
     "name": "stdout",
     "output_type": "stream",
     "text": [
      "The types of columns are:\n"
     ]
    },
    {
     "data": {
      "text/plain": [
       "BsmtFinType2      object\n",
       "GarageCars         int64\n",
       "MoSold             int64\n",
       "BldgType          object\n",
       "ExterCond         object\n",
       "Exterior1st       object\n",
       "RoofMatl          object\n",
       "Fence             object\n",
       "SaleCondition     object\n",
       "KitchenQual       object\n",
       "Electrical        object\n",
       "Foundation        object\n",
       "Condition1        object\n",
       "Exterior2nd       object\n",
       "CentralAir        object\n",
       "MasVnrArea       float64\n",
       "GarageArea         int64\n",
       "Neighborhood      object\n",
       "Alley             object\n",
       "RoofStyle         object\n",
       "GarageFinish      object\n",
       "2ndFlrSF           int64\n",
       "WoodDeckSF         int64\n",
       "BsmtQual          object\n",
       "PoolArea           int64\n",
       "Condition2        object\n",
       "Functional        object\n",
       "BsmtExposure      object\n",
       "LotArea            int64\n",
       "MiscVal            int64\n",
       "                  ...   \n",
       "YearBuilt          int64\n",
       "YearRemodAdd       int64\n",
       "KitchenAbvGr       int64\n",
       "GarageQual        object\n",
       "GarageCond        object\n",
       "GrLivArea          int64\n",
       "Street            object\n",
       "ScreenPorch        int64\n",
       "Fireplaces         int64\n",
       "BsmtUnfSF          int64\n",
       "BsmtFullBath       int64\n",
       "HeatingQC         object\n",
       "BedroomAbvGr       int64\n",
       "BsmtFinSF1         int64\n",
       "EnclosedPorch      int64\n",
       "Heating           object\n",
       "OpenPorchSF        int64\n",
       "3SsnPorch          int64\n",
       "PoolQC            object\n",
       "BsmtFinType1      object\n",
       "TotalBsmtSF        int64\n",
       "MSSubClass         int64\n",
       "1stFlrSF           int64\n",
       "FireplaceQu       object\n",
       "OverallQual        int64\n",
       "PavedDrive        object\n",
       "BsmtHalfBath       int64\n",
       "ExterQual         object\n",
       "MasVnrType        object\n",
       "Id                 int64\n",
       "Length: 79, dtype: object"
      ]
     },
     "execution_count": 21,
     "metadata": {},
     "output_type": "execute_result"
    }
   ],
   "source": [
    "print(\"The types of columns are:\")\n",
    "df.dtypes"
   ]
  },
  {
   "cell_type": "markdown",
   "metadata": {
    "collapsed": true
   },
   "source": [
    "##  3.4 Extract Descriptive Statistics of Each Column"
   ]
  },
  {
   "cell_type": "code",
   "execution_count": 22,
   "metadata": {
    "scrolled": false
   },
   "outputs": [],
   "source": [
    "def num_missing(x):\n",
    "    return len(x.index)-x.count()\n",
    "\n",
    "def num_unique(x):\n",
    "    return len(np.unique(x.dropna()))\n",
    "\n",
    "\n",
    "temp_df = df0.describe().T\n",
    "\n",
    "sum_df = pd.DataFrame(df0.sum(numeric_only = True))\n",
    "sum_df.columns = ['sum']\n",
    "\n",
    "missing_df = pd.DataFrame(df0.apply(num_missing, axis=0)) \n",
    "missing_df.columns = ['missing']\n",
    "\n",
    "unq_df = pd.DataFrame(df0.apply(num_unique, axis=0))\n",
    "unq_df.columns = ['unique']\n",
    "\n",
    "types_df = pd.DataFrame(df0.dtypes)\n",
    "types_df.columns = ['DataType']"
   ]
  },
  {
   "cell_type": "markdown",
   "metadata": {
    "collapsed": true
   },
   "source": [
    "### 3.4.1 Numerical Columns:"
   ]
  },
  {
   "cell_type": "code",
   "execution_count": 23,
   "metadata": {
    "scrolled": false
   },
   "outputs": [
    {
     "data": {
      "text/html": [
       "<div>\n",
       "<style scoped>\n",
       "    .dataframe tbody tr th:only-of-type {\n",
       "        vertical-align: middle;\n",
       "    }\n",
       "\n",
       "    .dataframe tbody tr th {\n",
       "        vertical-align: top;\n",
       "    }\n",
       "\n",
       "    .dataframe thead th {\n",
       "        text-align: right;\n",
       "    }\n",
       "</style>\n",
       "<table border=\"1\" class=\"dataframe\">\n",
       "  <thead>\n",
       "    <tr style=\"text-align: right;\">\n",
       "      <th></th>\n",
       "      <th>count</th>\n",
       "      <th>mean</th>\n",
       "      <th>std</th>\n",
       "      <th>min</th>\n",
       "      <th>25%</th>\n",
       "      <th>50%</th>\n",
       "      <th>75%</th>\n",
       "      <th>max</th>\n",
       "      <th>sum</th>\n",
       "      <th>missing</th>\n",
       "      <th>unique</th>\n",
       "      <th>DataType</th>\n",
       "    </tr>\n",
       "  </thead>\n",
       "  <tbody>\n",
       "    <tr>\n",
       "      <th>GarageCars</th>\n",
       "      <td>1451.0</td>\n",
       "      <td>1.764990</td>\n",
       "      <td>0.748728</td>\n",
       "      <td>0.0</td>\n",
       "      <td>1.0</td>\n",
       "      <td>2.0</td>\n",
       "      <td>2.0</td>\n",
       "      <td>4.0</td>\n",
       "      <td>2561.0</td>\n",
       "      <td>0</td>\n",
       "      <td>5</td>\n",
       "      <td>int64</td>\n",
       "    </tr>\n",
       "    <tr>\n",
       "      <th>MoSold</th>\n",
       "      <td>1451.0</td>\n",
       "      <td>6.319090</td>\n",
       "      <td>2.700353</td>\n",
       "      <td>1.0</td>\n",
       "      <td>5.0</td>\n",
       "      <td>6.0</td>\n",
       "      <td>8.0</td>\n",
       "      <td>12.0</td>\n",
       "      <td>9169.0</td>\n",
       "      <td>0</td>\n",
       "      <td>12</td>\n",
       "      <td>int64</td>\n",
       "    </tr>\n",
       "    <tr>\n",
       "      <th>MasVnrArea</th>\n",
       "      <td>1451.0</td>\n",
       "      <td>103.756720</td>\n",
       "      <td>181.108150</td>\n",
       "      <td>0.0</td>\n",
       "      <td>0.0</td>\n",
       "      <td>0.0</td>\n",
       "      <td>166.0</td>\n",
       "      <td>1600.0</td>\n",
       "      <td>150551.0</td>\n",
       "      <td>0</td>\n",
       "      <td>327</td>\n",
       "      <td>float64</td>\n",
       "    </tr>\n",
       "    <tr>\n",
       "      <th>GarageArea</th>\n",
       "      <td>1451.0</td>\n",
       "      <td>472.525155</td>\n",
       "      <td>214.171752</td>\n",
       "      <td>0.0</td>\n",
       "      <td>327.5</td>\n",
       "      <td>478.0</td>\n",
       "      <td>576.0</td>\n",
       "      <td>1418.0</td>\n",
       "      <td>685634.0</td>\n",
       "      <td>0</td>\n",
       "      <td>438</td>\n",
       "      <td>int64</td>\n",
       "    </tr>\n",
       "    <tr>\n",
       "      <th>2ndFlrSF</th>\n",
       "      <td>1451.0</td>\n",
       "      <td>346.742247</td>\n",
       "      <td>436.453277</td>\n",
       "      <td>0.0</td>\n",
       "      <td>0.0</td>\n",
       "      <td>0.0</td>\n",
       "      <td>728.0</td>\n",
       "      <td>2065.0</td>\n",
       "      <td>503123.0</td>\n",
       "      <td>0</td>\n",
       "      <td>414</td>\n",
       "      <td>int64</td>\n",
       "    </tr>\n",
       "    <tr>\n",
       "      <th>WoodDeckSF</th>\n",
       "      <td>1451.0</td>\n",
       "      <td>94.412819</td>\n",
       "      <td>125.436852</td>\n",
       "      <td>0.0</td>\n",
       "      <td>0.0</td>\n",
       "      <td>0.0</td>\n",
       "      <td>168.0</td>\n",
       "      <td>857.0</td>\n",
       "      <td>136993.0</td>\n",
       "      <td>0</td>\n",
       "      <td>274</td>\n",
       "      <td>int64</td>\n",
       "    </tr>\n",
       "    <tr>\n",
       "      <th>PoolArea</th>\n",
       "      <td>1451.0</td>\n",
       "      <td>2.776017</td>\n",
       "      <td>40.301212</td>\n",
       "      <td>0.0</td>\n",
       "      <td>0.0</td>\n",
       "      <td>0.0</td>\n",
       "      <td>0.0</td>\n",
       "      <td>738.0</td>\n",
       "      <td>4028.0</td>\n",
       "      <td>0</td>\n",
       "      <td>8</td>\n",
       "      <td>int64</td>\n",
       "    </tr>\n",
       "    <tr>\n",
       "      <th>LotArea</th>\n",
       "      <td>1451.0</td>\n",
       "      <td>10507.808408</td>\n",
       "      <td>9992.987081</td>\n",
       "      <td>1300.0</td>\n",
       "      <td>7537.5</td>\n",
       "      <td>9477.0</td>\n",
       "      <td>11600.0</td>\n",
       "      <td>215245.0</td>\n",
       "      <td>15246830.0</td>\n",
       "      <td>0</td>\n",
       "      <td>1066</td>\n",
       "      <td>int64</td>\n",
       "    </tr>\n",
       "    <tr>\n",
       "      <th>MiscVal</th>\n",
       "      <td>1451.0</td>\n",
       "      <td>43.758787</td>\n",
       "      <td>497.648467</td>\n",
       "      <td>0.0</td>\n",
       "      <td>0.0</td>\n",
       "      <td>0.0</td>\n",
       "      <td>0.0</td>\n",
       "      <td>15500.0</td>\n",
       "      <td>63494.0</td>\n",
       "      <td>0</td>\n",
       "      <td>21</td>\n",
       "      <td>int64</td>\n",
       "    </tr>\n",
       "    <tr>\n",
       "      <th>YrSold</th>\n",
       "      <td>1451.0</td>\n",
       "      <td>2007.815300</td>\n",
       "      <td>1.329376</td>\n",
       "      <td>2006.0</td>\n",
       "      <td>2007.0</td>\n",
       "      <td>2008.0</td>\n",
       "      <td>2009.0</td>\n",
       "      <td>2010.0</td>\n",
       "      <td>2913340.0</td>\n",
       "      <td>0</td>\n",
       "      <td>5</td>\n",
       "      <td>int64</td>\n",
       "    </tr>\n",
       "    <tr>\n",
       "      <th>BsmtFinSF2</th>\n",
       "      <td>1451.0</td>\n",
       "      <td>46.838043</td>\n",
       "      <td>161.777324</td>\n",
       "      <td>0.0</td>\n",
       "      <td>0.0</td>\n",
       "      <td>0.0</td>\n",
       "      <td>0.0</td>\n",
       "      <td>1474.0</td>\n",
       "      <td>67962.0</td>\n",
       "      <td>0</td>\n",
       "      <td>144</td>\n",
       "      <td>int64</td>\n",
       "    </tr>\n",
       "    <tr>\n",
       "      <th>LowQualFinSF</th>\n",
       "      <td>1451.0</td>\n",
       "      <td>5.880772</td>\n",
       "      <td>48.771560</td>\n",
       "      <td>0.0</td>\n",
       "      <td>0.0</td>\n",
       "      <td>0.0</td>\n",
       "      <td>0.0</td>\n",
       "      <td>572.0</td>\n",
       "      <td>8533.0</td>\n",
       "      <td>0</td>\n",
       "      <td>24</td>\n",
       "      <td>int64</td>\n",
       "    </tr>\n",
       "    <tr>\n",
       "      <th>FullBath</th>\n",
       "      <td>1451.0</td>\n",
       "      <td>1.562371</td>\n",
       "      <td>0.550301</td>\n",
       "      <td>0.0</td>\n",
       "      <td>1.0</td>\n",
       "      <td>2.0</td>\n",
       "      <td>2.0</td>\n",
       "      <td>3.0</td>\n",
       "      <td>2267.0</td>\n",
       "      <td>0</td>\n",
       "      <td>4</td>\n",
       "      <td>int64</td>\n",
       "    </tr>\n",
       "    <tr>\n",
       "      <th>HalfBath</th>\n",
       "      <td>1451.0</td>\n",
       "      <td>0.381116</td>\n",
       "      <td>0.502574</td>\n",
       "      <td>0.0</td>\n",
       "      <td>0.0</td>\n",
       "      <td>0.0</td>\n",
       "      <td>1.0</td>\n",
       "      <td>2.0</td>\n",
       "      <td>553.0</td>\n",
       "      <td>0</td>\n",
       "      <td>3</td>\n",
       "      <td>int64</td>\n",
       "    </tr>\n",
       "    <tr>\n",
       "      <th>SalePrice</th>\n",
       "      <td>1451.0</td>\n",
       "      <td>180624.101999</td>\n",
       "      <td>79312.128273</td>\n",
       "      <td>34900.0</td>\n",
       "      <td>129900.0</td>\n",
       "      <td>162500.0</td>\n",
       "      <td>214000.0</td>\n",
       "      <td>755000.0</td>\n",
       "      <td>262085572.0</td>\n",
       "      <td>0</td>\n",
       "      <td>657</td>\n",
       "      <td>int64</td>\n",
       "    </tr>\n",
       "    <tr>\n",
       "      <th>TotRmsAbvGrd</th>\n",
       "      <td>1451.0</td>\n",
       "      <td>6.516885</td>\n",
       "      <td>1.626576</td>\n",
       "      <td>2.0</td>\n",
       "      <td>5.0</td>\n",
       "      <td>6.0</td>\n",
       "      <td>7.0</td>\n",
       "      <td>14.0</td>\n",
       "      <td>9456.0</td>\n",
       "      <td>0</td>\n",
       "      <td>12</td>\n",
       "      <td>int64</td>\n",
       "    </tr>\n",
       "    <tr>\n",
       "      <th>OverallCond</th>\n",
       "      <td>1451.0</td>\n",
       "      <td>5.579600</td>\n",
       "      <td>1.113415</td>\n",
       "      <td>1.0</td>\n",
       "      <td>5.0</td>\n",
       "      <td>5.0</td>\n",
       "      <td>6.0</td>\n",
       "      <td>9.0</td>\n",
       "      <td>8096.0</td>\n",
       "      <td>0</td>\n",
       "      <td>9</td>\n",
       "      <td>int64</td>\n",
       "    </tr>\n",
       "    <tr>\n",
       "      <th>YearBuilt</th>\n",
       "      <td>1451.0</td>\n",
       "      <td>1971.092350</td>\n",
       "      <td>30.190266</td>\n",
       "      <td>1872.0</td>\n",
       "      <td>1954.0</td>\n",
       "      <td>1972.0</td>\n",
       "      <td>2000.0</td>\n",
       "      <td>2010.0</td>\n",
       "      <td>2860055.0</td>\n",
       "      <td>0</td>\n",
       "      <td>112</td>\n",
       "      <td>int64</td>\n",
       "    </tr>\n",
       "    <tr>\n",
       "      <th>YearRemodAdd</th>\n",
       "      <td>1451.0</td>\n",
       "      <td>1984.760165</td>\n",
       "      <td>20.651334</td>\n",
       "      <td>1950.0</td>\n",
       "      <td>1966.0</td>\n",
       "      <td>1993.0</td>\n",
       "      <td>2004.0</td>\n",
       "      <td>2010.0</td>\n",
       "      <td>2879887.0</td>\n",
       "      <td>0</td>\n",
       "      <td>61</td>\n",
       "      <td>int64</td>\n",
       "    </tr>\n",
       "    <tr>\n",
       "      <th>KitchenAbvGr</th>\n",
       "      <td>1451.0</td>\n",
       "      <td>1.046175</td>\n",
       "      <td>0.219571</td>\n",
       "      <td>0.0</td>\n",
       "      <td>1.0</td>\n",
       "      <td>1.0</td>\n",
       "      <td>1.0</td>\n",
       "      <td>3.0</td>\n",
       "      <td>1518.0</td>\n",
       "      <td>0</td>\n",
       "      <td>4</td>\n",
       "      <td>int64</td>\n",
       "    </tr>\n",
       "    <tr>\n",
       "      <th>GrLivArea</th>\n",
       "      <td>1451.0</td>\n",
       "      <td>1514.174363</td>\n",
       "      <td>525.799521</td>\n",
       "      <td>334.0</td>\n",
       "      <td>1128.0</td>\n",
       "      <td>1464.0</td>\n",
       "      <td>1776.0</td>\n",
       "      <td>5642.0</td>\n",
       "      <td>2197067.0</td>\n",
       "      <td>0</td>\n",
       "      <td>858</td>\n",
       "      <td>int64</td>\n",
       "    </tr>\n",
       "    <tr>\n",
       "      <th>ScreenPorch</th>\n",
       "      <td>1451.0</td>\n",
       "      <td>15.154376</td>\n",
       "      <td>55.917522</td>\n",
       "      <td>0.0</td>\n",
       "      <td>0.0</td>\n",
       "      <td>0.0</td>\n",
       "      <td>0.0</td>\n",
       "      <td>480.0</td>\n",
       "      <td>21989.0</td>\n",
       "      <td>0</td>\n",
       "      <td>76</td>\n",
       "      <td>int64</td>\n",
       "    </tr>\n",
       "    <tr>\n",
       "      <th>Fireplaces</th>\n",
       "      <td>1451.0</td>\n",
       "      <td>0.612681</td>\n",
       "      <td>0.643443</td>\n",
       "      <td>0.0</td>\n",
       "      <td>0.0</td>\n",
       "      <td>1.0</td>\n",
       "      <td>1.0</td>\n",
       "      <td>3.0</td>\n",
       "      <td>889.0</td>\n",
       "      <td>0</td>\n",
       "      <td>4</td>\n",
       "      <td>int64</td>\n",
       "    </tr>\n",
       "    <tr>\n",
       "      <th>BsmtUnfSF</th>\n",
       "      <td>1451.0</td>\n",
       "      <td>567.197105</td>\n",
       "      <td>442.209192</td>\n",
       "      <td>0.0</td>\n",
       "      <td>222.0</td>\n",
       "      <td>479.0</td>\n",
       "      <td>808.0</td>\n",
       "      <td>2336.0</td>\n",
       "      <td>823003.0</td>\n",
       "      <td>0</td>\n",
       "      <td>777</td>\n",
       "      <td>int64</td>\n",
       "    </tr>\n",
       "    <tr>\n",
       "      <th>BsmtFullBath</th>\n",
       "      <td>1451.0</td>\n",
       "      <td>0.423846</td>\n",
       "      <td>0.518842</td>\n",
       "      <td>0.0</td>\n",
       "      <td>0.0</td>\n",
       "      <td>0.0</td>\n",
       "      <td>1.0</td>\n",
       "      <td>3.0</td>\n",
       "      <td>615.0</td>\n",
       "      <td>0</td>\n",
       "      <td>4</td>\n",
       "      <td>int64</td>\n",
       "    </tr>\n",
       "    <tr>\n",
       "      <th>BedroomAbvGr</th>\n",
       "      <td>1451.0</td>\n",
       "      <td>2.866988</td>\n",
       "      <td>0.815086</td>\n",
       "      <td>0.0</td>\n",
       "      <td>2.0</td>\n",
       "      <td>3.0</td>\n",
       "      <td>3.0</td>\n",
       "      <td>8.0</td>\n",
       "      <td>4160.0</td>\n",
       "      <td>0</td>\n",
       "      <td>8</td>\n",
       "      <td>int64</td>\n",
       "    </tr>\n",
       "    <tr>\n",
       "      <th>BsmtFinSF1</th>\n",
       "      <td>1451.0</td>\n",
       "      <td>442.274983</td>\n",
       "      <td>455.369276</td>\n",
       "      <td>0.0</td>\n",
       "      <td>0.0</td>\n",
       "      <td>381.0</td>\n",
       "      <td>707.0</td>\n",
       "      <td>5644.0</td>\n",
       "      <td>641741.0</td>\n",
       "      <td>0</td>\n",
       "      <td>633</td>\n",
       "      <td>int64</td>\n",
       "    </tr>\n",
       "    <tr>\n",
       "      <th>EnclosedPorch</th>\n",
       "      <td>1451.0</td>\n",
       "      <td>21.952447</td>\n",
       "      <td>61.108223</td>\n",
       "      <td>0.0</td>\n",
       "      <td>0.0</td>\n",
       "      <td>0.0</td>\n",
       "      <td>0.0</td>\n",
       "      <td>552.0</td>\n",
       "      <td>31853.0</td>\n",
       "      <td>0</td>\n",
       "      <td>119</td>\n",
       "      <td>int64</td>\n",
       "    </tr>\n",
       "    <tr>\n",
       "      <th>OpenPorchSF</th>\n",
       "      <td>1451.0</td>\n",
       "      <td>46.422467</td>\n",
       "      <td>66.060150</td>\n",
       "      <td>0.0</td>\n",
       "      <td>0.0</td>\n",
       "      <td>24.0</td>\n",
       "      <td>68.0</td>\n",
       "      <td>547.0</td>\n",
       "      <td>67359.0</td>\n",
       "      <td>0</td>\n",
       "      <td>201</td>\n",
       "      <td>int64</td>\n",
       "    </tr>\n",
       "    <tr>\n",
       "      <th>3SsnPorch</th>\n",
       "      <td>1451.0</td>\n",
       "      <td>3.430737</td>\n",
       "      <td>29.406940</td>\n",
       "      <td>0.0</td>\n",
       "      <td>0.0</td>\n",
       "      <td>0.0</td>\n",
       "      <td>0.0</td>\n",
       "      <td>508.0</td>\n",
       "      <td>4978.0</td>\n",
       "      <td>0</td>\n",
       "      <td>20</td>\n",
       "      <td>int64</td>\n",
       "    </tr>\n",
       "    <tr>\n",
       "      <th>TotalBsmtSF</th>\n",
       "      <td>1451.0</td>\n",
       "      <td>1056.310131</td>\n",
       "      <td>437.914609</td>\n",
       "      <td>0.0</td>\n",
       "      <td>795.0</td>\n",
       "      <td>991.0</td>\n",
       "      <td>1297.5</td>\n",
       "      <td>6110.0</td>\n",
       "      <td>1532706.0</td>\n",
       "      <td>0</td>\n",
       "      <td>717</td>\n",
       "      <td>int64</td>\n",
       "    </tr>\n",
       "    <tr>\n",
       "      <th>MSSubClass</th>\n",
       "      <td>1451.0</td>\n",
       "      <td>56.933150</td>\n",
       "      <td>42.350366</td>\n",
       "      <td>20.0</td>\n",
       "      <td>20.0</td>\n",
       "      <td>50.0</td>\n",
       "      <td>70.0</td>\n",
       "      <td>190.0</td>\n",
       "      <td>82610.0</td>\n",
       "      <td>0</td>\n",
       "      <td>15</td>\n",
       "      <td>int64</td>\n",
       "    </tr>\n",
       "    <tr>\n",
       "      <th>1stFlrSF</th>\n",
       "      <td>1451.0</td>\n",
       "      <td>1161.551344</td>\n",
       "      <td>385.002532</td>\n",
       "      <td>334.0</td>\n",
       "      <td>882.0</td>\n",
       "      <td>1086.0</td>\n",
       "      <td>1391.0</td>\n",
       "      <td>4692.0</td>\n",
       "      <td>1685411.0</td>\n",
       "      <td>0</td>\n",
       "      <td>748</td>\n",
       "      <td>int64</td>\n",
       "    </tr>\n",
       "    <tr>\n",
       "      <th>OverallQual</th>\n",
       "      <td>1451.0</td>\n",
       "      <td>6.093728</td>\n",
       "      <td>1.381467</td>\n",
       "      <td>1.0</td>\n",
       "      <td>5.0</td>\n",
       "      <td>6.0</td>\n",
       "      <td>7.0</td>\n",
       "      <td>10.0</td>\n",
       "      <td>8842.0</td>\n",
       "      <td>0</td>\n",
       "      <td>10</td>\n",
       "      <td>int64</td>\n",
       "    </tr>\n",
       "    <tr>\n",
       "      <th>BsmtHalfBath</th>\n",
       "      <td>1451.0</td>\n",
       "      <td>0.057891</td>\n",
       "      <td>0.239449</td>\n",
       "      <td>0.0</td>\n",
       "      <td>0.0</td>\n",
       "      <td>0.0</td>\n",
       "      <td>0.0</td>\n",
       "      <td>2.0</td>\n",
       "      <td>84.0</td>\n",
       "      <td>0</td>\n",
       "      <td>3</td>\n",
       "      <td>int64</td>\n",
       "    </tr>\n",
       "    <tr>\n",
       "      <th>Id</th>\n",
       "      <td>1451.0</td>\n",
       "      <td>729.374225</td>\n",
       "      <td>421.737858</td>\n",
       "      <td>1.0</td>\n",
       "      <td>364.5</td>\n",
       "      <td>729.0</td>\n",
       "      <td>1094.5</td>\n",
       "      <td>1460.0</td>\n",
       "      <td>1058322.0</td>\n",
       "      <td>0</td>\n",
       "      <td>1451</td>\n",
       "      <td>int64</td>\n",
       "    </tr>\n",
       "  </tbody>\n",
       "</table>\n",
       "</div>"
      ],
      "text/plain": [
       "                count           mean           std      min       25%  \\\n",
       "GarageCars     1451.0       1.764990      0.748728      0.0       1.0   \n",
       "MoSold         1451.0       6.319090      2.700353      1.0       5.0   \n",
       "MasVnrArea     1451.0     103.756720    181.108150      0.0       0.0   \n",
       "GarageArea     1451.0     472.525155    214.171752      0.0     327.5   \n",
       "2ndFlrSF       1451.0     346.742247    436.453277      0.0       0.0   \n",
       "WoodDeckSF     1451.0      94.412819    125.436852      0.0       0.0   \n",
       "PoolArea       1451.0       2.776017     40.301212      0.0       0.0   \n",
       "LotArea        1451.0   10507.808408   9992.987081   1300.0    7537.5   \n",
       "MiscVal        1451.0      43.758787    497.648467      0.0       0.0   \n",
       "YrSold         1451.0    2007.815300      1.329376   2006.0    2007.0   \n",
       "BsmtFinSF2     1451.0      46.838043    161.777324      0.0       0.0   \n",
       "LowQualFinSF   1451.0       5.880772     48.771560      0.0       0.0   \n",
       "FullBath       1451.0       1.562371      0.550301      0.0       1.0   \n",
       "HalfBath       1451.0       0.381116      0.502574      0.0       0.0   \n",
       "SalePrice      1451.0  180624.101999  79312.128273  34900.0  129900.0   \n",
       "TotRmsAbvGrd   1451.0       6.516885      1.626576      2.0       5.0   \n",
       "OverallCond    1451.0       5.579600      1.113415      1.0       5.0   \n",
       "YearBuilt      1451.0    1971.092350     30.190266   1872.0    1954.0   \n",
       "YearRemodAdd   1451.0    1984.760165     20.651334   1950.0    1966.0   \n",
       "KitchenAbvGr   1451.0       1.046175      0.219571      0.0       1.0   \n",
       "GrLivArea      1451.0    1514.174363    525.799521    334.0    1128.0   \n",
       "ScreenPorch    1451.0      15.154376     55.917522      0.0       0.0   \n",
       "Fireplaces     1451.0       0.612681      0.643443      0.0       0.0   \n",
       "BsmtUnfSF      1451.0     567.197105    442.209192      0.0     222.0   \n",
       "BsmtFullBath   1451.0       0.423846      0.518842      0.0       0.0   \n",
       "BedroomAbvGr   1451.0       2.866988      0.815086      0.0       2.0   \n",
       "BsmtFinSF1     1451.0     442.274983    455.369276      0.0       0.0   \n",
       "EnclosedPorch  1451.0      21.952447     61.108223      0.0       0.0   \n",
       "OpenPorchSF    1451.0      46.422467     66.060150      0.0       0.0   \n",
       "3SsnPorch      1451.0       3.430737     29.406940      0.0       0.0   \n",
       "TotalBsmtSF    1451.0    1056.310131    437.914609      0.0     795.0   \n",
       "MSSubClass     1451.0      56.933150     42.350366     20.0      20.0   \n",
       "1stFlrSF       1451.0    1161.551344    385.002532    334.0     882.0   \n",
       "OverallQual    1451.0       6.093728      1.381467      1.0       5.0   \n",
       "BsmtHalfBath   1451.0       0.057891      0.239449      0.0       0.0   \n",
       "Id             1451.0     729.374225    421.737858      1.0     364.5   \n",
       "\n",
       "                    50%       75%       max          sum  missing  unique  \\\n",
       "GarageCars          2.0       2.0       4.0       2561.0        0       5   \n",
       "MoSold              6.0       8.0      12.0       9169.0        0      12   \n",
       "MasVnrArea          0.0     166.0    1600.0     150551.0        0     327   \n",
       "GarageArea        478.0     576.0    1418.0     685634.0        0     438   \n",
       "2ndFlrSF            0.0     728.0    2065.0     503123.0        0     414   \n",
       "WoodDeckSF          0.0     168.0     857.0     136993.0        0     274   \n",
       "PoolArea            0.0       0.0     738.0       4028.0        0       8   \n",
       "LotArea          9477.0   11600.0  215245.0   15246830.0        0    1066   \n",
       "MiscVal             0.0       0.0   15500.0      63494.0        0      21   \n",
       "YrSold           2008.0    2009.0    2010.0    2913340.0        0       5   \n",
       "BsmtFinSF2          0.0       0.0    1474.0      67962.0        0     144   \n",
       "LowQualFinSF        0.0       0.0     572.0       8533.0        0      24   \n",
       "FullBath            2.0       2.0       3.0       2267.0        0       4   \n",
       "HalfBath            0.0       1.0       2.0        553.0        0       3   \n",
       "SalePrice      162500.0  214000.0  755000.0  262085572.0        0     657   \n",
       "TotRmsAbvGrd        6.0       7.0      14.0       9456.0        0      12   \n",
       "OverallCond         5.0       6.0       9.0       8096.0        0       9   \n",
       "YearBuilt        1972.0    2000.0    2010.0    2860055.0        0     112   \n",
       "YearRemodAdd     1993.0    2004.0    2010.0    2879887.0        0      61   \n",
       "KitchenAbvGr        1.0       1.0       3.0       1518.0        0       4   \n",
       "GrLivArea        1464.0    1776.0    5642.0    2197067.0        0     858   \n",
       "ScreenPorch         0.0       0.0     480.0      21989.0        0      76   \n",
       "Fireplaces          1.0       1.0       3.0        889.0        0       4   \n",
       "BsmtUnfSF         479.0     808.0    2336.0     823003.0        0     777   \n",
       "BsmtFullBath        0.0       1.0       3.0        615.0        0       4   \n",
       "BedroomAbvGr        3.0       3.0       8.0       4160.0        0       8   \n",
       "BsmtFinSF1        381.0     707.0    5644.0     641741.0        0     633   \n",
       "EnclosedPorch       0.0       0.0     552.0      31853.0        0     119   \n",
       "OpenPorchSF        24.0      68.0     547.0      67359.0        0     201   \n",
       "3SsnPorch           0.0       0.0     508.0       4978.0        0      20   \n",
       "TotalBsmtSF       991.0    1297.5    6110.0    1532706.0        0     717   \n",
       "MSSubClass         50.0      70.0     190.0      82610.0        0      15   \n",
       "1stFlrSF         1086.0    1391.0    4692.0    1685411.0        0     748   \n",
       "OverallQual         6.0       7.0      10.0       8842.0        0      10   \n",
       "BsmtHalfBath        0.0       0.0       2.0         84.0        0       3   \n",
       "Id                729.0    1094.5    1460.0    1058322.0        0    1451   \n",
       "\n",
       "              DataType  \n",
       "GarageCars       int64  \n",
       "MoSold           int64  \n",
       "MasVnrArea     float64  \n",
       "GarageArea       int64  \n",
       "2ndFlrSF         int64  \n",
       "WoodDeckSF       int64  \n",
       "PoolArea         int64  \n",
       "LotArea          int64  \n",
       "MiscVal          int64  \n",
       "YrSold           int64  \n",
       "BsmtFinSF2       int64  \n",
       "LowQualFinSF     int64  \n",
       "FullBath         int64  \n",
       "HalfBath         int64  \n",
       "SalePrice        int64  \n",
       "TotRmsAbvGrd     int64  \n",
       "OverallCond      int64  \n",
       "YearBuilt        int64  \n",
       "YearRemodAdd     int64  \n",
       "KitchenAbvGr     int64  \n",
       "GrLivArea        int64  \n",
       "ScreenPorch      int64  \n",
       "Fireplaces       int64  \n",
       "BsmtUnfSF        int64  \n",
       "BsmtFullBath     int64  \n",
       "BedroomAbvGr     int64  \n",
       "BsmtFinSF1       int64  \n",
       "EnclosedPorch    int64  \n",
       "OpenPorchSF      int64  \n",
       "3SsnPorch        int64  \n",
       "TotalBsmtSF      int64  \n",
       "MSSubClass       int64  \n",
       "1stFlrSF         int64  \n",
       "OverallQual      int64  \n",
       "BsmtHalfBath     int64  \n",
       "Id               int64  "
      ]
     },
     "execution_count": 23,
     "metadata": {},
     "output_type": "execute_result"
    }
   ],
   "source": [
    "summary_df = temp_df.join(sum_df).join(missing_df).join(unq_df).join(types_df).drop_duplicates()\n",
    "summary_df"
   ]
  },
  {
   "cell_type": "markdown",
   "metadata": {
    "collapsed": true
   },
   "source": [
    "### 3.4.2 Categorical Columns:"
   ]
  },
  {
   "cell_type": "code",
   "execution_count": 24,
   "metadata": {
    "scrolled": false
   },
   "outputs": [
    {
     "data": {
      "text/html": [
       "<div>\n",
       "<style scoped>\n",
       "    .dataframe tbody tr th:only-of-type {\n",
       "        vertical-align: middle;\n",
       "    }\n",
       "\n",
       "    .dataframe tbody tr th {\n",
       "        vertical-align: top;\n",
       "    }\n",
       "\n",
       "    .dataframe thead th {\n",
       "        text-align: right;\n",
       "    }\n",
       "</style>\n",
       "<table border=\"1\" class=\"dataframe\">\n",
       "  <thead>\n",
       "    <tr style=\"text-align: right;\">\n",
       "      <th></th>\n",
       "      <th>missing</th>\n",
       "      <th>unique</th>\n",
       "      <th>DataType</th>\n",
       "    </tr>\n",
       "  </thead>\n",
       "  <tbody>\n",
       "    <tr>\n",
       "      <th>BsmtFinType2</th>\n",
       "      <td>0</td>\n",
       "      <td>7</td>\n",
       "      <td>object</td>\n",
       "    </tr>\n",
       "    <tr>\n",
       "      <th>BldgType</th>\n",
       "      <td>0</td>\n",
       "      <td>5</td>\n",
       "      <td>object</td>\n",
       "    </tr>\n",
       "    <tr>\n",
       "      <th>ExterCond</th>\n",
       "      <td>0</td>\n",
       "      <td>5</td>\n",
       "      <td>object</td>\n",
       "    </tr>\n",
       "    <tr>\n",
       "      <th>Exterior1st</th>\n",
       "      <td>0</td>\n",
       "      <td>15</td>\n",
       "      <td>object</td>\n",
       "    </tr>\n",
       "    <tr>\n",
       "      <th>RoofMatl</th>\n",
       "      <td>0</td>\n",
       "      <td>8</td>\n",
       "      <td>object</td>\n",
       "    </tr>\n",
       "    <tr>\n",
       "      <th>Fence</th>\n",
       "      <td>0</td>\n",
       "      <td>5</td>\n",
       "      <td>object</td>\n",
       "    </tr>\n",
       "    <tr>\n",
       "      <th>SaleCondition</th>\n",
       "      <td>0</td>\n",
       "      <td>6</td>\n",
       "      <td>object</td>\n",
       "    </tr>\n",
       "    <tr>\n",
       "      <th>KitchenQual</th>\n",
       "      <td>0</td>\n",
       "      <td>4</td>\n",
       "      <td>object</td>\n",
       "    </tr>\n",
       "    <tr>\n",
       "      <th>Electrical</th>\n",
       "      <td>0</td>\n",
       "      <td>5</td>\n",
       "      <td>object</td>\n",
       "    </tr>\n",
       "    <tr>\n",
       "      <th>Foundation</th>\n",
       "      <td>0</td>\n",
       "      <td>6</td>\n",
       "      <td>object</td>\n",
       "    </tr>\n",
       "    <tr>\n",
       "      <th>Condition1</th>\n",
       "      <td>0</td>\n",
       "      <td>9</td>\n",
       "      <td>object</td>\n",
       "    </tr>\n",
       "    <tr>\n",
       "      <th>Exterior2nd</th>\n",
       "      <td>0</td>\n",
       "      <td>16</td>\n",
       "      <td>object</td>\n",
       "    </tr>\n",
       "    <tr>\n",
       "      <th>CentralAir</th>\n",
       "      <td>0</td>\n",
       "      <td>2</td>\n",
       "      <td>object</td>\n",
       "    </tr>\n",
       "    <tr>\n",
       "      <th>Neighborhood</th>\n",
       "      <td>0</td>\n",
       "      <td>25</td>\n",
       "      <td>object</td>\n",
       "    </tr>\n",
       "    <tr>\n",
       "      <th>Alley</th>\n",
       "      <td>0</td>\n",
       "      <td>3</td>\n",
       "      <td>object</td>\n",
       "    </tr>\n",
       "    <tr>\n",
       "      <th>RoofStyle</th>\n",
       "      <td>0</td>\n",
       "      <td>6</td>\n",
       "      <td>object</td>\n",
       "    </tr>\n",
       "    <tr>\n",
       "      <th>GarageFinish</th>\n",
       "      <td>0</td>\n",
       "      <td>4</td>\n",
       "      <td>object</td>\n",
       "    </tr>\n",
       "    <tr>\n",
       "      <th>BsmtQual</th>\n",
       "      <td>0</td>\n",
       "      <td>5</td>\n",
       "      <td>object</td>\n",
       "    </tr>\n",
       "    <tr>\n",
       "      <th>Condition2</th>\n",
       "      <td>0</td>\n",
       "      <td>8</td>\n",
       "      <td>object</td>\n",
       "    </tr>\n",
       "    <tr>\n",
       "      <th>Functional</th>\n",
       "      <td>0</td>\n",
       "      <td>7</td>\n",
       "      <td>object</td>\n",
       "    </tr>\n",
       "    <tr>\n",
       "      <th>BsmtExposure</th>\n",
       "      <td>0</td>\n",
       "      <td>5</td>\n",
       "      <td>object</td>\n",
       "    </tr>\n",
       "    <tr>\n",
       "      <th>Utilities</th>\n",
       "      <td>0</td>\n",
       "      <td>2</td>\n",
       "      <td>object</td>\n",
       "    </tr>\n",
       "    <tr>\n",
       "      <th>LandSlope</th>\n",
       "      <td>0</td>\n",
       "      <td>3</td>\n",
       "      <td>object</td>\n",
       "    </tr>\n",
       "    <tr>\n",
       "      <th>LotConfig</th>\n",
       "      <td>0</td>\n",
       "      <td>5</td>\n",
       "      <td>object</td>\n",
       "    </tr>\n",
       "    <tr>\n",
       "      <th>MSZoning</th>\n",
       "      <td>0</td>\n",
       "      <td>5</td>\n",
       "      <td>object</td>\n",
       "    </tr>\n",
       "    <tr>\n",
       "      <th>LandContour</th>\n",
       "      <td>0</td>\n",
       "      <td>4</td>\n",
       "      <td>object</td>\n",
       "    </tr>\n",
       "    <tr>\n",
       "      <th>LotShape</th>\n",
       "      <td>0</td>\n",
       "      <td>4</td>\n",
       "      <td>object</td>\n",
       "    </tr>\n",
       "    <tr>\n",
       "      <th>HouseStyle</th>\n",
       "      <td>0</td>\n",
       "      <td>8</td>\n",
       "      <td>object</td>\n",
       "    </tr>\n",
       "    <tr>\n",
       "      <th>GarageType</th>\n",
       "      <td>0</td>\n",
       "      <td>7</td>\n",
       "      <td>object</td>\n",
       "    </tr>\n",
       "    <tr>\n",
       "      <th>MiscFeature</th>\n",
       "      <td>0</td>\n",
       "      <td>5</td>\n",
       "      <td>object</td>\n",
       "    </tr>\n",
       "    <tr>\n",
       "      <th>SaleType</th>\n",
       "      <td>0</td>\n",
       "      <td>9</td>\n",
       "      <td>object</td>\n",
       "    </tr>\n",
       "    <tr>\n",
       "      <th>BsmtCond</th>\n",
       "      <td>0</td>\n",
       "      <td>5</td>\n",
       "      <td>object</td>\n",
       "    </tr>\n",
       "    <tr>\n",
       "      <th>GarageQual</th>\n",
       "      <td>0</td>\n",
       "      <td>6</td>\n",
       "      <td>object</td>\n",
       "    </tr>\n",
       "    <tr>\n",
       "      <th>GarageCond</th>\n",
       "      <td>0</td>\n",
       "      <td>6</td>\n",
       "      <td>object</td>\n",
       "    </tr>\n",
       "    <tr>\n",
       "      <th>Street</th>\n",
       "      <td>0</td>\n",
       "      <td>2</td>\n",
       "      <td>object</td>\n",
       "    </tr>\n",
       "    <tr>\n",
       "      <th>HeatingQC</th>\n",
       "      <td>0</td>\n",
       "      <td>5</td>\n",
       "      <td>object</td>\n",
       "    </tr>\n",
       "    <tr>\n",
       "      <th>Heating</th>\n",
       "      <td>0</td>\n",
       "      <td>6</td>\n",
       "      <td>object</td>\n",
       "    </tr>\n",
       "    <tr>\n",
       "      <th>PoolQC</th>\n",
       "      <td>0</td>\n",
       "      <td>4</td>\n",
       "      <td>object</td>\n",
       "    </tr>\n",
       "    <tr>\n",
       "      <th>BsmtFinType1</th>\n",
       "      <td>0</td>\n",
       "      <td>7</td>\n",
       "      <td>object</td>\n",
       "    </tr>\n",
       "    <tr>\n",
       "      <th>FireplaceQu</th>\n",
       "      <td>0</td>\n",
       "      <td>6</td>\n",
       "      <td>object</td>\n",
       "    </tr>\n",
       "    <tr>\n",
       "      <th>PavedDrive</th>\n",
       "      <td>0</td>\n",
       "      <td>3</td>\n",
       "      <td>object</td>\n",
       "    </tr>\n",
       "    <tr>\n",
       "      <th>ExterQual</th>\n",
       "      <td>0</td>\n",
       "      <td>4</td>\n",
       "      <td>object</td>\n",
       "    </tr>\n",
       "    <tr>\n",
       "      <th>MasVnrType</th>\n",
       "      <td>0</td>\n",
       "      <td>4</td>\n",
       "      <td>object</td>\n",
       "    </tr>\n",
       "  </tbody>\n",
       "</table>\n",
       "</div>"
      ],
      "text/plain": [
       "               missing  unique DataType\n",
       "BsmtFinType2         0       7   object\n",
       "BldgType             0       5   object\n",
       "ExterCond            0       5   object\n",
       "Exterior1st          0      15   object\n",
       "RoofMatl             0       8   object\n",
       "Fence                0       5   object\n",
       "SaleCondition        0       6   object\n",
       "KitchenQual          0       4   object\n",
       "Electrical           0       5   object\n",
       "Foundation           0       6   object\n",
       "Condition1           0       9   object\n",
       "Exterior2nd          0      16   object\n",
       "CentralAir           0       2   object\n",
       "Neighborhood         0      25   object\n",
       "Alley                0       3   object\n",
       "RoofStyle            0       6   object\n",
       "GarageFinish         0       4   object\n",
       "BsmtQual             0       5   object\n",
       "Condition2           0       8   object\n",
       "Functional           0       7   object\n",
       "BsmtExposure         0       5   object\n",
       "Utilities            0       2   object\n",
       "LandSlope            0       3   object\n",
       "LotConfig            0       5   object\n",
       "MSZoning             0       5   object\n",
       "LandContour          0       4   object\n",
       "LotShape             0       4   object\n",
       "HouseStyle           0       8   object\n",
       "GarageType           0       7   object\n",
       "MiscFeature          0       5   object\n",
       "SaleType             0       9   object\n",
       "BsmtCond             0       5   object\n",
       "GarageQual           0       6   object\n",
       "GarageCond           0       6   object\n",
       "Street               0       2   object\n",
       "HeatingQC            0       5   object\n",
       "Heating              0       6   object\n",
       "PoolQC               0       4   object\n",
       "BsmtFinType1         0       7   object\n",
       "FireplaceQu          0       6   object\n",
       "PavedDrive           0       3   object\n",
       "ExterQual            0       4   object\n",
       "MasVnrType           0       4   object"
      ]
     },
     "execution_count": 24,
     "metadata": {},
     "output_type": "execute_result"
    }
   ],
   "source": [
    "col_names = list(types_df.index)\n",
    "num_cols = len(col_names)\n",
    "index = range(num_cols)\n",
    "cat_index = []\n",
    "for i in index:\n",
    "    if col_names[i] in conf_dict['CategoricalColumns']:\n",
    "        cat_index.append(i)\n",
    "summary_df_cat = missing_df.join(unq_df).join(types_df.iloc[cat_index], how='inner') #Only summarize categorical columns\n",
    "summary_df_cat"
   ]
  },
  {
   "cell_type": "markdown",
   "metadata": {
    "collapsed": true
   },
   "source": [
    "-----------------------------------------------\n",
    "\n",
    "# 4.0 Explore Individual Variables"
   ]
  },
  {
   "cell_type": "markdown",
   "metadata": {},
   "source": [
    "## 4.1 Explore the target variable"
   ]
  },
  {
   "cell_type": "code",
   "execution_count": 25,
   "metadata": {
    "scrolled": false
   },
   "outputs": [
    {
     "data": {
      "application/vnd.jupyter.widget-view+json": {
       "model_id": "6b35f130a86b4ad2bc7c83dcb3c5553c",
       "version_major": 2,
       "version_minor": 0
      },
      "text/plain": [
       "interactive(children=(Dropdown(description='Target:', index=14, options=('GarageCars', 'MoSold', 'WoodDeckSF',…"
      ]
     },
     "metadata": {},
     "output_type": "display_data"
    },
    {
     "data": {
      "text/plain": [
       "<function __main__.histPlot(data, target)>"
      ]
     },
     "execution_count": 25,
     "metadata": {},
     "output_type": "execute_result"
    }
   ],
   "source": [
    "def histPlot(data, target):\n",
    "    plt.hist(data[target])\n",
    "    plt.show()\n",
    "\n",
    "interact(histPlot,\n",
    "        data=fixed(df),\n",
    "        target=widgets.Dropdown(\n",
    "            options=conf_dict['NumericalColumns'],\n",
    "            value=conf_dict['Target'],\n",
    "            description='Target:',\n",
    "            disabled=False,\n",
    "        ))"
   ]
  },
  {
   "cell_type": "markdown",
   "metadata": {
    "collapsed": true
   },
   "source": [
    "## 4.2 Numeric Variable Summaries & Normality Tests\n",
    "The following plots provide summary visualizations for numerical features. \n",
    "\n",
    "Along the top row of charts, we see a histogram and density plot of the distribution. \n",
    "\n",
    "The bottom-left chart shows a QQ-Plot: For a normal distribution, the blue points will generally fall on the red diagonal line. In addition, a normality test is run and results are printed at the top (p<0.05 = not normal, p>=0.05 is normal).\n",
    "\n",
    "Finally, the bottom-right chart shows a boxplot of the feature. Note that black circles are statistical outliers, it may be worth considering filtering these values in the filtering section at the top of this notebook."
   ]
  },
  {
   "cell_type": "code",
   "execution_count": 26,
   "metadata": {
    "scrolled": false
   },
   "outputs": [
    {
     "data": {
      "application/vnd.jupyter.widget-view+json": {
       "model_id": "821305dacb414a979e69cb001367c715",
       "version_major": 2,
       "version_minor": 0
      },
      "text/plain": [
       "interactive(children=(Dropdown(description='Numeric Variable:', options=('GarageCars', 'MoSold', 'WoodDeckSF',…"
      ]
     },
     "metadata": {},
     "output_type": "display_data"
    },
    {
     "data": {
      "text/plain": [
       "<function helpers.NumericAnalytics.custom_barplot(df, col1='')>"
      ]
     },
     "execution_count": 26,
     "metadata": {},
     "output_type": "execute_result"
    }
   ],
   "source": [
    "w1_value = ''\n",
    "w1 = None\n",
    "w1 = widgets.Dropdown(\n",
    "        options=conf_dict['NumericalColumns'],\n",
    "        value=conf_dict['NumericalColumns'][0],\n",
    "        description='Numeric Variable:',\n",
    "    )\n",
    "\n",
    "interact(NumericAnalytics.custom_barplot, df=fixed(df), col1=w1)"
   ]
  },
  {
   "cell_type": "markdown",
   "metadata": {
    "collapsed": true
   },
   "source": [
    "## 4.3 Categorical Variable Summaries"
   ]
  },
  {
   "cell_type": "code",
   "execution_count": 27,
   "metadata": {
    "scrolled": false
   },
   "outputs": [
    {
     "data": {
      "application/vnd.jupyter.widget-view+json": {
       "model_id": "a8eff8cad2df4385a08679323a052f8c",
       "version_major": 2,
       "version_minor": 0
      },
      "text/plain": [
       "interactive(children=(Dropdown(description='Categorical Variable:', options=('Utilities', 'Street', 'SaleType'…"
      ]
     },
     "metadata": {},
     "output_type": "display_data"
    },
    {
     "data": {
      "text/plain": [
       "<function helpers.CategoricAnalytics.custom_barplot(df, col1='')>"
      ]
     },
     "execution_count": 27,
     "metadata": {},
     "output_type": "execute_result"
    }
   ],
   "source": [
    "w1_value = ''\n",
    "w1 = None\n",
    "\n",
    "w1 = widgets.Dropdown(\n",
    "    options = conf_dict['CategoricalColumns'],\n",
    "    value = conf_dict['CategoricalColumns'][0],\n",
    "    description = 'Categorical Variable:',\n",
    ")\n",
    "\n",
    "interact(CategoricAnalytics.custom_barplot, df=fixed(df), col1=w1)\n"
   ]
  },
  {
   "cell_type": "markdown",
   "metadata": {
    "collapsed": true
   },
   "source": [
    "##  4.4 Interactions Between Variables"
   ]
  },
  {
   "cell_type": "markdown",
   "metadata": {},
   "source": [
    "###  4.4.1 Rank variables based on linear relationships with reference variable\n",
    "In this section, we review the relationships between numeric and categorical variables against a reference variable (likely your target). This is a quick way to understand which features may contribute to the predictive value of a model."
   ]
  },
  {
   "cell_type": "code",
   "execution_count": 28,
   "metadata": {
    "scrolled": false
   },
   "outputs": [
    {
     "data": {
      "application/vnd.jupyter.widget-view+json": {
       "model_id": "77502fdf582a4161aa52bfd8fcf38c0a",
       "version_major": 2,
       "version_minor": 0
      },
      "text/plain": [
       "interactive(children=(Dropdown(description='Ref Var:', options=('SalePrice', 'GarageCars', 'MoSold', 'WoodDeck…"
      ]
     },
     "metadata": {},
     "output_type": "display_data"
    },
    {
     "data": {
      "text/plain": [
       "<function helpers.InteractionAnalytics.rank_associations(df, conf_dict, col1, col2, col3)>"
      ]
     },
     "execution_count": 28,
     "metadata": {},
     "output_type": "execute_result"
    }
   ],
   "source": [
    "cols_list = [conf_dict['Target']] + conf_dict['NumericalColumns'] + conf_dict['CategoricalColumns'] \n",
    "cols_list = list(OrderedDict.fromkeys(cols_list)) \n",
    "w1 = widgets.Dropdown(    \n",
    "    options=cols_list,\n",
    "    value=cols_list[0],\n",
    "    description='Ref Var:'\n",
    ")\n",
    "w2 = ipywidgets.Text(value=\"5\", description='Top Num Vars:')\n",
    "w3 = ipywidgets.Text(value=\"5\", description='Top Cat Vars:')\n",
    "\n",
    "interact(InteractionAnalytics.rank_associations, df=fixed(df),conf_dict=fixed(conf_dict), col1=w1, col2=w2, col3=w3)\n"
   ]
  },
  {
   "cell_type": "markdown",
   "metadata": {
    "collapsed": true
   },
   "source": [
    "###  4.4.2 Interactions between categorical variables"
   ]
  },
  {
   "cell_type": "code",
   "execution_count": 29,
   "metadata": {
    "scrolled": false
   },
   "outputs": [
    {
     "data": {
      "application/vnd.jupyter.widget-view+json": {
       "model_id": "86389cd9ab8b4fd78a78b9c767258f3c",
       "version_major": 2,
       "version_minor": 0
      },
      "text/plain": [
       "interactive(children=(Dropdown(description='Categorical Var 1:', options=('Utilities', 'Street', 'SaleType', '…"
      ]
     },
     "metadata": {},
     "output_type": "display_data"
    },
    {
     "data": {
      "text/plain": [
       "<function helpers.InteractionAnalytics.categorical_relations(df, col1, col2)>"
      ]
     },
     "execution_count": 29,
     "metadata": {},
     "output_type": "execute_result"
    }
   ],
   "source": [
    "w1, w2 = None, None\n",
    "\n",
    "if conf_dict['Target'] in conf_dict['CategoricalColumns']:\n",
    "    cols_list = [conf_dict['Target']] + conf_dict['CategoricalColumns'] \n",
    "    cols_list = list(OrderedDict.fromkeys(cols_list)) \n",
    "else:\n",
    "    cols_list = conf_dict['CategoricalColumns']\n",
    "    \n",
    "w1 = widgets.Dropdown(\n",
    "    options=cols_list,\n",
    "    value=cols_list[0],\n",
    "    description='Categorical Var 1:'\n",
    ")\n",
    "w2 = widgets.Dropdown(\n",
    "    options=cols_list,\n",
    "    value=cols_list[1],\n",
    "    description='Categorical Var 2:'\n",
    ")\n",
    "\n",
    "interact(InteractionAnalytics.categorical_relations, df=fixed(df), col1=w1, col2=w2)\n"
   ]
  },
  {
   "cell_type": "markdown",
   "metadata": {
    "collapsed": true
   },
   "source": [
    "###  4.4.4 Interactions between numerical variables"
   ]
  },
  {
   "cell_type": "code",
   "execution_count": 30,
   "metadata": {
    "scrolled": false
   },
   "outputs": [
    {
     "data": {
      "application/vnd.jupyter.widget-view+json": {
       "model_id": "07c13f8312264d0e9b36e038ab8a6b7f",
       "version_major": 2,
       "version_minor": 0
      },
      "text/plain": [
       "interactive(children=(Dropdown(description='Numerical Var 1:', options=('SalePrice', 'GarageCars', 'MoSold', '…"
      ]
     },
     "metadata": {},
     "output_type": "display_data"
    },
    {
     "data": {
      "text/plain": [
       "<function helpers.InteractionAnalytics.numerical_relations(df, col1, col2)>"
      ]
     },
     "execution_count": 30,
     "metadata": {},
     "output_type": "execute_result"
    }
   ],
   "source": [
    "w1, w2 = None, None\n",
    "\n",
    "if conf_dict['Target'] in conf_dict['NumericalColumns']:\n",
    "    cols_list = [conf_dict['Target']] + conf_dict['NumericalColumns'] \n",
    "    cols_list = list(OrderedDict.fromkeys(cols_list)) \n",
    "else:\n",
    "    cols_list = conf_dict['NumericalColumns']\n",
    "w1 = widgets.Dropdown(\n",
    "    options=cols_list,\n",
    "    value=cols_list[0],\n",
    "    description='Numerical Var 1:'\n",
    ")\n",
    "w2 = widgets.Dropdown(\n",
    "    options=cols_list,\n",
    "    value=cols_list[1],\n",
    "    description='Numerical Var 2:'\n",
    ")\n",
    "\n",
    "interact(InteractionAnalytics.numerical_relations, df=fixed(df), col1=w1, col2=w2)\n"
   ]
  },
  {
   "cell_type": "markdown",
   "metadata": {
    "collapsed": true
   },
   "source": [
    "### 4.4.5 Correlation matrix between numerical variables\n",
    "The correlation matrix represents the results of mass correlation analyses between all numerical variables. A value of 1 represents a perfect correlation, while 0 indicates no correlation. \n",
    "\n",
    "The matrix can use multiple correlation methods. Some guidelines for selecting the correct method are below. For continuous features we have:\n",
    "\n",
    "* Pearson: Most widely used method, measures degree of association. Variables must be linear and normally distributed and must be continuous (e.g. age, weight).\n",
    "\n",
    "When incorporating rank data, use one of the following:\n",
    "\n",
    "* Spearman: Similar to Pearson, but no assumption of normal distribution and the variables can be either continuous or ordinal (e.g. finishing position in a race, rank in class). This is the more popular rank metric over Kendall.\n",
    "* Kendall: More robust than Spearman when working with small datasets, or datasets with errors. This robustness comes with a tradeoff on performance, with Kendall being exponentially slower for large datasets.\n"
   ]
  },
  {
   "cell_type": "code",
   "execution_count": 31,
   "metadata": {},
   "outputs": [
    {
     "data": {
      "image/png": "[encoded data removed]",
      "text/plain": [
       "<Figure size 1080x1080 with 2 Axes>"
      ]
     },
     "metadata": {},
     "output_type": "display_data"
    }
   ],
   "source": [
    "from matplotlib.pyplot import quiver, colorbar, clim,  matshow\n",
    "import matplotlib.ticker as ticker\n",
    "\n",
    "df2 = df[conf_dict['NumericalColumns']].corr(method='kendall')\n",
    "col_names = list(df[conf_dict['NumericalColumns']].columns)\n",
    "\n",
    "fig,ax = plt.subplots(figsize=(15,15))\n",
    "m = ax.matshow(df2, cmap=matplotlib.pyplot.cm.coolwarm)\n",
    "ax.grid(b=False)\n",
    "fig.colorbar(m)\n",
    "ax.set_xticklabels([' '] + col_names, rotation=90)\n",
    "ax.set_yticklabels([' '] + col_names)\n",
    "ax.xaxis.set_major_locator(ticker.MultipleLocator(1))\n",
    "ax.yaxis.set_major_locator(ticker.MultipleLocator(1))\n",
    "fig.show()"
   ]
  },
  {
   "cell_type": "markdown",
   "metadata": {
    "collapsed": true
   },
   "source": [
    "###  4.4.6 Interactions between numerical and categorical variables\n",
    "In this section we perform hypothesis tests to determine whether the values of a categorical variable (e.g. your target) have statistically different distributions. Note that a p-value is calculated to reflect one of two interpretations:\n",
    "\n",
    "* p<=0.05: We reject the null hypothesis that the different levels of the categorical variable are equal. In other words, the levels are significantly different. \n",
    "* p>0.05: Accept the null hypothesis that the levels of the categorical feature are equal. There is no difference in the value of the numerical feature between our categories."
   ]
  },
  {
   "cell_type": "code",
   "execution_count": 32,
   "metadata": {
    "scrolled": false
   },
   "outputs": [
    {
     "data": {
      "application/vnd.jupyter.widget-view+json": {
       "model_id": "0d84f060d7854195b36f8ceb7cb3788e",
       "version_major": 2,
       "version_minor": 0
      },
      "text/plain": [
       "interactive(children=(Dropdown(description='Numerical Variable:', options=('SalePrice', 'GarageCars', 'MoSold'…"
      ]
     },
     "metadata": {},
     "output_type": "display_data"
    },
    {
     "data": {
      "text/plain": [
       "<function helpers.InteractionAnalytics.nc_relation(df, conf_dict, col1, col2, col3=None)>"
      ]
     },
     "execution_count": 32,
     "metadata": {},
     "output_type": "execute_result"
    }
   ],
   "source": [
    "w1, w2 = None, None\n",
    "\n",
    "if conf_dict['Target'] in conf_dict['NumericalColumns']:\n",
    "    cols_list = [conf_dict['Target']] + conf_dict['NumericalColumns'] #Make target the default reference variable\n",
    "    cols_list = list(OrderedDict.fromkeys(cols_list)) #remove variables that might be duplicates with target\n",
    "else:\n",
    "    cols_list = conf_dict['NumericalColumns']\n",
    "    \n",
    "w1 = widgets.Dropdown(\n",
    "    options=cols_list,\n",
    "    value=cols_list[0],\n",
    "    description='Numerical Variable:'\n",
    ")\n",
    "\n",
    "if conf_dict['Target'] in conf_dict['CategoricalColumns']:\n",
    "    cols_list = [conf_dict['Target']] + conf_dict['CategoricalColumns'] #Make target the default reference variable\n",
    "    cols_list = list(OrderedDict.fromkeys(cols_list)) #remove variables that might be duplicates with target\n",
    "else:\n",
    "    cols_list = conf_dict['CategoricalColumns']\n",
    "    \n",
    "w2 = widgets.Dropdown(\n",
    "    options=cols_list,\n",
    "    value=cols_list[0],\n",
    "    description='Categorical Variable:'\n",
    ")\n",
    "interact(InteractionAnalytics.nc_relation, df=fixed(df),conf_dict=fixed(conf_dict), col1=w1, col2=w2, col3=fixed(w3))\n"
   ]
  },
  {
   "cell_type": "markdown",
   "metadata": {
    "collapsed": true
   },
   "source": [
    "### 4.4.8 Interactions between two numerical and one categorical variable"
   ]
  },
  {
   "cell_type": "code",
   "execution_count": 33,
   "metadata": {
    "scrolled": false
   },
   "outputs": [
    {
     "data": {
      "application/vnd.jupyter.widget-view+json": {
       "model_id": "42f342af16cd4c6f942cee38f6756b0d",
       "version_major": 2,
       "version_minor": 0
      },
      "text/plain": [
       "interactive(children=(Dropdown(description='Numerical Var 1:', options=('SalePrice', 'GarageCars', 'MoSold', '…"
      ]
     },
     "metadata": {},
     "output_type": "display_data"
    },
    {
     "data": {
      "text/plain": [
       "<function helpers.InteractionAnalytics.nnc_relation(df, conf_dict, col1, col2, col3)>"
      ]
     },
     "execution_count": 33,
     "metadata": {},
     "output_type": "execute_result"
    }
   ],
   "source": [
    "w1, w2, w3 = None, None, None\n",
    "\n",
    "if conf_dict['Target'] in conf_dict['NumericalColumns']:\n",
    "    cols_list = [conf_dict['Target']] + conf_dict['NumericalColumns'] \n",
    "    cols_list = list(OrderedDict.fromkeys(cols_list)) \n",
    "else:\n",
    "    cols_list = conf_dict['NumericalColumns']\n",
    "    \n",
    "w1 = widgets.Dropdown(\n",
    "    options = cols_list,\n",
    "    value = cols_list[0],\n",
    "    description = 'Numerical Var 1:'\n",
    ")\n",
    "w2 = widgets.Dropdown(\n",
    "    options = cols_list,\n",
    "    value = cols_list[1],\n",
    "    description = 'Numerical Var 2:'\n",
    ")\n",
    "\n",
    "if conf_dict['Target'] in conf_dict['CategoricalColumns']:\n",
    "    cols_list = [conf_dict['Target']] + conf_dict['CategoricalColumns'] \n",
    "    cols_list = list(OrderedDict.fromkeys(cols_list)) \n",
    "else:\n",
    "    cols_list = conf_dict['CategoricalColumns']\n",
    "    \n",
    "w3 = widgets.Dropdown(\n",
    "    options = cols_list,\n",
    "    value = cols_list[0],\n",
    "    description = 'Legend Cat Var:'\n",
    ")\n",
    "interact(InteractionAnalytics.nnc_relation, df=fixed(df),conf_dict=fixed(conf_dict), col1=w1, col2=w2, col3=w3)\n"
   ]
  },
  {
   "cell_type": "markdown",
   "metadata": {
    "collapsed": true
   },
   "source": [
    "---------------------------------\n",
    "# 5.0 Latent Trait Analysis & Dimension Reduction\n",
    "\n",
    "## 5.1 Principal Components Analysis (PCA)\n",
    "Principal component analysis re-calculates *n* principal components for a dataset with *n* numerical features. The principal components are derived sequentially to capture the largest amount of variation in the data, i.e. PC1 captures the most variation, followed by PC2, then PC3... Each principal component is a combination of the original features. \n",
    "\n",
    "Practically speaking, PCA is commonly used for two purposes: Dimension reduction and latent trait analysis. For the purposes of this workflow, we are interested in latent trait analysis. \n",
    "\n",
    "PCAs can often capture latent traits in our data in the same way an IQ test estimates intelligence (the latent trait) from questions (our numerical features). The variable factor compass shows how the original numerical features influence the \"momentum\" of points in our PCA scatterplot. For example, if we saw an \"oil temperature\" arrow pointing north-east on our compass, we would ascertain that points in the top right of our scatter plot have high oil temperatures, while points in the bottom left have lower oil temp. Furthermore, arrows that are close to eachother imply a relationship between those values. If our \"oil temperature\" vector points in a similar direction to \"ambient temperature\", a possible relationship between those values is implied. If the scatterplot shows many points flagged as \"failures\" in the top right, this points to a relationship between ambient temp, oil temp and failure.\n",
    "\n",
    "The final chart shows the percentage of variation captured by each principal component. When drawing insights from PCA, it's important to make sure that these insights are based on a sufficient portion of the variation. For example, if PC1 captures 40% of variation and PC2 captures 35%, a scatterplot of PC1 and PC2 explains 75% of the variation and we can draw fairly robust conclusions. Conversely, if PC1 and PC2 only capture 5% of variation, conclusions are fairly disconnected from the complete dataset.\n",
    "\n",
    "----------------------------------\n",
    "Interesting relationships exist between 2-4, 2-5"
   ]
  },
  {
   "cell_type": "code",
   "execution_count": 34,
   "metadata": {},
   "outputs": [
    {
     "data": {
      "application/vnd.jupyter.widget-view+json": {
       "model_id": "dde4e7b452be48438ffe22a95d126434",
       "version_major": 2,
       "version_minor": 0
      },
      "text/plain": [
       "interactive(children=(Dropdown(description='Legend Variable:', options=('Utilities', 'Street', 'SaleType', 'Sa…"
      ]
     },
     "metadata": {},
     "output_type": "display_data"
    }
   ],
   "source": [
    "from sklearn.decomposition import PCA\n",
    "import seaborn as sns\n",
    "import numpy as np\n",
    "import matplotlib.pyplot as plt\n",
    "\n",
    "def numerical_pca_egv(df, conf_dict, col1, col2, col3):\n",
    "    # Do the PCA.\n",
    "    n_components = len(conf_dict['NumericalColumns'])\n",
    "    df2 = df[conf_dict['NumericalColumns']]\n",
    "\n",
    "    scaler = StandardScaler()\n",
    "    scaler.fit(df2)\n",
    "    df2 = scaler.transform(df2)\n",
    "    df2 = pd.DataFrame(df2, columns = conf_dict['NumericalColumns'])\n",
    "\n",
    "    pca = PCA(n_components=n_components)\n",
    "    reduced = pca.fit_transform(df2)\n",
    "    print(pca.explained_variance_ratio_)\n",
    "\n",
    "    # Append the principle components for each entry to the dataframe\n",
    "    for i in range(0, n_components):\n",
    "        df2['PC' + str(i + 1)] = reduced[:, i]\n",
    "\n",
    "    #display(df2.head())\n",
    "    if col1 not in conf_dict['NumericalColumns']:\n",
    "        df.reset_index(drop=True, inplace=True)\n",
    "        df2.reset_index(drop=True, inplace=True)\n",
    "        df2[col1] = df[col1]\n",
    "\n",
    "    # Show the points in terms of the first two PCs\n",
    "    g = sns.lmplot(('PC' + str(col2)),\n",
    "                   ('PC' + str(col3)),\n",
    "                   hue=col1,\n",
    "                   data=df2,\n",
    "                   fit_reg=False,\n",
    "                   scatter=True,\n",
    "                   size=7)\n",
    "    plt.show()\n",
    "\n",
    "    # Plot a variable factor map for the first two dimensions.\n",
    "    (fig, ax) = plt.subplots(figsize=(8, 8))\n",
    "    for i in range(0, len(pca.components_)):\n",
    "        ax.arrow(0,\n",
    "                 0,  # Start the arrow at the origin\n",
    "                 pca.components_[int(col2) - 1, i],  #0 for PC1\n",
    "                 pca.components_[int(col3) - 1, i],  #1 for PC2\n",
    "                 head_width=0.05,\n",
    "                 head_length=0.08)\n",
    "\n",
    "        plt.text(pca.components_[int(col2) - 1, i] + 0.05,\n",
    "                 pca.components_[int(col3) - 1, i] + 0.05,\n",
    "                 df2.columns.values[i])\n",
    "\n",
    "    an = np.linspace(0, 2 * np.pi, 100)\n",
    "    plt.plot(np.cos(an), np.sin(an))  # Add a unit circle for scale\n",
    "    plt.axis('equal')\n",
    "    ax.set_title('Variable factor compass')\n",
    "    plt.show()\n",
    "\n",
    "    # Do a scree plot\n",
    "    ind = np.arange(0, n_components)\n",
    "    cumpca = np.cumsum(pca.explained_variance_ratio_)\n",
    "    \n",
    "    (fig, ax) = plt.subplots(figsize=(8, 6))\n",
    "    sns.pointplot(x=ind, y=cumpca)\n",
    "    ax.set_title('Scree plot')\n",
    "    ax.set_xticks(ind)\n",
    "    ax.set_xticklabels(ind)\n",
    "    ax.set_xlabel('Component Number')\n",
    "    ax.set_ylabel('Explained Variance')\n",
    "    plt.show()\n",
    "    \n",
    "\n",
    "num_numeric = len(conf_dict['NumericalColumns'])\n",
    "if  num_numeric > 3:\n",
    "    \n",
    "    w1, w2, w3 = None, None, None\n",
    "    if conf_dict['Target'] in conf_dict['CategoricalColumns']:\n",
    "        cols_list = [conf_dict['Target']] + conf_dict['CategoricalColumns'] \n",
    "        cols_list = list(OrderedDict.fromkeys(cols_list)) \n",
    "    else:\n",
    "        cols_list = conf_dict['CategoricalColumns']\n",
    "\n",
    "    \n",
    "    w1 = widgets.Dropdown(\n",
    "        options = cols_list,\n",
    "        value = cols_list[0],\n",
    "        description = 'Legend Variable:',\n",
    "        width = 10\n",
    "    )\n",
    "    w2 = widgets.Dropdown(\n",
    "        options = [str(x) for x in np.arange(1,num_numeric+1)],\n",
    "        value = '1',\n",
    "        width = 1,\n",
    "        description='PC at X-Axis:'\n",
    "    )\n",
    "    w3 = widgets.Dropdown(\n",
    "        options = [str(x) for x in np.arange(1,num_numeric+1)],\n",
    "        value = '2',\n",
    "        description = 'PC at Y-Axis:'\n",
    "    )\n",
    "    \n",
    "    interact(numerical_pca_egv, \\\n",
    "             df=fixed(df), \\\n",
    "             conf_dict= fixed(conf_dict), \\\n",
    "             col1=w1, col2=w2, col3=w3)"
   ]
  }
 ],
 "metadata": {
  "celltoolbar": "Raw Cell Format",
  "kernelspec": {
   "display_name": "Python 3",
   "language": "python",
   "name": "python3"
  },
  "language_info": {
   "codemirror_mode": {
    "name": "ipython",
    "version": 3
   },
   "file_extension": ".py",
   "mimetype": "text/x-python",
   "name": "python",
   "nbconvert_exporter": "python",
   "pygments_lexer": "ipython3",
   "version": "3.6.6"
  },
  "widgets": {
   "state": {
    "04f0d91d56f342708c52e57fbe9bcd06": {
     "views": [
      {
       "cell_index": 45
      }
     ]
    },
    "0506975d69c14717be17695d1a6c7132": {
     "views": [
      {
       "cell_index": 50
      }
     ]
    },
    "0dc41da3c3f445d690100fd99558f244": {
     "views": [
      {
       "cell_index": 30
      }
     ]
    },
    "2196ee8000864f23bbfa4689bfaffc7d": {
     "views": [
      {
       "cell_index": 37
      }
     ]
    },
    "4a5ca2989b4d456d8d019f38514c3485": {
     "views": [
      {
       "cell_index": 35
      }
     ]
    },
    "56d3942cb1684869808846d861e7b0b9": {
     "views": [
      {
       "cell_index": 48
      }
     ]
    },
    "642af708746142059091fb9c21fb4612": {
     "views": [
      {
       "cell_index": 28
      }
     ]
    },
    "9cc891c4a4dc4ca3bc4801bf7c38e19d": {
     "views": [
      {
       "cell_index": 41
      }
     ]
    },
    "a416687c67684df8818f966704d9f073": {
     "views": [
      {
       "cell_index": 43
      }
     ]
    },
    "d0c17a981a554bcc89cba56b4a1edccd": {
     "views": [
      {
       "cell_index": 39
      }
     ]
    },
    "d0d887fc32c940e88721b75f39ec03c5": {
     "views": [
      {
       "cell_index": 13
      }
     ]
    },
    "e96f8216a4b94c3aa524bce1034708ef": {
     "views": [
      {
       "cell_index": 32
      }
     ]
    }
   },
   "version": "1.2.0"
  }
 },
 "nbformat": 4,
 "nbformat_minor": 1
}
