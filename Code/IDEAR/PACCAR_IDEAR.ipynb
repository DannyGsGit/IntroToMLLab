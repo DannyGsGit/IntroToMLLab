{
 "cells": [
  {
   "cell_type": "markdown",
   "metadata": {},
   "source": [
    "# Interactive Data Miner\n",
    "## ITD Advanced Analytics\n",
    "- Date: 2018/05\n",
    "- Credit: Based on MS TDSP Utilities\n",
    "\n",
    "This notebook steps through the most common analyses performed in the early stages of the [CRISP DM](https://en.wikipedia.org/wiki/Cross-industry_standard_process_for_data_mining) analysis process. The notebook is specifically centered around \"Data Understanding\" and covers basic \"Data Preparation\" tasks as well. \n",
    "\n",
    "More advanced data preparation and modeling work is use-case-specific and is not captured in this generic workflow. Rather, this notebook is intended to serve as a launchpad for more detailed analysis. "
   ]
  },
  {
   "cell_type": "code",
   "execution_count": 1,
   "metadata": {
    "scrolled": false
   },
   "outputs": [
    {
     "data": {
      "text/html": [
       "<style>\n",
       "    .widget-label { min-width: 20ex !important; }\n",
       "    .widget-text { min-width: 60ex !important; }\n",
       "</style>"
      ],
      "text/plain": [
       "<IPython.core.display.HTML object>"
      ]
     },
     "metadata": {},
     "output_type": "display_data"
    },
    {
     "data": {
      "text/html": [
       "<script>\n",
       "code_show=true; \n",
       "function code_toggle() {\n",
       " if (code_show){\n",
       " $('div.input').hide();\n",
       "\n",
       " } else {\n",
       " $('div.input').show();\n",
       "\n",
       " }\n",
       " code_show = !code_show\n",
       "} \n",
       "$( document ).ready(code_toggle);//commenting code disabling by default\n",
       "</script>\n",
       "<form action = \"javascript:code_toggle()\"><input type=\"submit\" value=\"Toggle Raw Code\"></form>"
      ],
      "text/plain": [
       "<IPython.core.display.HTML object>"
      ]
     },
     "execution_count": 1,
     "metadata": {},
     "output_type": "execute_result"
    }
   ],
   "source": [
    "from IPython.core.display import HTML\n",
    "display(HTML('''<style>\n",
    "    .widget-label { min-width: 20ex !important; }\n",
    "    .widget-text { min-width: 60ex !important; }\n",
    "</style>'''))\n",
    "\n",
    "#Toggle Code\n",
    "HTML('''<script>\n",
    "code_show=true; \n",
    "function code_toggle() {\n",
    " if (code_show){\n",
    " $('div.input').hide();\n",
    "\n",
    " } else {\n",
    " $('div.input').show();\n",
    "\n",
    " }\n",
    " code_show = !code_show\n",
    "} \n",
    "$( document ).ready(code_toggle);//commenting code disabling by default\n",
    "</script>\n",
    "<form action = \"javascript:code_toggle()\"><input type=\"submit\" value=\"Toggle Raw Code\"></form>''')"
   ]
  },
  {
   "cell_type": "markdown",
   "metadata": {},
   "source": [
    "--------------------------------------------------------------------------\n",
    "\n",
    "# <a name=\"setup\"></a> 1.0 Global Configuration and Set Up"
   ]
  },
  {
   "cell_type": "code",
   "execution_count": 3,
   "metadata": {},
   "outputs": [],
   "source": [
    "import collections\n",
    "\n",
    "from IPython.display import display\n",
    "import matplotlib.pyplot as plt\n",
    "import matplotlib\n",
    "import scipy.stats as stats\n",
    "from statsmodels.graphics.mosaicplot import mosaic\n",
    "import statsmodels.api as sm\n",
    "from statsmodels.formula.api import ols\n",
    "import pandas as pd\n",
    "import numpy as np\n",
    "import scipy\n",
    "import matplotlib.pyplot as plt\n",
    "import scipy.stats as stats\n",
    "from functools import partial\n",
    "import IPython\n",
    "import ipywidgets\n",
    "from ipywidgets import widgets\n",
    "from ipywidgets import interact, interactive,fixed\n",
    "import operator\n",
    "from IPython.display import Javascript, display,HTML, clear_output\n",
    "from ipywidgets import widgets, VBox, Output, Layout\n",
    "import seaborn as sns\n",
    "from collections import OrderedDict\n",
    "import yaml\n",
    "import copy\n",
    "import warnings\n",
    "import getpass\n",
    "import sys\n",
    "\n",
    "warnings.filterwarnings('ignore')\n",
    "\n",
    "from helpers import *\n",
    " \n",
    "%matplotlib inline\n",
    "font={'family':'normal','weight':'normal','size':8}\n",
    "matplotlib.rc('font',**font)\n",
    "matplotlib.rcParams['figure.figsize'] = (12.0, 5.0)\n",
    "matplotlib.rc('xtick', labelsize=9) \n",
    "matplotlib.rc('ytick', labelsize=9)\n",
    "matplotlib.rc('axes', labelsize=10)\n",
    "matplotlib.rc('axes', titlesize=10)\n",
    "sns.set_style('whitegrid')\n"
   ]
  },
  {
   "cell_type": "markdown",
   "metadata": {},
   "source": [
    "## 1.1 Specify and load yaml file"
   ]
  },
  {
   "cell_type": "code",
   "execution_count": 185,
   "metadata": {},
   "outputs": [
    {
     "name": "stdout",
     "output_type": "stream",
     "text": [
      "Please enter yaml file Name: data.yaml\n"
     ]
    }
   ],
   "source": [
    "import sys\n",
    "\n",
    "#Read in yaml file as text\n",
    "if (sys.version_info > (3, 0)):    \n",
    "    yaml_file_name = input('Please enter yaml file Name: ')\n",
    "else:\n",
    "    yaml_file_name = raw_input('Please enter yaml file Name: ')\n",
    "\n",
    "Sample_Size = 10000\n",
    "\n",
    "# %%add_conf_code_to_report\n",
    "\n",
    "conf_dict = ConfUtility.parse_yaml(yaml_file_name)\n",
    "\n",
    "# Read in data from local file or SQL server\n",
    "if 'DataSource' not in conf_dict:\n",
    "    df=pd.read_csv(conf_dict['DataFilePath'], skipinitialspace=True)\n",
    "\n",
    "# Making sure that we are not reading any extra column\n",
    "df = df[[each for each in df.columns if 'Unnamed' not in each]]\n",
    "\n",
    "# Filter out unnecessary columns\n",
    "necessary_columns = conf_dict['CategoricalColumns'] + conf_dict['NumericalColumns'] + [conf_dict['Target']]\n",
    "df = df[list(set(necessary_columns))]\n",
    "\n",
    "# Save a backup of df and numerical columns, pre-manipulation\n",
    "df_original = df\n",
    "conf_dict['OriginalNumericalColumns'] = copy.deepcopy(conf_dict['NumericalColumns'])\n",
    "conf_dict['OriginalCategoricalColumns'] = copy.deepcopy(conf_dict['CategoricalColumns'])"
   ]
  },
  {
   "cell_type": "markdown",
   "metadata": {},
   "source": [
    "--------------------------------------\n",
    "# 2.0 Prepare Data\n",
    "Section 2 covers typical data manipulation steps to prepare data for analysis. It is common to first run the full notebook, then evaluate features to identify outliers, non-normal distributions, etc. that are then remediated by coming back to section 2 for cleansing. \n",
    "\n",
    "After applying changes in any subsection of this section, be sure to hit the \"Apply\" buttons to re-compile the notebook with the changes you've made.\n",
    "\n",
    "## 2.1 Filtering\n",
    "Filters are applied in this first section such that any transformations of the data are reflected in analyses below. Note that changes made to the data in this section are not automatically propagated through the document, subsequent cells must be re-compiled individually with Ctrl+Enter or by selecting *Cell > Run All Below* (recommended)."
   ]
  },
  {
   "cell_type": "code",
   "execution_count": 155,
   "metadata": {
    "scrolled": true
   },
   "outputs": [
    {
     "data": {
      "application/vnd.jupyter.widget-view+json": {
       "model_id": "4c113e3be1724f859f2abe2d2bd252dd",
       "version_major": 2,
       "version_minor": 0
      },
      "text/plain": [
       "QgridWidget(grid_options={'fullWidthRows': True, 'syncColumnCellResize': True, 'forceFitColumns': False, 'defa…"
      ]
     },
     "metadata": {},
     "output_type": "display_data"
    }
   ],
   "source": [
    "# Use the qgrid library to generate an interactive filtering data table\n",
    "import qgrid\n",
    "qgrid_widget = qgrid.show_grid(df_original, grid_options = {'forceFitColumns': False}, show_toolbar = False)\n",
    "#qgrid_widget_postproc = qgrid.show_grid(df0, grid_options = {'filterable':False, 'forceFitColumns': False}, show_toolbar = False)\n",
    "qgrid_widget"
   ]
  },
  {
   "cell_type": "markdown",
   "metadata": {},
   "source": [
    "The tool supports filtering on ranges. For more refined filtering methods (e.g. validating values against other columns), custom code can be added by expanding the source code and adding user-defined functions. Any custom function must produce a Pandas DataFrame object named 'df' to propagate through the notebook.\n",
    "\n",
    "[[Hit \"Toggle Raw Code\" button at top of notebook to edit user-defined filters]]"
   ]
  },
  {
   "cell_type": "code",
   "execution_count": null,
   "metadata": {},
   "outputs": [],
   "source": [
    "##################### Add user-defined filters here ############################\n",
    "# Example: data['may_build_date'] = data[data['build_month'] == 5]"
   ]
  },
  {
   "cell_type": "code",
   "execution_count": 186,
   "metadata": {},
   "outputs": [
    {
     "data": {
      "application/javascript": [
       "IPython.notebook.execute_cells_below()"
      ],
      "text/plain": [
       "<IPython.core.display.Javascript object>"
      ]
     },
     "metadata": {},
     "output_type": "display_data"
    },
    {
     "name": "stdout",
     "output_type": "stream",
     "text": [
      "Confirm Filter Application\n"
     ]
    },
    {
     "data": {
      "application/vnd.jupyter.widget-view+json": {
       "model_id": "914ab880c0d54264ace1f80e5b519d85",
       "version_major": 2,
       "version_minor": 0
      },
      "text/plain": [
       "Button(description='Apply', style=ButtonStyle())"
      ]
     },
     "metadata": {},
     "output_type": "display_data"
    }
   ],
   "source": [
    "# Re-run all cells below\n",
    "def run_all(ev):\n",
    "    display(Javascript('IPython.notebook.execute_cells_below()'))\n",
    "\n",
    "print(\"Confirm Filter Application\")\n",
    "button_rerun = widgets.Button(description=\"Apply\")\n",
    "button_rerun.on_click(run_all)\n",
    "display(button_rerun)"
   ]
  },
  {
   "cell_type": "markdown",
   "metadata": {},
   "source": [
    "## 2.2 Log Transformations\n",
    "It may be necesarry to transform certain columns. In particular, it is common to log-transform numerical columns to ensure a normal distribution. If a feature fails the normality tests below, try creating a log-transformed version of that feature here- this version may pass a normality test.\n",
    "\n",
    "Note: When a column is log-transformed, the original column (e.g. \"Age\") is replaced by the transformed version (\"Age_log\"). If you decide not to use the transformation, simply re-run this section with your column de-selected to restore the original version."
   ]
  },
  {
   "cell_type": "code",
   "execution_count": 187,
   "metadata": {},
   "outputs": [
    {
     "data": {
      "application/vnd.jupyter.widget-view+json": {
       "model_id": "6b76b6dfc8f0410e96a3b0680e55496b",
       "version_major": 2,
       "version_minor": 0
      },
      "text/plain": [
       "SelectMultiple(description='Select Column(s)', layout=Layout(display='flex', flex_flow='column'), options=('Id…"
      ]
     },
     "metadata": {},
     "output_type": "display_data"
    },
    {
     "data": {
      "application/vnd.jupyter.widget-view+json": {
       "model_id": "49adbf31d8b74624895bdf6179d75345",
       "version_major": 2,
       "version_minor": 0
      },
      "text/plain": [
       "Button(description='Add Transforms', style=ButtonStyle())"
      ]
     },
     "metadata": {},
     "output_type": "display_data"
    },
    {
     "data": {
      "application/vnd.jupyter.widget-view+json": {
       "model_id": "ef6274d39d4c46bf84ff5080656e360c",
       "version_major": 2,
       "version_minor": 0
      },
      "text/plain": [
       "Output()"
      ]
     },
     "metadata": {},
     "output_type": "display_data"
    }
   ],
   "source": [
    "# Reset values\n",
    "df_xform = qgrid_widget.get_changed_df()\n",
    "conf_dict['NumericalColumns'] = copy.deepcopy(conf_dict['OriginalNumericalColumns'])\n",
    "log_transforms = {}\n",
    "\n",
    "# Define a multiple-select list to select columns for transformation\n",
    "log_list = widgets.SelectMultiple(\n",
    "    options=conf_dict['NumericalColumns'],\n",
    "    description='Select Column(s)',\n",
    "    disabled=False,\n",
    "    layout=Layout(display=\"flex\", flex_flow='column')\n",
    ")\n",
    "\n",
    "display(log_list)\n",
    "\n",
    "# And a button to execute the transform\n",
    "out_log = Output()\n",
    "with out_log:\n",
    "        clear_output()\n",
    "\n",
    "def apply_log(ev):\n",
    "    for feature in log_list.value:\n",
    "        # Create new feature\n",
    "        new_feature = feature + '_log'\n",
    "        df_xform[new_feature] = np.log1p(df_xform[feature])\n",
    "        conf_dict['NumericalColumns'].append(new_feature)\n",
    "        # Drop untransformed feature\n",
    "        conf_dict['NumericalColumns'].remove(feature)\n",
    "        df_xform.drop([feature], axis = 1, inplace = True)\n",
    "        log_transforms.update({new_feature: {'type': 'log1p', 'source_feature': feature}})\n",
    "        with out_log: \n",
    "            print(\"Generated log transform of \" + feature + \": \" + new_feature)\n",
    "            print(\"Removed \" + feature + \" from numerical features\")\n",
    "\n",
    "            \n",
    "\n",
    "\n",
    "button_log = widgets.Button(description=\"Add Transforms\")\n",
    "button_log.on_click(apply_log)\n",
    "display(button_log)\n",
    "\n",
    "display(out_log)"
   ]
  },
  {
   "cell_type": "code",
   "execution_count": 188,
   "metadata": {},
   "outputs": [
    {
     "name": "stdout",
     "output_type": "stream",
     "text": [
      "Apply log transforms to notebook\n"
     ]
    },
    {
     "data": {
      "application/vnd.jupyter.widget-view+json": {
       "model_id": "914ab880c0d54264ace1f80e5b519d85",
       "version_major": 2,
       "version_minor": 0
      },
      "text/plain": [
       "Button(description='Apply', style=ButtonStyle())"
      ]
     },
     "metadata": {},
     "output_type": "display_data"
    }
   ],
   "source": [
    "print(\"Apply log transforms to notebook\")\n",
    "display(button_rerun)"
   ]
  },
  {
   "cell_type": "markdown",
   "metadata": {},
   "source": [
    "## 2.3 Discretization\n",
    "In some cases, it may be beneficial to bin numerical values. This can be achieved in the following section. Binning will add columns with an appended *_bin* label."
   ]
  },
  {
   "cell_type": "code",
   "execution_count": 189,
   "metadata": {},
   "outputs": [
    {
     "data": {
      "application/vnd.jupyter.widget-view+json": {
       "model_id": "1ae2d7d4ebc84d3c9e8722f0a9e329cf",
       "version_major": 2,
       "version_minor": 0
      },
      "text/plain": [
       "Dropdown(description='Feature:', options=('Id', 'MSSubClass', 'LotFrontage', 'LotArea', 'OverallQual', 'Overal…"
      ]
     },
     "metadata": {},
     "output_type": "display_data"
    },
    {
     "data": {
      "application/vnd.jupyter.widget-view+json": {
       "model_id": "75023cc9309140b7b530dd98af3708bf",
       "version_major": 2,
       "version_minor": 0
      },
      "text/plain": [
       "IntSlider(value=4, description='Number of Bins', min=2)"
      ]
     },
     "metadata": {},
     "output_type": "display_data"
    },
    {
     "data": {
      "application/vnd.jupyter.widget-view+json": {
       "model_id": "7fdd9583cafd44149f4b07ab460d5738",
       "version_major": 2,
       "version_minor": 0
      },
      "text/plain": [
       "Button(description='Apply Discretization', style=ButtonStyle())"
      ]
     },
     "metadata": {},
     "output_type": "display_data"
    },
    {
     "data": {
      "application/vnd.jupyter.widget-view+json": {
       "model_id": "aad1d800d2d643f28887a92c31bfa98d",
       "version_major": 2,
       "version_minor": 0
      },
      "text/plain": [
       "Output()"
      ]
     },
     "metadata": {},
     "output_type": "display_data"
    }
   ],
   "source": [
    "df_binned = copy.deepcopy(df_xform)\n",
    "conf_dict['CategoricalColumns'] = copy.deepcopy(conf_dict['OriginalCategoricalColumns'])\n",
    "\n",
    "# Prep a clean-sheet output to reflect transforms being applied\n",
    "out_disc = Output()\n",
    "with out_disc:\n",
    "        clear_output()\n",
    "\n",
    "# Define a multiple-select list to select columns for transformation\n",
    "feature_list = widgets.Dropdown(\n",
    "    options=conf_dict['NumericalColumns'],\n",
    "    description='Feature:'\n",
    ")\n",
    "\n",
    "bincount = widgets.IntSlider(\n",
    "    min=2, max=100,\n",
    "    step=1, value=4,\n",
    "    description='Number of Bins')\n",
    "\n",
    "display(feature_list)\n",
    "display(bincount)\n",
    "\n",
    "\n",
    "\n",
    "# Pre-allocate dict to log transformations\n",
    "bin_transforms = {}\n",
    "\n",
    "# And a button to execute the transform\n",
    "def apply_bin(ev):\n",
    "    # Create new feature\n",
    "    feature = feature_list.value\n",
    "    new_feature = feature + '_bin'\n",
    "    # Create the binned feature\n",
    "    df_binned[new_feature] = pd.qcut(df_binned[feature], bincount.value, duplicates = 'drop')\n",
    "    # Add the feature \n",
    "    conf_dict['CategoricalColumns'].append(new_feature)\n",
    "    with out_disc: \n",
    "        print(\"Generated binned version of \" + feature + \": \" + new_feature)\n",
    "    # Update the log\n",
    "    bin_transforms.update({new_feature: {'bin_count': bincount.value, 'source_feature': feature}})\n",
    "            \n",
    "\n",
    "\n",
    "button_bin = widgets.Button(description=\"Apply Discretization\")\n",
    "button_bin.on_click(apply_bin)\n",
    "display(button_bin)\n",
    "\n",
    "display(out_disc)"
   ]
  },
  {
   "cell_type": "code",
   "execution_count": 190,
   "metadata": {},
   "outputs": [
    {
     "name": "stdout",
     "output_type": "stream",
     "text": [
      "Apply binning to notebook\n"
     ]
    },
    {
     "data": {
      "application/vnd.jupyter.widget-view+json": {
       "model_id": "914ab880c0d54264ace1f80e5b519d85",
       "version_major": 2,
       "version_minor": 0
      },
      "text/plain": [
       "Button(description='Apply', style=ButtonStyle())"
      ]
     },
     "metadata": {},
     "output_type": "display_data"
    }
   ],
   "source": [
    "print(\"Apply binning to notebook\")\n",
    "display(button_rerun)"
   ]
  },
  {
   "cell_type": "markdown",
   "metadata": {},
   "source": [
    "## 2.4 Export Transformations\n",
    "\n",
    "The transformations specified in the sub-sections of section 2 are automatically exported to a YAML file for reproducibility. See \"transformation_logs.yaml\" in your working directory for a record of transformations."
   ]
  },
  {
   "cell_type": "code",
   "execution_count": 191,
   "metadata": {},
   "outputs": [
    {
     "name": "stdout",
     "output_type": "stream",
     "text": [
      "Exported transformation log to ./transformation_logs.yaml\n",
      "\n",
      "=========================== \n",
      "Transformation Log: \n",
      "{}\n"
     ]
    }
   ],
   "source": [
    "transforms = {}\n",
    "\n",
    "\n",
    "# Grab filters from the qgrid section\n",
    "filter_definition = qgrid_widget.get_state()\n",
    "\n",
    "\n",
    "for feature in filter_definition['_columns']:\n",
    "    exp_feature = filter_definition['_columns'][feature]\n",
    "    \n",
    "    # Look for filtering flag for the feature\n",
    "    if 'filter_info' in exp_feature:\n",
    "        filter_info = exp_feature['filter_info']\n",
    "        \n",
    "        # Parse categorical feature filter\n",
    "        if filter_info['type'] == 'text':\n",
    "            values = exp_feature['values']\n",
    "            # When exclude is empty, only include the included values\n",
    "            if len(filter_info['excluded']) == 0:\n",
    "                include_values = [values[i] for i in filter_info['selected']]\n",
    "                transforms.update({feature: {'filter': {'type': 'categorical', 'filter_values': include_values}}})\n",
    "                \n",
    "            else:\n",
    "                include_values = [values[i] for i in list(range(len(values))) if i not in filter_info['excluded']]\n",
    "                transforms.update({feature: {'filter': {'type': 'categorical', 'filter_values': include_values}}})\n",
    "            \n",
    "        # Parse numerical feature filter\n",
    "        if filter_info['type'] == 'slider':\n",
    "            min_value = filter_info['min']\n",
    "            max_value = filter_info['max']\n",
    "            num_range = [filter_info['min'], filter_info['max']]\n",
    "            transforms.update({feature: {'filter': {'type': 'numerical', 'filter_range': num_range}}})\n",
    "            \n",
    "            \n",
    "            \n",
    "# Get log transforms\n",
    "for i in log_transforms:\n",
    "    if i in transforms:\n",
    "        transforms[i].update({'log': log_transforms[i]})\n",
    "    else:\n",
    "        transforms.update({i:{'log': log_transforms[i]}})\n",
    "\n",
    "\n",
    "\n",
    "# Get binning transforms\n",
    "for i in bin_transforms:\n",
    "    if i in transforms:\n",
    "        transforms[i].update({'discretize': bin_transforms[i]})\n",
    "    else:\n",
    "        transforms.update({i:{'discretize': bin_transforms[i]}})\n",
    "\n",
    "\n",
    "# Sort by keys\n",
    "transforms = dict(collections.OrderedDict(sorted(transforms.items())))\n",
    "\n",
    "# Save transformations to yaml\n",
    "with open('transformation_logs.yaml', 'w') as outfile:\n",
    "    yaml.dump(transforms, outfile, default_flow_style=False)\n",
    "    \n",
    "print(\"Exported transformation log to ./transformation_logs.yaml\")\n",
    "print(\"\\n=========================== \\nTransformation Log: \")\n",
    "print(transforms)"
   ]
  },
  {
   "cell_type": "markdown",
   "metadata": {},
   "source": [
    "---------------------------------------\n",
    "\n",
    "# 3.0 Summaries"
   ]
  },
  {
   "cell_type": "code",
   "execution_count": 192,
   "metadata": {
    "scrolled": false
   },
   "outputs": [
    {
     "data": {
      "text/html": [
       "<ul><li>Numerical Columns are Id, \n",
       "MSSubClass, \n",
       "LotFrontage, \n",
       "LotArea, \n",
       "OverallQual, \n",
       "OverallCond, \n",
       "YearBuilt, \n",
       "YearRemodAdd, \n",
       "MasVnrArea, \n",
       "BsmtFinSF1, \n",
       "BsmtFinSF2, \n",
       "BsmtUnfSF, \n",
       "TotalBsmtSF, \n",
       "1stFlrSF, \n",
       "2ndFlrSF, \n",
       "LowQualFinSF, \n",
       "GrLivArea, \n",
       "BsmtFullBath, \n",
       "BsmtHalfBath, \n",
       "FullBath, \n",
       "HalfBath, \n",
       "BedroomAbvGr, \n",
       "KitchenAbvGr, \n",
       "TotRmsAbvGrd, \n",
       "Fireplaces, \n",
       "GarageYrBlt, \n",
       "GarageCars, \n",
       "GarageArea, \n",
       "WoodDeckSF, \n",
       "OpenPorchSF, \n",
       "EnclosedPorch, \n",
       "3SsnPorch, \n",
       "ScreenPorch, \n",
       "PoolArea, \n",
       "MiscVal, \n",
       "MoSold, \n",
       "YrSold, \n",
       "SalePrice</li><li>Categorical Columns are Utilities, \n",
       "Street, \n",
       "SaleType, \n",
       "SaleCondition, \n",
       "RoofStyle, \n",
       "RoofMatl, \n",
       "PoolQC, \n",
       "PavedDrive, \n",
       "Neighborhood, \n",
       "MiscFeature, \n",
       "MasVnrType, \n",
       "MSZoning, \n",
       "LotShape, \n",
       "LotConfig, \n",
       "LandSlope, \n",
       "LandContour, \n",
       "KitchenQual, \n",
       "HouseStyle, \n",
       "HeatingQC, \n",
       "Heating, \n",
       "GarageType, \n",
       "GarageQual, \n",
       "GarageFinish, \n",
       "GarageCond, \n",
       "Functional, \n",
       "Foundation, \n",
       "FireplaceQu, \n",
       "Fence, \n",
       "Exterior2nd, \n",
       "Exterior1st, \n",
       "ExterQual, \n",
       "ExterCond, \n",
       "Electrical, \n",
       "Condition2, \n",
       "Condition1, \n",
       "CentralAir, \n",
       "BsmtQual, \n",
       "BsmtFinType2, \n",
       "BsmtFinType1, \n",
       "BsmtExposure, \n",
       "BsmtCond, \n",
       "BldgType, \n",
       "Alley</li><li>Target variable is SalePrice</li></ul>"
      ],
      "text/plain": [
       "<IPython.core.display.HTML object>"
      ]
     },
     "execution_count": 192,
     "metadata": {},
     "output_type": "execute_result"
    }
   ],
   "source": [
    "# Sampling Data if data size is larger than 10k\n",
    "df0 = df_binned # df0 is the unsampled data. Will be used in data exploration and analysis where sampling is not needed\n",
    "         # However, keep in mind that your final report will always be based on the sampled data. \n",
    "    \n",
    "\n",
    "if Sample_Size < df_binned.shape[0]:\n",
    "    df = df_binned.sample(Sample_Size)\n",
    "else:\n",
    "    df = df_binned\n",
    "\n",
    "# change float data types\n",
    "if 'FloatDataTypes' in conf_dict:   \n",
    "    for col_name in conf_dict['FloatDataTypes']:\n",
    "        df[col_name] = df[col_name].astype(float)      \n",
    "        \n",
    "# Getting the list of categorical columns if it was not there in the yaml file\n",
    "if 'CategoricalColumns' not in conf_dict:\n",
    "    conf_dict['CategoricalColumns'] = list(set(list(df.select_dtypes(exclude=[np.number]).columns)))\n",
    "\n",
    "# Getting the list of numerical columns if it was not there in the yaml file\n",
    "if 'NumericalColumns' not in conf_dict:\n",
    "    conf_dict['NumericalColumns'] = list(df.select_dtypes(include=[np.number]).columns)    \n",
    "\n",
    "# Exclude columns that we do not need\n",
    "if 'ColumnsToExclude' in conf_dict:\n",
    "    conf_dict['CategoricalColumns'] = list(set(conf_dict['CategoricalColumns'])-set(conf_dict['ColumnsToExclude']))\n",
    "    conf_dict['NumericalColumns'] = list(set(conf_dict['NumericalColumns'])-set(conf_dict['ColumnsToExclude']))\n",
    "\n",
    "# Ordering the categorical variables according to the number of unique categories\n",
    "filtered_cat_columns = []\n",
    "temp_dict = {}\n",
    "for cat_var in conf_dict['CategoricalColumns']:\n",
    "    temp_dict[cat_var] = len(np.unique(df[cat_var].dropna()))\n",
    "sorted_x = sorted(temp_dict.items(), key=operator.itemgetter(0), reverse=True)\n",
    "conf_dict['CategoricalColumns'] = [x for (x,y) in sorted_x]\n",
    "\n",
    "ConfUtility.dict_to_htmllist(conf_dict,['Target','CategoricalColumns','NumericalColumns'])"
   ]
  },
  {
   "cell_type": "markdown",
   "metadata": {
    "collapsed": true
   },
   "source": [
    "## 3.1 Review Post-Processed Data"
   ]
  },
  {
   "cell_type": "code",
   "execution_count": 193,
   "metadata": {
    "scrolled": false
   },
   "outputs": [
    {
     "data": {
      "application/vnd.jupyter.widget-view+json": {
       "model_id": "216b2981101c4966ba343ba79cc168c3",
       "version_major": 2,
       "version_minor": 0
      },
      "text/plain": [
       "QgridWidget(grid_options={'fullWidthRows': True, 'syncColumnCellResize': True, 'forceFitColumns': False, 'defa…"
      ]
     },
     "metadata": {},
     "output_type": "display_data"
    }
   ],
   "source": [
    "qgrid_widget_postproc = qgrid.show_grid(df0, grid_options = {'filterable':False, 'forceFitColumns': False}, show_toolbar = False)\n",
    "qgrid_widget_postproc"
   ]
  },
  {
   "cell_type": "markdown",
   "metadata": {
    "collapsed": true
   },
   "source": [
    "## 3.2 Dimensions"
   ]
  },
  {
   "cell_type": "code",
   "execution_count": 194,
   "metadata": {
    "scrolled": false
   },
   "outputs": [
    {
     "name": "stdout",
     "output_type": "stream",
     "text": [
      "The data has 1460 Rows and 81 columns\n"
     ]
    }
   ],
   "source": [
    "print ('The data has {} Rows and {} columns'.format(df0.shape[0],df0.shape[1]))"
   ]
  },
  {
   "cell_type": "markdown",
   "metadata": {
    "collapsed": true
   },
   "source": [
    "## 3.3 Print the column types"
   ]
  },
  {
   "cell_type": "code",
   "execution_count": 195,
   "metadata": {
    "scrolled": false
   },
   "outputs": [
    {
     "name": "stdout",
     "output_type": "stream",
     "text": [
      "The types of columns are:\n"
     ]
    },
    {
     "data": {
      "text/plain": [
       "HouseStyle       object\n",
       "LotArea           int64\n",
       "YearRemodAdd      int64\n",
       "Foundation       object\n",
       "ExterCond        object\n",
       "BsmtUnfSF         int64\n",
       "1stFlrSF          int64\n",
       "PoolArea          int64\n",
       "MiscVal           int64\n",
       "BsmtExposure     object\n",
       "GarageFinish     object\n",
       "GarageCond       object\n",
       "GarageArea        int64\n",
       "WoodDeckSF        int64\n",
       "Condition1       object\n",
       "Electrical       object\n",
       "Utilities        object\n",
       "GarageQual       object\n",
       "BsmtFullBath      int64\n",
       "MoSold            int64\n",
       "BldgType         object\n",
       "KitchenQual      object\n",
       "LotShape         object\n",
       "Fence            object\n",
       "BsmtFinSF1        int64\n",
       "GarageCars        int64\n",
       "TotRmsAbvGrd      int64\n",
       "MSZoning         object\n",
       "CentralAir       object\n",
       "SalePrice         int64\n",
       "                 ...   \n",
       "RoofMatl         object\n",
       "LotFrontage     float64\n",
       "HalfBath          int64\n",
       "MasVnrArea      float64\n",
       "Fireplaces        int64\n",
       "FullBath          int64\n",
       "YearBuilt         int64\n",
       "BsmtCond         object\n",
       "KitchenAbvGr      int64\n",
       "BsmtFinSF2        int64\n",
       "LotConfig        object\n",
       "HeatingQC        object\n",
       "Exterior2nd      object\n",
       "Id                int64\n",
       "YrSold            int64\n",
       "BsmtFinType2     object\n",
       "GarageType       object\n",
       "GarageYrBlt     float64\n",
       "Alley            object\n",
       "TotalBsmtSF       int64\n",
       "OpenPorchSF       int64\n",
       "MasVnrType       object\n",
       "RoofStyle        object\n",
       "OverallQual       int64\n",
       "LandSlope        object\n",
       "OverallCond       int64\n",
       "3SsnPorch         int64\n",
       "ScreenPorch       int64\n",
       "SaleType         object\n",
       "Exterior1st      object\n",
       "Length: 81, dtype: object"
      ]
     },
     "execution_count": 195,
     "metadata": {},
     "output_type": "execute_result"
    }
   ],
   "source": [
    "print(\"The types of columns are:\")\n",
    "df.dtypes"
   ]
  },
  {
   "cell_type": "markdown",
   "metadata": {
    "collapsed": true
   },
   "source": [
    "##  3.4 Extract Descriptive Statistics of Each Column"
   ]
  },
  {
   "cell_type": "code",
   "execution_count": 196,
   "metadata": {
    "scrolled": false
   },
   "outputs": [],
   "source": [
    "def num_missing(x):\n",
    "    return len(x.index)-x.count()\n",
    "\n",
    "def num_unique(x):\n",
    "    return len(np.unique(x.dropna()))\n",
    "\n",
    "\n",
    "temp_df = df0.describe().T\n",
    "\n",
    "sum_df = pd.DataFrame(df0.sum(numeric_only = True))\n",
    "sum_df.columns = ['sum']\n",
    "\n",
    "missing_df = pd.DataFrame(df0.apply(num_missing, axis=0)) \n",
    "missing_df.columns = ['missing']\n",
    "\n",
    "unq_df = pd.DataFrame(df0.apply(num_unique, axis=0))\n",
    "unq_df.columns = ['unique']\n",
    "\n",
    "types_df = pd.DataFrame(df0.dtypes)\n",
    "types_df.columns = ['DataType']"
   ]
  },
  {
   "cell_type": "markdown",
   "metadata": {
    "collapsed": true
   },
   "source": [
    "### 3.4.1 Numerical Columns:"
   ]
  },
  {
   "cell_type": "code",
   "execution_count": 197,
   "metadata": {
    "scrolled": false
   },
   "outputs": [
    {
     "data": {
      "text/html": [
       "<div>\n",
       "<style scoped>\n",
       "    .dataframe tbody tr th:only-of-type {\n",
       "        vertical-align: middle;\n",
       "    }\n",
       "\n",
       "    .dataframe tbody tr th {\n",
       "        vertical-align: top;\n",
       "    }\n",
       "\n",
       "    .dataframe thead th {\n",
       "        text-align: right;\n",
       "    }\n",
       "</style>\n",
       "<table border=\"1\" class=\"dataframe\">\n",
       "  <thead>\n",
       "    <tr style=\"text-align: right;\">\n",
       "      <th></th>\n",
       "      <th>count</th>\n",
       "      <th>mean</th>\n",
       "      <th>std</th>\n",
       "      <th>min</th>\n",
       "      <th>25%</th>\n",
       "      <th>50%</th>\n",
       "      <th>75%</th>\n",
       "      <th>max</th>\n",
       "      <th>sum</th>\n",
       "      <th>missing</th>\n",
       "      <th>unique</th>\n",
       "      <th>DataType</th>\n",
       "    </tr>\n",
       "  </thead>\n",
       "  <tbody>\n",
       "    <tr>\n",
       "      <th>LotArea</th>\n",
       "      <td>1460.0</td>\n",
       "      <td>10516.828082</td>\n",
       "      <td>9981.264932</td>\n",
       "      <td>1300.0</td>\n",
       "      <td>7553.50</td>\n",
       "      <td>9478.5</td>\n",
       "      <td>11601.50</td>\n",
       "      <td>215245.0</td>\n",
       "      <td>15354569.0</td>\n",
       "      <td>0</td>\n",
       "      <td>1073</td>\n",
       "      <td>int64</td>\n",
       "    </tr>\n",
       "    <tr>\n",
       "      <th>YearRemodAdd</th>\n",
       "      <td>1460.0</td>\n",
       "      <td>1984.865753</td>\n",
       "      <td>20.645407</td>\n",
       "      <td>1950.0</td>\n",
       "      <td>1967.00</td>\n",
       "      <td>1994.0</td>\n",
       "      <td>2004.00</td>\n",
       "      <td>2010.0</td>\n",
       "      <td>2897904.0</td>\n",
       "      <td>0</td>\n",
       "      <td>61</td>\n",
       "      <td>int64</td>\n",
       "    </tr>\n",
       "    <tr>\n",
       "      <th>BsmtUnfSF</th>\n",
       "      <td>1460.0</td>\n",
       "      <td>567.240411</td>\n",
       "      <td>441.866955</td>\n",
       "      <td>0.0</td>\n",
       "      <td>223.00</td>\n",
       "      <td>477.5</td>\n",
       "      <td>808.00</td>\n",
       "      <td>2336.0</td>\n",
       "      <td>828171.0</td>\n",
       "      <td>0</td>\n",
       "      <td>780</td>\n",
       "      <td>int64</td>\n",
       "    </tr>\n",
       "    <tr>\n",
       "      <th>1stFlrSF</th>\n",
       "      <td>1460.0</td>\n",
       "      <td>1162.626712</td>\n",
       "      <td>386.587738</td>\n",
       "      <td>334.0</td>\n",
       "      <td>882.00</td>\n",
       "      <td>1087.0</td>\n",
       "      <td>1391.25</td>\n",
       "      <td>4692.0</td>\n",
       "      <td>1697435.0</td>\n",
       "      <td>0</td>\n",
       "      <td>753</td>\n",
       "      <td>int64</td>\n",
       "    </tr>\n",
       "    <tr>\n",
       "      <th>PoolArea</th>\n",
       "      <td>1460.0</td>\n",
       "      <td>2.758904</td>\n",
       "      <td>40.177307</td>\n",
       "      <td>0.0</td>\n",
       "      <td>0.00</td>\n",
       "      <td>0.0</td>\n",
       "      <td>0.00</td>\n",
       "      <td>738.0</td>\n",
       "      <td>4028.0</td>\n",
       "      <td>0</td>\n",
       "      <td>8</td>\n",
       "      <td>int64</td>\n",
       "    </tr>\n",
       "    <tr>\n",
       "      <th>MiscVal</th>\n",
       "      <td>1460.0</td>\n",
       "      <td>43.489041</td>\n",
       "      <td>496.123024</td>\n",
       "      <td>0.0</td>\n",
       "      <td>0.00</td>\n",
       "      <td>0.0</td>\n",
       "      <td>0.00</td>\n",
       "      <td>15500.0</td>\n",
       "      <td>63494.0</td>\n",
       "      <td>0</td>\n",
       "      <td>21</td>\n",
       "      <td>int64</td>\n",
       "    </tr>\n",
       "    <tr>\n",
       "      <th>GarageArea</th>\n",
       "      <td>1460.0</td>\n",
       "      <td>472.980137</td>\n",
       "      <td>213.804841</td>\n",
       "      <td>0.0</td>\n",
       "      <td>334.50</td>\n",
       "      <td>480.0</td>\n",
       "      <td>576.00</td>\n",
       "      <td>1418.0</td>\n",
       "      <td>690551.0</td>\n",
       "      <td>0</td>\n",
       "      <td>441</td>\n",
       "      <td>int64</td>\n",
       "    </tr>\n",
       "    <tr>\n",
       "      <th>WoodDeckSF</th>\n",
       "      <td>1460.0</td>\n",
       "      <td>94.244521</td>\n",
       "      <td>125.338794</td>\n",
       "      <td>0.0</td>\n",
       "      <td>0.00</td>\n",
       "      <td>0.0</td>\n",
       "      <td>168.00</td>\n",
       "      <td>857.0</td>\n",
       "      <td>137597.0</td>\n",
       "      <td>0</td>\n",
       "      <td>274</td>\n",
       "      <td>int64</td>\n",
       "    </tr>\n",
       "    <tr>\n",
       "      <th>BsmtFullBath</th>\n",
       "      <td>1460.0</td>\n",
       "      <td>0.425342</td>\n",
       "      <td>0.518911</td>\n",
       "      <td>0.0</td>\n",
       "      <td>0.00</td>\n",
       "      <td>0.0</td>\n",
       "      <td>1.00</td>\n",
       "      <td>3.0</td>\n",
       "      <td>621.0</td>\n",
       "      <td>0</td>\n",
       "      <td>4</td>\n",
       "      <td>int64</td>\n",
       "    </tr>\n",
       "    <tr>\n",
       "      <th>MoSold</th>\n",
       "      <td>1460.0</td>\n",
       "      <td>6.321918</td>\n",
       "      <td>2.703626</td>\n",
       "      <td>1.0</td>\n",
       "      <td>5.00</td>\n",
       "      <td>6.0</td>\n",
       "      <td>8.00</td>\n",
       "      <td>12.0</td>\n",
       "      <td>9230.0</td>\n",
       "      <td>0</td>\n",
       "      <td>12</td>\n",
       "      <td>int64</td>\n",
       "    </tr>\n",
       "    <tr>\n",
       "      <th>BsmtFinSF1</th>\n",
       "      <td>1460.0</td>\n",
       "      <td>443.639726</td>\n",
       "      <td>456.098091</td>\n",
       "      <td>0.0</td>\n",
       "      <td>0.00</td>\n",
       "      <td>383.5</td>\n",
       "      <td>712.25</td>\n",
       "      <td>5644.0</td>\n",
       "      <td>647714.0</td>\n",
       "      <td>0</td>\n",
       "      <td>637</td>\n",
       "      <td>int64</td>\n",
       "    </tr>\n",
       "    <tr>\n",
       "      <th>GarageCars</th>\n",
       "      <td>1460.0</td>\n",
       "      <td>1.767123</td>\n",
       "      <td>0.747315</td>\n",
       "      <td>0.0</td>\n",
       "      <td>1.00</td>\n",
       "      <td>2.0</td>\n",
       "      <td>2.00</td>\n",
       "      <td>4.0</td>\n",
       "      <td>2580.0</td>\n",
       "      <td>0</td>\n",
       "      <td>5</td>\n",
       "      <td>int64</td>\n",
       "    </tr>\n",
       "    <tr>\n",
       "      <th>TotRmsAbvGrd</th>\n",
       "      <td>1460.0</td>\n",
       "      <td>6.517808</td>\n",
       "      <td>1.625393</td>\n",
       "      <td>2.0</td>\n",
       "      <td>5.00</td>\n",
       "      <td>6.0</td>\n",
       "      <td>7.00</td>\n",
       "      <td>14.0</td>\n",
       "      <td>9516.0</td>\n",
       "      <td>0</td>\n",
       "      <td>12</td>\n",
       "      <td>int64</td>\n",
       "    </tr>\n",
       "    <tr>\n",
       "      <th>SalePrice</th>\n",
       "      <td>1460.0</td>\n",
       "      <td>180921.195890</td>\n",
       "      <td>79442.502883</td>\n",
       "      <td>34900.0</td>\n",
       "      <td>129975.00</td>\n",
       "      <td>163000.0</td>\n",
       "      <td>214000.00</td>\n",
       "      <td>755000.0</td>\n",
       "      <td>264144946.0</td>\n",
       "      <td>0</td>\n",
       "      <td>663</td>\n",
       "      <td>int64</td>\n",
       "    </tr>\n",
       "    <tr>\n",
       "      <th>LowQualFinSF</th>\n",
       "      <td>1460.0</td>\n",
       "      <td>5.844521</td>\n",
       "      <td>48.623081</td>\n",
       "      <td>0.0</td>\n",
       "      <td>0.00</td>\n",
       "      <td>0.0</td>\n",
       "      <td>0.00</td>\n",
       "      <td>572.0</td>\n",
       "      <td>8533.0</td>\n",
       "      <td>0</td>\n",
       "      <td>24</td>\n",
       "      <td>int64</td>\n",
       "    </tr>\n",
       "    <tr>\n",
       "      <th>MSSubClass</th>\n",
       "      <td>1460.0</td>\n",
       "      <td>56.897260</td>\n",
       "      <td>42.300571</td>\n",
       "      <td>20.0</td>\n",
       "      <td>20.00</td>\n",
       "      <td>50.0</td>\n",
       "      <td>70.00</td>\n",
       "      <td>190.0</td>\n",
       "      <td>83070.0</td>\n",
       "      <td>0</td>\n",
       "      <td>15</td>\n",
       "      <td>int64</td>\n",
       "    </tr>\n",
       "    <tr>\n",
       "      <th>GrLivArea</th>\n",
       "      <td>1460.0</td>\n",
       "      <td>1515.463699</td>\n",
       "      <td>525.480383</td>\n",
       "      <td>334.0</td>\n",
       "      <td>1129.50</td>\n",
       "      <td>1464.0</td>\n",
       "      <td>1776.75</td>\n",
       "      <td>5642.0</td>\n",
       "      <td>2212577.0</td>\n",
       "      <td>0</td>\n",
       "      <td>861</td>\n",
       "      <td>int64</td>\n",
       "    </tr>\n",
       "    <tr>\n",
       "      <th>BedroomAbvGr</th>\n",
       "      <td>1460.0</td>\n",
       "      <td>2.866438</td>\n",
       "      <td>0.815778</td>\n",
       "      <td>0.0</td>\n",
       "      <td>2.00</td>\n",
       "      <td>3.0</td>\n",
       "      <td>3.00</td>\n",
       "      <td>8.0</td>\n",
       "      <td>4185.0</td>\n",
       "      <td>0</td>\n",
       "      <td>8</td>\n",
       "      <td>int64</td>\n",
       "    </tr>\n",
       "    <tr>\n",
       "      <th>EnclosedPorch</th>\n",
       "      <td>1460.0</td>\n",
       "      <td>21.954110</td>\n",
       "      <td>61.119149</td>\n",
       "      <td>0.0</td>\n",
       "      <td>0.00</td>\n",
       "      <td>0.0</td>\n",
       "      <td>0.00</td>\n",
       "      <td>552.0</td>\n",
       "      <td>32053.0</td>\n",
       "      <td>0</td>\n",
       "      <td>120</td>\n",
       "      <td>int64</td>\n",
       "    </tr>\n",
       "    <tr>\n",
       "      <th>2ndFlrSF</th>\n",
       "      <td>1460.0</td>\n",
       "      <td>346.992466</td>\n",
       "      <td>436.528436</td>\n",
       "      <td>0.0</td>\n",
       "      <td>0.00</td>\n",
       "      <td>0.0</td>\n",
       "      <td>728.00</td>\n",
       "      <td>2065.0</td>\n",
       "      <td>506609.0</td>\n",
       "      <td>0</td>\n",
       "      <td>417</td>\n",
       "      <td>int64</td>\n",
       "    </tr>\n",
       "    <tr>\n",
       "      <th>BsmtHalfBath</th>\n",
       "      <td>1460.0</td>\n",
       "      <td>0.057534</td>\n",
       "      <td>0.238753</td>\n",
       "      <td>0.0</td>\n",
       "      <td>0.00</td>\n",
       "      <td>0.0</td>\n",
       "      <td>0.00</td>\n",
       "      <td>2.0</td>\n",
       "      <td>84.0</td>\n",
       "      <td>0</td>\n",
       "      <td>3</td>\n",
       "      <td>int64</td>\n",
       "    </tr>\n",
       "    <tr>\n",
       "      <th>LotFrontage</th>\n",
       "      <td>1201.0</td>\n",
       "      <td>70.049958</td>\n",
       "      <td>24.284752</td>\n",
       "      <td>21.0</td>\n",
       "      <td>59.00</td>\n",
       "      <td>69.0</td>\n",
       "      <td>80.00</td>\n",
       "      <td>313.0</td>\n",
       "      <td>84130.0</td>\n",
       "      <td>259</td>\n",
       "      <td>110</td>\n",
       "      <td>float64</td>\n",
       "    </tr>\n",
       "    <tr>\n",
       "      <th>HalfBath</th>\n",
       "      <td>1460.0</td>\n",
       "      <td>0.382877</td>\n",
       "      <td>0.502885</td>\n",
       "      <td>0.0</td>\n",
       "      <td>0.00</td>\n",
       "      <td>0.0</td>\n",
       "      <td>1.00</td>\n",
       "      <td>2.0</td>\n",
       "      <td>559.0</td>\n",
       "      <td>0</td>\n",
       "      <td>3</td>\n",
       "      <td>int64</td>\n",
       "    </tr>\n",
       "    <tr>\n",
       "      <th>MasVnrArea</th>\n",
       "      <td>1452.0</td>\n",
       "      <td>103.685262</td>\n",
       "      <td>181.066207</td>\n",
       "      <td>0.0</td>\n",
       "      <td>0.00</td>\n",
       "      <td>0.0</td>\n",
       "      <td>166.00</td>\n",
       "      <td>1600.0</td>\n",
       "      <td>150551.0</td>\n",
       "      <td>8</td>\n",
       "      <td>327</td>\n",
       "      <td>float64</td>\n",
       "    </tr>\n",
       "    <tr>\n",
       "      <th>Fireplaces</th>\n",
       "      <td>1460.0</td>\n",
       "      <td>0.613014</td>\n",
       "      <td>0.644666</td>\n",
       "      <td>0.0</td>\n",
       "      <td>0.00</td>\n",
       "      <td>1.0</td>\n",
       "      <td>1.00</td>\n",
       "      <td>3.0</td>\n",
       "      <td>895.0</td>\n",
       "      <td>0</td>\n",
       "      <td>4</td>\n",
       "      <td>int64</td>\n",
       "    </tr>\n",
       "    <tr>\n",
       "      <th>FullBath</th>\n",
       "      <td>1460.0</td>\n",
       "      <td>1.565068</td>\n",
       "      <td>0.550916</td>\n",
       "      <td>0.0</td>\n",
       "      <td>1.00</td>\n",
       "      <td>2.0</td>\n",
       "      <td>2.00</td>\n",
       "      <td>3.0</td>\n",
       "      <td>2285.0</td>\n",
       "      <td>0</td>\n",
       "      <td>4</td>\n",
       "      <td>int64</td>\n",
       "    </tr>\n",
       "    <tr>\n",
       "      <th>YearBuilt</th>\n",
       "      <td>1460.0</td>\n",
       "      <td>1971.267808</td>\n",
       "      <td>30.202904</td>\n",
       "      <td>1872.0</td>\n",
       "      <td>1954.00</td>\n",
       "      <td>1973.0</td>\n",
       "      <td>2000.00</td>\n",
       "      <td>2010.0</td>\n",
       "      <td>2878051.0</td>\n",
       "      <td>0</td>\n",
       "      <td>112</td>\n",
       "      <td>int64</td>\n",
       "    </tr>\n",
       "    <tr>\n",
       "      <th>KitchenAbvGr</th>\n",
       "      <td>1460.0</td>\n",
       "      <td>1.046575</td>\n",
       "      <td>0.220338</td>\n",
       "      <td>0.0</td>\n",
       "      <td>1.00</td>\n",
       "      <td>1.0</td>\n",
       "      <td>1.00</td>\n",
       "      <td>3.0</td>\n",
       "      <td>1528.0</td>\n",
       "      <td>0</td>\n",
       "      <td>4</td>\n",
       "      <td>int64</td>\n",
       "    </tr>\n",
       "    <tr>\n",
       "      <th>BsmtFinSF2</th>\n",
       "      <td>1460.0</td>\n",
       "      <td>46.549315</td>\n",
       "      <td>161.319273</td>\n",
       "      <td>0.0</td>\n",
       "      <td>0.00</td>\n",
       "      <td>0.0</td>\n",
       "      <td>0.00</td>\n",
       "      <td>1474.0</td>\n",
       "      <td>67962.0</td>\n",
       "      <td>0</td>\n",
       "      <td>144</td>\n",
       "      <td>int64</td>\n",
       "    </tr>\n",
       "    <tr>\n",
       "      <th>Id</th>\n",
       "      <td>1460.0</td>\n",
       "      <td>730.500000</td>\n",
       "      <td>421.610009</td>\n",
       "      <td>1.0</td>\n",
       "      <td>365.75</td>\n",
       "      <td>730.5</td>\n",
       "      <td>1095.25</td>\n",
       "      <td>1460.0</td>\n",
       "      <td>1066530.0</td>\n",
       "      <td>0</td>\n",
       "      <td>1460</td>\n",
       "      <td>int64</td>\n",
       "    </tr>\n",
       "    <tr>\n",
       "      <th>YrSold</th>\n",
       "      <td>1460.0</td>\n",
       "      <td>2007.815753</td>\n",
       "      <td>1.328095</td>\n",
       "      <td>2006.0</td>\n",
       "      <td>2007.00</td>\n",
       "      <td>2008.0</td>\n",
       "      <td>2009.00</td>\n",
       "      <td>2010.0</td>\n",
       "      <td>2931411.0</td>\n",
       "      <td>0</td>\n",
       "      <td>5</td>\n",
       "      <td>int64</td>\n",
       "    </tr>\n",
       "    <tr>\n",
       "      <th>GarageYrBlt</th>\n",
       "      <td>1379.0</td>\n",
       "      <td>1978.506164</td>\n",
       "      <td>24.689725</td>\n",
       "      <td>1900.0</td>\n",
       "      <td>1961.00</td>\n",
       "      <td>1980.0</td>\n",
       "      <td>2002.00</td>\n",
       "      <td>2010.0</td>\n",
       "      <td>2728360.0</td>\n",
       "      <td>81</td>\n",
       "      <td>97</td>\n",
       "      <td>float64</td>\n",
       "    </tr>\n",
       "    <tr>\n",
       "      <th>TotalBsmtSF</th>\n",
       "      <td>1460.0</td>\n",
       "      <td>1057.429452</td>\n",
       "      <td>438.705324</td>\n",
       "      <td>0.0</td>\n",
       "      <td>795.75</td>\n",
       "      <td>991.5</td>\n",
       "      <td>1298.25</td>\n",
       "      <td>6110.0</td>\n",
       "      <td>1543847.0</td>\n",
       "      <td>0</td>\n",
       "      <td>721</td>\n",
       "      <td>int64</td>\n",
       "    </tr>\n",
       "    <tr>\n",
       "      <th>OpenPorchSF</th>\n",
       "      <td>1460.0</td>\n",
       "      <td>46.660274</td>\n",
       "      <td>66.256028</td>\n",
       "      <td>0.0</td>\n",
       "      <td>0.00</td>\n",
       "      <td>25.0</td>\n",
       "      <td>68.00</td>\n",
       "      <td>547.0</td>\n",
       "      <td>68124.0</td>\n",
       "      <td>0</td>\n",
       "      <td>202</td>\n",
       "      <td>int64</td>\n",
       "    </tr>\n",
       "    <tr>\n",
       "      <th>OverallQual</th>\n",
       "      <td>1460.0</td>\n",
       "      <td>6.099315</td>\n",
       "      <td>1.382997</td>\n",
       "      <td>1.0</td>\n",
       "      <td>5.00</td>\n",
       "      <td>6.0</td>\n",
       "      <td>7.00</td>\n",
       "      <td>10.0</td>\n",
       "      <td>8905.0</td>\n",
       "      <td>0</td>\n",
       "      <td>10</td>\n",
       "      <td>int64</td>\n",
       "    </tr>\n",
       "    <tr>\n",
       "      <th>OverallCond</th>\n",
       "      <td>1460.0</td>\n",
       "      <td>5.575342</td>\n",
       "      <td>1.112799</td>\n",
       "      <td>1.0</td>\n",
       "      <td>5.00</td>\n",
       "      <td>5.0</td>\n",
       "      <td>6.00</td>\n",
       "      <td>9.0</td>\n",
       "      <td>8140.0</td>\n",
       "      <td>0</td>\n",
       "      <td>9</td>\n",
       "      <td>int64</td>\n",
       "    </tr>\n",
       "    <tr>\n",
       "      <th>3SsnPorch</th>\n",
       "      <td>1460.0</td>\n",
       "      <td>3.409589</td>\n",
       "      <td>29.317331</td>\n",
       "      <td>0.0</td>\n",
       "      <td>0.00</td>\n",
       "      <td>0.0</td>\n",
       "      <td>0.00</td>\n",
       "      <td>508.0</td>\n",
       "      <td>4978.0</td>\n",
       "      <td>0</td>\n",
       "      <td>20</td>\n",
       "      <td>int64</td>\n",
       "    </tr>\n",
       "    <tr>\n",
       "      <th>ScreenPorch</th>\n",
       "      <td>1460.0</td>\n",
       "      <td>15.060959</td>\n",
       "      <td>55.757415</td>\n",
       "      <td>0.0</td>\n",
       "      <td>0.00</td>\n",
       "      <td>0.0</td>\n",
       "      <td>0.00</td>\n",
       "      <td>480.0</td>\n",
       "      <td>21989.0</td>\n",
       "      <td>0</td>\n",
       "      <td>76</td>\n",
       "      <td>int64</td>\n",
       "    </tr>\n",
       "  </tbody>\n",
       "</table>\n",
       "</div>"
      ],
      "text/plain": [
       "                count           mean           std      min        25%  \\\n",
       "LotArea        1460.0   10516.828082   9981.264932   1300.0    7553.50   \n",
       "YearRemodAdd   1460.0    1984.865753     20.645407   1950.0    1967.00   \n",
       "BsmtUnfSF      1460.0     567.240411    441.866955      0.0     223.00   \n",
       "1stFlrSF       1460.0    1162.626712    386.587738    334.0     882.00   \n",
       "PoolArea       1460.0       2.758904     40.177307      0.0       0.00   \n",
       "MiscVal        1460.0      43.489041    496.123024      0.0       0.00   \n",
       "GarageArea     1460.0     472.980137    213.804841      0.0     334.50   \n",
       "WoodDeckSF     1460.0      94.244521    125.338794      0.0       0.00   \n",
       "BsmtFullBath   1460.0       0.425342      0.518911      0.0       0.00   \n",
       "MoSold         1460.0       6.321918      2.703626      1.0       5.00   \n",
       "BsmtFinSF1     1460.0     443.639726    456.098091      0.0       0.00   \n",
       "GarageCars     1460.0       1.767123      0.747315      0.0       1.00   \n",
       "TotRmsAbvGrd   1460.0       6.517808      1.625393      2.0       5.00   \n",
       "SalePrice      1460.0  180921.195890  79442.502883  34900.0  129975.00   \n",
       "LowQualFinSF   1460.0       5.844521     48.623081      0.0       0.00   \n",
       "MSSubClass     1460.0      56.897260     42.300571     20.0      20.00   \n",
       "GrLivArea      1460.0    1515.463699    525.480383    334.0    1129.50   \n",
       "BedroomAbvGr   1460.0       2.866438      0.815778      0.0       2.00   \n",
       "EnclosedPorch  1460.0      21.954110     61.119149      0.0       0.00   \n",
       "2ndFlrSF       1460.0     346.992466    436.528436      0.0       0.00   \n",
       "BsmtHalfBath   1460.0       0.057534      0.238753      0.0       0.00   \n",
       "LotFrontage    1201.0      70.049958     24.284752     21.0      59.00   \n",
       "HalfBath       1460.0       0.382877      0.502885      0.0       0.00   \n",
       "MasVnrArea     1452.0     103.685262    181.066207      0.0       0.00   \n",
       "Fireplaces     1460.0       0.613014      0.644666      0.0       0.00   \n",
       "FullBath       1460.0       1.565068      0.550916      0.0       1.00   \n",
       "YearBuilt      1460.0    1971.267808     30.202904   1872.0    1954.00   \n",
       "KitchenAbvGr   1460.0       1.046575      0.220338      0.0       1.00   \n",
       "BsmtFinSF2     1460.0      46.549315    161.319273      0.0       0.00   \n",
       "Id             1460.0     730.500000    421.610009      1.0     365.75   \n",
       "YrSold         1460.0    2007.815753      1.328095   2006.0    2007.00   \n",
       "GarageYrBlt    1379.0    1978.506164     24.689725   1900.0    1961.00   \n",
       "TotalBsmtSF    1460.0    1057.429452    438.705324      0.0     795.75   \n",
       "OpenPorchSF    1460.0      46.660274     66.256028      0.0       0.00   \n",
       "OverallQual    1460.0       6.099315      1.382997      1.0       5.00   \n",
       "OverallCond    1460.0       5.575342      1.112799      1.0       5.00   \n",
       "3SsnPorch      1460.0       3.409589     29.317331      0.0       0.00   \n",
       "ScreenPorch    1460.0      15.060959     55.757415      0.0       0.00   \n",
       "\n",
       "                    50%        75%       max          sum  missing  unique  \\\n",
       "LotArea          9478.5   11601.50  215245.0   15354569.0        0    1073   \n",
       "YearRemodAdd     1994.0    2004.00    2010.0    2897904.0        0      61   \n",
       "BsmtUnfSF         477.5     808.00    2336.0     828171.0        0     780   \n",
       "1stFlrSF         1087.0    1391.25    4692.0    1697435.0        0     753   \n",
       "PoolArea            0.0       0.00     738.0       4028.0        0       8   \n",
       "MiscVal             0.0       0.00   15500.0      63494.0        0      21   \n",
       "GarageArea        480.0     576.00    1418.0     690551.0        0     441   \n",
       "WoodDeckSF          0.0     168.00     857.0     137597.0        0     274   \n",
       "BsmtFullBath        0.0       1.00       3.0        621.0        0       4   \n",
       "MoSold              6.0       8.00      12.0       9230.0        0      12   \n",
       "BsmtFinSF1        383.5     712.25    5644.0     647714.0        0     637   \n",
       "GarageCars          2.0       2.00       4.0       2580.0        0       5   \n",
       "TotRmsAbvGrd        6.0       7.00      14.0       9516.0        0      12   \n",
       "SalePrice      163000.0  214000.00  755000.0  264144946.0        0     663   \n",
       "LowQualFinSF        0.0       0.00     572.0       8533.0        0      24   \n",
       "MSSubClass         50.0      70.00     190.0      83070.0        0      15   \n",
       "GrLivArea        1464.0    1776.75    5642.0    2212577.0        0     861   \n",
       "BedroomAbvGr        3.0       3.00       8.0       4185.0        0       8   \n",
       "EnclosedPorch       0.0       0.00     552.0      32053.0        0     120   \n",
       "2ndFlrSF            0.0     728.00    2065.0     506609.0        0     417   \n",
       "BsmtHalfBath        0.0       0.00       2.0         84.0        0       3   \n",
       "LotFrontage        69.0      80.00     313.0      84130.0      259     110   \n",
       "HalfBath            0.0       1.00       2.0        559.0        0       3   \n",
       "MasVnrArea          0.0     166.00    1600.0     150551.0        8     327   \n",
       "Fireplaces          1.0       1.00       3.0        895.0        0       4   \n",
       "FullBath            2.0       2.00       3.0       2285.0        0       4   \n",
       "YearBuilt        1973.0    2000.00    2010.0    2878051.0        0     112   \n",
       "KitchenAbvGr        1.0       1.00       3.0       1528.0        0       4   \n",
       "BsmtFinSF2          0.0       0.00    1474.0      67962.0        0     144   \n",
       "Id                730.5    1095.25    1460.0    1066530.0        0    1460   \n",
       "YrSold           2008.0    2009.00    2010.0    2931411.0        0       5   \n",
       "GarageYrBlt      1980.0    2002.00    2010.0    2728360.0       81      97   \n",
       "TotalBsmtSF       991.5    1298.25    6110.0    1543847.0        0     721   \n",
       "OpenPorchSF        25.0      68.00     547.0      68124.0        0     202   \n",
       "OverallQual         6.0       7.00      10.0       8905.0        0      10   \n",
       "OverallCond         5.0       6.00       9.0       8140.0        0       9   \n",
       "3SsnPorch           0.0       0.00     508.0       4978.0        0      20   \n",
       "ScreenPorch         0.0       0.00     480.0      21989.0        0      76   \n",
       "\n",
       "              DataType  \n",
       "LotArea          int64  \n",
       "YearRemodAdd     int64  \n",
       "BsmtUnfSF        int64  \n",
       "1stFlrSF         int64  \n",
       "PoolArea         int64  \n",
       "MiscVal          int64  \n",
       "GarageArea       int64  \n",
       "WoodDeckSF       int64  \n",
       "BsmtFullBath     int64  \n",
       "MoSold           int64  \n",
       "BsmtFinSF1       int64  \n",
       "GarageCars       int64  \n",
       "TotRmsAbvGrd     int64  \n",
       "SalePrice        int64  \n",
       "LowQualFinSF     int64  \n",
       "MSSubClass       int64  \n",
       "GrLivArea        int64  \n",
       "BedroomAbvGr     int64  \n",
       "EnclosedPorch    int64  \n",
       "2ndFlrSF         int64  \n",
       "BsmtHalfBath     int64  \n",
       "LotFrontage    float64  \n",
       "HalfBath         int64  \n",
       "MasVnrArea     float64  \n",
       "Fireplaces       int64  \n",
       "FullBath         int64  \n",
       "YearBuilt        int64  \n",
       "KitchenAbvGr     int64  \n",
       "BsmtFinSF2       int64  \n",
       "Id               int64  \n",
       "YrSold           int64  \n",
       "GarageYrBlt    float64  \n",
       "TotalBsmtSF      int64  \n",
       "OpenPorchSF      int64  \n",
       "OverallQual      int64  \n",
       "OverallCond      int64  \n",
       "3SsnPorch        int64  \n",
       "ScreenPorch      int64  "
      ]
     },
     "execution_count": 197,
     "metadata": {},
     "output_type": "execute_result"
    }
   ],
   "source": [
    "summary_df = temp_df.join(sum_df).join(missing_df).join(unq_df).join(types_df).drop_duplicates()\n",
    "summary_df"
   ]
  },
  {
   "cell_type": "markdown",
   "metadata": {
    "collapsed": true
   },
   "source": [
    "### 3.4.2 Categorical Columns:"
   ]
  },
  {
   "cell_type": "code",
   "execution_count": 198,
   "metadata": {
    "scrolled": false
   },
   "outputs": [
    {
     "data": {
      "text/html": [
       "<div>\n",
       "<style scoped>\n",
       "    .dataframe tbody tr th:only-of-type {\n",
       "        vertical-align: middle;\n",
       "    }\n",
       "\n",
       "    .dataframe tbody tr th {\n",
       "        vertical-align: top;\n",
       "    }\n",
       "\n",
       "    .dataframe thead th {\n",
       "        text-align: right;\n",
       "    }\n",
       "</style>\n",
       "<table border=\"1\" class=\"dataframe\">\n",
       "  <thead>\n",
       "    <tr style=\"text-align: right;\">\n",
       "      <th></th>\n",
       "      <th>missing</th>\n",
       "      <th>unique</th>\n",
       "      <th>DataType</th>\n",
       "    </tr>\n",
       "  </thead>\n",
       "  <tbody>\n",
       "    <tr>\n",
       "      <th>HouseStyle</th>\n",
       "      <td>0</td>\n",
       "      <td>8</td>\n",
       "      <td>object</td>\n",
       "    </tr>\n",
       "    <tr>\n",
       "      <th>Foundation</th>\n",
       "      <td>0</td>\n",
       "      <td>6</td>\n",
       "      <td>object</td>\n",
       "    </tr>\n",
       "    <tr>\n",
       "      <th>ExterCond</th>\n",
       "      <td>0</td>\n",
       "      <td>5</td>\n",
       "      <td>object</td>\n",
       "    </tr>\n",
       "    <tr>\n",
       "      <th>BsmtExposure</th>\n",
       "      <td>38</td>\n",
       "      <td>4</td>\n",
       "      <td>object</td>\n",
       "    </tr>\n",
       "    <tr>\n",
       "      <th>GarageFinish</th>\n",
       "      <td>81</td>\n",
       "      <td>3</td>\n",
       "      <td>object</td>\n",
       "    </tr>\n",
       "    <tr>\n",
       "      <th>GarageCond</th>\n",
       "      <td>81</td>\n",
       "      <td>5</td>\n",
       "      <td>object</td>\n",
       "    </tr>\n",
       "    <tr>\n",
       "      <th>Condition1</th>\n",
       "      <td>0</td>\n",
       "      <td>9</td>\n",
       "      <td>object</td>\n",
       "    </tr>\n",
       "    <tr>\n",
       "      <th>Electrical</th>\n",
       "      <td>1</td>\n",
       "      <td>5</td>\n",
       "      <td>object</td>\n",
       "    </tr>\n",
       "    <tr>\n",
       "      <th>Utilities</th>\n",
       "      <td>0</td>\n",
       "      <td>2</td>\n",
       "      <td>object</td>\n",
       "    </tr>\n",
       "    <tr>\n",
       "      <th>GarageQual</th>\n",
       "      <td>81</td>\n",
       "      <td>5</td>\n",
       "      <td>object</td>\n",
       "    </tr>\n",
       "    <tr>\n",
       "      <th>BldgType</th>\n",
       "      <td>0</td>\n",
       "      <td>5</td>\n",
       "      <td>object</td>\n",
       "    </tr>\n",
       "    <tr>\n",
       "      <th>KitchenQual</th>\n",
       "      <td>0</td>\n",
       "      <td>4</td>\n",
       "      <td>object</td>\n",
       "    </tr>\n",
       "    <tr>\n",
       "      <th>LotShape</th>\n",
       "      <td>0</td>\n",
       "      <td>4</td>\n",
       "      <td>object</td>\n",
       "    </tr>\n",
       "    <tr>\n",
       "      <th>Fence</th>\n",
       "      <td>1179</td>\n",
       "      <td>4</td>\n",
       "      <td>object</td>\n",
       "    </tr>\n",
       "    <tr>\n",
       "      <th>MSZoning</th>\n",
       "      <td>0</td>\n",
       "      <td>5</td>\n",
       "      <td>object</td>\n",
       "    </tr>\n",
       "    <tr>\n",
       "      <th>CentralAir</th>\n",
       "      <td>0</td>\n",
       "      <td>2</td>\n",
       "      <td>object</td>\n",
       "    </tr>\n",
       "    <tr>\n",
       "      <th>FireplaceQu</th>\n",
       "      <td>690</td>\n",
       "      <td>5</td>\n",
       "      <td>object</td>\n",
       "    </tr>\n",
       "    <tr>\n",
       "      <th>Condition2</th>\n",
       "      <td>0</td>\n",
       "      <td>8</td>\n",
       "      <td>object</td>\n",
       "    </tr>\n",
       "    <tr>\n",
       "      <th>LandContour</th>\n",
       "      <td>0</td>\n",
       "      <td>4</td>\n",
       "      <td>object</td>\n",
       "    </tr>\n",
       "    <tr>\n",
       "      <th>BsmtQual</th>\n",
       "      <td>37</td>\n",
       "      <td>4</td>\n",
       "      <td>object</td>\n",
       "    </tr>\n",
       "    <tr>\n",
       "      <th>PavedDrive</th>\n",
       "      <td>0</td>\n",
       "      <td>3</td>\n",
       "      <td>object</td>\n",
       "    </tr>\n",
       "    <tr>\n",
       "      <th>SaleCondition</th>\n",
       "      <td>0</td>\n",
       "      <td>6</td>\n",
       "      <td>object</td>\n",
       "    </tr>\n",
       "    <tr>\n",
       "      <th>ExterQual</th>\n",
       "      <td>0</td>\n",
       "      <td>4</td>\n",
       "      <td>object</td>\n",
       "    </tr>\n",
       "    <tr>\n",
       "      <th>Neighborhood</th>\n",
       "      <td>0</td>\n",
       "      <td>25</td>\n",
       "      <td>object</td>\n",
       "    </tr>\n",
       "    <tr>\n",
       "      <th>PoolQC</th>\n",
       "      <td>1453</td>\n",
       "      <td>3</td>\n",
       "      <td>object</td>\n",
       "    </tr>\n",
       "    <tr>\n",
       "      <th>MiscFeature</th>\n",
       "      <td>1406</td>\n",
       "      <td>4</td>\n",
       "      <td>object</td>\n",
       "    </tr>\n",
       "    <tr>\n",
       "      <th>Street</th>\n",
       "      <td>0</td>\n",
       "      <td>2</td>\n",
       "      <td>object</td>\n",
       "    </tr>\n",
       "    <tr>\n",
       "      <th>Heating</th>\n",
       "      <td>0</td>\n",
       "      <td>6</td>\n",
       "      <td>object</td>\n",
       "    </tr>\n",
       "    <tr>\n",
       "      <th>Functional</th>\n",
       "      <td>0</td>\n",
       "      <td>7</td>\n",
       "      <td>object</td>\n",
       "    </tr>\n",
       "    <tr>\n",
       "      <th>BsmtFinType1</th>\n",
       "      <td>37</td>\n",
       "      <td>6</td>\n",
       "      <td>object</td>\n",
       "    </tr>\n",
       "    <tr>\n",
       "      <th>RoofMatl</th>\n",
       "      <td>0</td>\n",
       "      <td>8</td>\n",
       "      <td>object</td>\n",
       "    </tr>\n",
       "    <tr>\n",
       "      <th>BsmtCond</th>\n",
       "      <td>37</td>\n",
       "      <td>4</td>\n",
       "      <td>object</td>\n",
       "    </tr>\n",
       "    <tr>\n",
       "      <th>LotConfig</th>\n",
       "      <td>0</td>\n",
       "      <td>5</td>\n",
       "      <td>object</td>\n",
       "    </tr>\n",
       "    <tr>\n",
       "      <th>HeatingQC</th>\n",
       "      <td>0</td>\n",
       "      <td>5</td>\n",
       "      <td>object</td>\n",
       "    </tr>\n",
       "    <tr>\n",
       "      <th>Exterior2nd</th>\n",
       "      <td>0</td>\n",
       "      <td>16</td>\n",
       "      <td>object</td>\n",
       "    </tr>\n",
       "    <tr>\n",
       "      <th>BsmtFinType2</th>\n",
       "      <td>38</td>\n",
       "      <td>6</td>\n",
       "      <td>object</td>\n",
       "    </tr>\n",
       "    <tr>\n",
       "      <th>GarageType</th>\n",
       "      <td>81</td>\n",
       "      <td>6</td>\n",
       "      <td>object</td>\n",
       "    </tr>\n",
       "    <tr>\n",
       "      <th>Alley</th>\n",
       "      <td>1369</td>\n",
       "      <td>2</td>\n",
       "      <td>object</td>\n",
       "    </tr>\n",
       "    <tr>\n",
       "      <th>MasVnrType</th>\n",
       "      <td>8</td>\n",
       "      <td>4</td>\n",
       "      <td>object</td>\n",
       "    </tr>\n",
       "    <tr>\n",
       "      <th>RoofStyle</th>\n",
       "      <td>0</td>\n",
       "      <td>6</td>\n",
       "      <td>object</td>\n",
       "    </tr>\n",
       "    <tr>\n",
       "      <th>LandSlope</th>\n",
       "      <td>0</td>\n",
       "      <td>3</td>\n",
       "      <td>object</td>\n",
       "    </tr>\n",
       "    <tr>\n",
       "      <th>SaleType</th>\n",
       "      <td>0</td>\n",
       "      <td>9</td>\n",
       "      <td>object</td>\n",
       "    </tr>\n",
       "    <tr>\n",
       "      <th>Exterior1st</th>\n",
       "      <td>0</td>\n",
       "      <td>15</td>\n",
       "      <td>object</td>\n",
       "    </tr>\n",
       "  </tbody>\n",
       "</table>\n",
       "</div>"
      ],
      "text/plain": [
       "               missing  unique DataType\n",
       "HouseStyle           0       8   object\n",
       "Foundation           0       6   object\n",
       "ExterCond            0       5   object\n",
       "BsmtExposure        38       4   object\n",
       "GarageFinish        81       3   object\n",
       "GarageCond          81       5   object\n",
       "Condition1           0       9   object\n",
       "Electrical           1       5   object\n",
       "Utilities            0       2   object\n",
       "GarageQual          81       5   object\n",
       "BldgType             0       5   object\n",
       "KitchenQual          0       4   object\n",
       "LotShape             0       4   object\n",
       "Fence             1179       4   object\n",
       "MSZoning             0       5   object\n",
       "CentralAir           0       2   object\n",
       "FireplaceQu        690       5   object\n",
       "Condition2           0       8   object\n",
       "LandContour          0       4   object\n",
       "BsmtQual            37       4   object\n",
       "PavedDrive           0       3   object\n",
       "SaleCondition        0       6   object\n",
       "ExterQual            0       4   object\n",
       "Neighborhood         0      25   object\n",
       "PoolQC            1453       3   object\n",
       "MiscFeature       1406       4   object\n",
       "Street               0       2   object\n",
       "Heating              0       6   object\n",
       "Functional           0       7   object\n",
       "BsmtFinType1        37       6   object\n",
       "RoofMatl             0       8   object\n",
       "BsmtCond            37       4   object\n",
       "LotConfig            0       5   object\n",
       "HeatingQC            0       5   object\n",
       "Exterior2nd          0      16   object\n",
       "BsmtFinType2        38       6   object\n",
       "GarageType          81       6   object\n",
       "Alley             1369       2   object\n",
       "MasVnrType           8       4   object\n",
       "RoofStyle            0       6   object\n",
       "LandSlope            0       3   object\n",
       "SaleType             0       9   object\n",
       "Exterior1st          0      15   object"
      ]
     },
     "execution_count": 198,
     "metadata": {},
     "output_type": "execute_result"
    }
   ],
   "source": [
    "col_names = list(types_df.index)\n",
    "num_cols = len(col_names)\n",
    "index = range(num_cols)\n",
    "cat_index = []\n",
    "for i in index:\n",
    "    if col_names[i] in conf_dict['CategoricalColumns']:\n",
    "        cat_index.append(i)\n",
    "summary_df_cat = missing_df.join(unq_df).join(types_df.iloc[cat_index], how='inner') #Only summarize categorical columns\n",
    "summary_df_cat"
   ]
  },
  {
   "cell_type": "markdown",
   "metadata": {
    "collapsed": true
   },
   "source": [
    "-----------------------------------------------\n",
    "\n",
    "# 4.0 Explore Individual Variables"
   ]
  },
  {
   "cell_type": "markdown",
   "metadata": {},
   "source": [
    "## 4.1 Explore the target variable"
   ]
  },
  {
   "cell_type": "code",
   "execution_count": 225,
   "metadata": {
    "scrolled": false
   },
   "outputs": [
    {
     "data": {
      "application/vnd.jupyter.widget-view+json": {
       "model_id": "bc91f5748f254543a2c711f9544c8825",
       "version_major": 2,
       "version_minor": 0
      },
      "text/plain": [
       "interactive(children=(Dropdown(description='Target:', index=37, options=('Id', 'MSSubClass', 'LotFrontage', 'L…"
      ]
     },
     "metadata": {},
     "output_type": "display_data"
    },
    {
     "data": {
      "text/plain": [
       "<function __main__.histPlot(data, target)>"
      ]
     },
     "execution_count": 225,
     "metadata": {},
     "output_type": "execute_result"
    }
   ],
   "source": [
    "def histPlot(data, target):\n",
    "    plt.hist(data[target])\n",
    "    plt.show()\n",
    "\n",
    "interact(histPlot,\n",
    "        data=fixed(df),\n",
    "        target=widgets.Dropdown(\n",
    "            options=conf_dict['NumericalColumns'],\n",
    "            value=conf_dict['Target'],\n",
    "            description='Target:',\n",
    "            disabled=False,\n",
    "        ))"
   ]
  },
  {
   "cell_type": "markdown",
   "metadata": {
    "collapsed": true
   },
   "source": [
    "## 4.2 Numeric Variable Summaries & Normality Tests\n",
    "The following plots provide summary visualizations for numerical features. \n",
    "\n",
    "Along the top row of charts, we see a histogram and density plot of the distribution. \n",
    "\n",
    "The bottom-left chart shows a QQ-Plot: For a normal distribution, the blue points will generally fall on the red diagonal line. In addition, a normality test is run and results are printed at the top (p<0.05 = not normal, p>=0.05 is normal).\n",
    "\n",
    "Finally, the bottom-right chart shows a boxplot of the feature. Note that black circles are statistical outliers, it may be worth considering filtering these values in the filtering section at the top of this notebook."
   ]
  },
  {
   "cell_type": "code",
   "execution_count": 202,
   "metadata": {
    "scrolled": false
   },
   "outputs": [
    {
     "data": {
      "application/vnd.jupyter.widget-view+json": {
       "model_id": "75144a3bb76f4e85a7767ac0cbe63270",
       "version_major": 2,
       "version_minor": 0
      },
      "text/plain": [
       "interactive(children=(Dropdown(description='Numeric Variable:', options=('Id', 'MSSubClass', 'LotFrontage', 'L…"
      ]
     },
     "metadata": {},
     "output_type": "display_data"
    },
    {
     "data": {
      "text/plain": [
       "<function helpers.NumericAnalytics.custom_barplot(df, col1='')>"
      ]
     },
     "execution_count": 202,
     "metadata": {},
     "output_type": "execute_result"
    }
   ],
   "source": [
    "w1_value = ''\n",
    "w1 = None\n",
    "w1 = widgets.Dropdown(\n",
    "        options=conf_dict['NumericalColumns'],\n",
    "        value=conf_dict['NumericalColumns'][0],\n",
    "        description='Numeric Variable:',\n",
    "    )\n",
    "\n",
    "interact(NumericAnalytics.custom_barplot, df=fixed(df), col1=w1)"
   ]
  },
  {
   "cell_type": "markdown",
   "metadata": {
    "collapsed": true
   },
   "source": [
    "## 4.3 Categorical Variable Summaries"
   ]
  },
  {
   "cell_type": "code",
   "execution_count": 203,
   "metadata": {
    "scrolled": false
   },
   "outputs": [
    {
     "data": {
      "application/vnd.jupyter.widget-view+json": {
       "model_id": "1a1b183f4e0544a5851c2e547507af00",
       "version_major": 2,
       "version_minor": 0
      },
      "text/plain": [
       "interactive(children=(Dropdown(description='Categorical Variable:', options=('Utilities', 'Street', 'SaleType'…"
      ]
     },
     "metadata": {},
     "output_type": "display_data"
    },
    {
     "data": {
      "text/plain": [
       "<function helpers.CategoricAnalytics.custom_barplot(df, col1='')>"
      ]
     },
     "execution_count": 203,
     "metadata": {},
     "output_type": "execute_result"
    }
   ],
   "source": [
    "w1_value = ''\n",
    "w1 = None\n",
    "\n",
    "w1 = widgets.Dropdown(\n",
    "    options = conf_dict['CategoricalColumns'],\n",
    "    value = conf_dict['CategoricalColumns'][0],\n",
    "    description = 'Categorical Variable:',\n",
    ")\n",
    "\n",
    "interact(CategoricAnalytics.custom_barplot, df=fixed(df), col1=w1)\n"
   ]
  },
  {
   "cell_type": "markdown",
   "metadata": {
    "collapsed": true
   },
   "source": [
    "##  4.4 Interactions Between Variables"
   ]
  },
  {
   "cell_type": "markdown",
   "metadata": {},
   "source": [
    "###  4.4.1 Rank variables based on linear relationships with reference variable\n",
    "In this section, we review the relationships between numeric and categorical variables against a reference variable (likely your target). This is a quick way to understand which features may contribute to the predictive value of a model."
   ]
  },
  {
   "cell_type": "code",
   "execution_count": 204,
   "metadata": {
    "scrolled": false
   },
   "outputs": [
    {
     "data": {
      "application/vnd.jupyter.widget-view+json": {
       "model_id": "75088b64bad346cdb01f525f9cc9536a",
       "version_major": 2,
       "version_minor": 0
      },
      "text/plain": [
       "interactive(children=(Dropdown(description='Ref Var:', options=('SalePrice', 'Id', 'MSSubClass', 'LotFrontage'…"
      ]
     },
     "metadata": {},
     "output_type": "display_data"
    },
    {
     "data": {
      "text/plain": [
       "<function helpers.InteractionAnalytics.rank_associations(df, conf_dict, col1, col2, col3)>"
      ]
     },
     "execution_count": 204,
     "metadata": {},
     "output_type": "execute_result"
    }
   ],
   "source": [
    "cols_list = [conf_dict['Target']] + conf_dict['NumericalColumns'] + conf_dict['CategoricalColumns'] \n",
    "cols_list = list(OrderedDict.fromkeys(cols_list)) \n",
    "w1 = widgets.Dropdown(    \n",
    "    options=cols_list,\n",
    "    value=cols_list[0],\n",
    "    description='Ref Var:'\n",
    ")\n",
    "w2 = ipywidgets.Text(value=\"5\", description='Top Num Vars:')\n",
    "w3 = ipywidgets.Text(value=\"5\", description='Top Cat Vars:')\n",
    "\n",
    "interact(InteractionAnalytics.rank_associations, df=fixed(df),conf_dict=fixed(conf_dict), col1=w1, col2=w2, col3=w3)\n"
   ]
  },
  {
   "cell_type": "markdown",
   "metadata": {
    "collapsed": true
   },
   "source": [
    "###  4.4.2 Interactions between categorical variables"
   ]
  },
  {
   "cell_type": "code",
   "execution_count": 205,
   "metadata": {
    "scrolled": false
   },
   "outputs": [
    {
     "data": {
      "application/vnd.jupyter.widget-view+json": {
       "model_id": "55b84f9a507e4aa2be711faaa68b1922",
       "version_major": 2,
       "version_minor": 0
      },
      "text/plain": [
       "interactive(children=(Dropdown(description='Categorical Var 1:', options=('Utilities', 'Street', 'SaleType', '…"
      ]
     },
     "metadata": {},
     "output_type": "display_data"
    },
    {
     "data": {
      "text/plain": [
       "<function helpers.InteractionAnalytics.categorical_relations(df, col1, col2)>"
      ]
     },
     "execution_count": 205,
     "metadata": {},
     "output_type": "execute_result"
    }
   ],
   "source": [
    "w1, w2 = None, None\n",
    "\n",
    "if conf_dict['Target'] in conf_dict['CategoricalColumns']:\n",
    "    cols_list = [conf_dict['Target']] + conf_dict['CategoricalColumns'] \n",
    "    cols_list = list(OrderedDict.fromkeys(cols_list)) \n",
    "else:\n",
    "    cols_list = conf_dict['CategoricalColumns']\n",
    "    \n",
    "w1 = widgets.Dropdown(\n",
    "    options=cols_list,\n",
    "    value=cols_list[0],\n",
    "    description='Categorical Var 1:'\n",
    ")\n",
    "w2 = widgets.Dropdown(\n",
    "    options=cols_list,\n",
    "    value=cols_list[1],\n",
    "    description='Categorical Var 2:'\n",
    ")\n",
    "\n",
    "interact(InteractionAnalytics.categorical_relations, df=fixed(df), col1=w1, col2=w2)\n"
   ]
  },
  {
   "cell_type": "markdown",
   "metadata": {
    "collapsed": true
   },
   "source": [
    "###  4.4.4 Interactions between numerical variables"
   ]
  },
  {
   "cell_type": "code",
   "execution_count": 207,
   "metadata": {
    "scrolled": false
   },
   "outputs": [
    {
     "data": {
      "application/vnd.jupyter.widget-view+json": {
       "model_id": "781ae6c1259443de94681042b7229090",
       "version_major": 2,
       "version_minor": 0
      },
      "text/plain": [
       "interactive(children=(Dropdown(description='Numerical Var 1:', options=('SalePrice', 'Id', 'MSSubClass', 'LotF…"
      ]
     },
     "metadata": {},
     "output_type": "display_data"
    },
    {
     "data": {
      "text/plain": [
       "<function helpers.InteractionAnalytics.numerical_relations(df, col1, col2)>"
      ]
     },
     "execution_count": 207,
     "metadata": {},
     "output_type": "execute_result"
    }
   ],
   "source": [
    "w1, w2 = None, None\n",
    "\n",
    "if conf_dict['Target'] in conf_dict['NumericalColumns']:\n",
    "    cols_list = [conf_dict['Target']] + conf_dict['NumericalColumns'] \n",
    "    cols_list = list(OrderedDict.fromkeys(cols_list)) \n",
    "else:\n",
    "    cols_list = conf_dict['NumericalColumns']\n",
    "w1 = widgets.Dropdown(\n",
    "    options=cols_list,\n",
    "    value=cols_list[0],\n",
    "    description='Numerical Var 1:'\n",
    ")\n",
    "w2 = widgets.Dropdown(\n",
    "    options=cols_list,\n",
    "    value=cols_list[1],\n",
    "    description='Numerical Var 2:'\n",
    ")\n",
    "\n",
    "interact(InteractionAnalytics.numerical_relations, df=fixed(df), col1=w1, col2=w2)\n"
   ]
  },
  {
   "cell_type": "markdown",
   "metadata": {
    "collapsed": true
   },
   "source": [
    "### 4.4.5 Correlation matrix between numerical variables\n",
    "The correlation matrix represents the results of mass correlation analyses between all numerical variables. A value of 1 represents a perfect correlation, while 0 indicates no correlation. \n",
    "\n",
    "The matrix can use multiple correlation methods. Some guidelines for selecting the correct method are below. For continuous features we have:\n",
    "\n",
    "* Pearson: Most widely used method, measures degree of association. Variables must be linear and normally distributed and must be continuous (e.g. age, weight).\n",
    "\n",
    "When incorporating rank data, use one of the following:\n",
    "\n",
    "* Spearman: Similar to Pearson, but no assumption of normal distribution and the variables can be either continuous or ordinal (e.g. finishing position in a race, rank in class). This is the more popular rank metric over Kendall.\n",
    "* Kendall: More robust than Spearman when working with small datasets, or datasets with errors. This robustness comes with a tradeoff on performance, with Kendall being exponentially slower for large datasets.\n"
   ]
  },
  {
   "cell_type": "code",
   "execution_count": 247,
   "metadata": {},
   "outputs": [
    {
     "data": {
      "image/png": "[encoded data removed]",
      "text/plain": [
       "<Figure size 1080x1080 with 2 Axes>"
      ]
     },
     "metadata": {},
     "output_type": "display_data"
    }
   ],
   "source": [
    "from matplotlib.pyplot import quiver, colorbar, clim,  matshow\n",
    "import matplotlib.ticker as ticker\n",
    "\n",
    "df2 = df[conf_dict['NumericalColumns']].corr(method='kendall')\n",
    "col_names = list(df[conf_dict['NumericalColumns']].columns)\n",
    "\n",
    "fig,ax = plt.subplots(figsize=(15,15))\n",
    "m = ax.matshow(df2, cmap=matplotlib.pyplot.cm.coolwarm)\n",
    "ax.grid(b=False)\n",
    "fig.colorbar(m)\n",
    "ax.set_xticklabels([' '] + col_names, rotation=90)\n",
    "ax.set_yticklabels([' '] + col_names)\n",
    "ax.xaxis.set_major_locator(ticker.MultipleLocator(1))\n",
    "ax.yaxis.set_major_locator(ticker.MultipleLocator(1))\n",
    "fig.show()"
   ]
  },
  {
   "cell_type": "markdown",
   "metadata": {
    "collapsed": true
   },
   "source": [
    "###  4.4.6 Interactions between numerical and categorical variables\n",
    "In this section we perform hypothesis tests to determine whether the values of a categorical variable (e.g. your target) have statistically different distributions. Note that a p-value is calculated to reflect one of two interpretations:\n",
    "\n",
    "* p<=0.05: We reject the null hypothesis that the different levels of the categorical variable are equal. In other words, the levels are significantly different. \n",
    "* p>0.05: Accept the null hypothesis that the levels of the categorical feature are equal. There is no difference in the value of the numerical feature between our categories."
   ]
  },
  {
   "cell_type": "code",
   "execution_count": 209,
   "metadata": {
    "scrolled": false
   },
   "outputs": [
    {
     "data": {
      "application/vnd.jupyter.widget-view+json": {
       "model_id": "08542210db7c45e0985d84da95da8a78",
       "version_major": 2,
       "version_minor": 0
      },
      "text/plain": [
       "interactive(children=(Dropdown(description='Numerical Variable:', options=('SalePrice', 'Id', 'MSSubClass', 'L…"
      ]
     },
     "metadata": {},
     "output_type": "display_data"
    },
    {
     "data": {
      "text/plain": [
       "<function helpers.InteractionAnalytics.nc_relation(df, conf_dict, col1, col2, col3=None)>"
      ]
     },
     "execution_count": 209,
     "metadata": {},
     "output_type": "execute_result"
    }
   ],
   "source": [
    "w1, w2 = None, None\n",
    "\n",
    "if conf_dict['Target'] in conf_dict['NumericalColumns']:\n",
    "    cols_list = [conf_dict['Target']] + conf_dict['NumericalColumns'] #Make target the default reference variable\n",
    "    cols_list = list(OrderedDict.fromkeys(cols_list)) #remove variables that might be duplicates with target\n",
    "else:\n",
    "    cols_list = conf_dict['NumericalColumns']\n",
    "    \n",
    "w1 = widgets.Dropdown(\n",
    "    options=cols_list,\n",
    "    value=cols_list[0],\n",
    "    description='Numerical Variable:'\n",
    ")\n",
    "\n",
    "if conf_dict['Target'] in conf_dict['CategoricalColumns']:\n",
    "    cols_list = [conf_dict['Target']] + conf_dict['CategoricalColumns'] #Make target the default reference variable\n",
    "    cols_list = list(OrderedDict.fromkeys(cols_list)) #remove variables that might be duplicates with target\n",
    "else:\n",
    "    cols_list = conf_dict['CategoricalColumns']\n",
    "    \n",
    "w2 = widgets.Dropdown(\n",
    "    options=cols_list,\n",
    "    value=cols_list[0],\n",
    "    description='Categorical Variable:'\n",
    ")\n",
    "interact(InteractionAnalytics.nc_relation, df=fixed(df),conf_dict=fixed(conf_dict), col1=w1, col2=w2, col3=fixed(w3))\n"
   ]
  },
  {
   "cell_type": "markdown",
   "metadata": {
    "collapsed": true
   },
   "source": [
    "### 4.4.8 Interactions between two numerical and one categorical variable"
   ]
  },
  {
   "cell_type": "code",
   "execution_count": 211,
   "metadata": {
    "scrolled": false
   },
   "outputs": [
    {
     "data": {
      "application/vnd.jupyter.widget-view+json": {
       "model_id": "79f204ff4fa74bc1a8ae4ce8f73839ba",
       "version_major": 2,
       "version_minor": 0
      },
      "text/plain": [
       "interactive(children=(Dropdown(description='Numerical Var 1:', options=('SalePrice', 'Id', 'MSSubClass', 'LotF…"
      ]
     },
     "metadata": {},
     "output_type": "display_data"
    },
    {
     "data": {
      "text/plain": [
       "<function helpers.InteractionAnalytics.nnc_relation(df, conf_dict, col1, col2, col3)>"
      ]
     },
     "execution_count": 211,
     "metadata": {},
     "output_type": "execute_result"
    }
   ],
   "source": [
    "w1, w2, w3 = None, None, None\n",
    "\n",
    "if conf_dict['Target'] in conf_dict['NumericalColumns']:\n",
    "    cols_list = [conf_dict['Target']] + conf_dict['NumericalColumns'] \n",
    "    cols_list = list(OrderedDict.fromkeys(cols_list)) \n",
    "else:\n",
    "    cols_list = conf_dict['NumericalColumns']\n",
    "    \n",
    "w1 = widgets.Dropdown(\n",
    "    options = cols_list,\n",
    "    value = cols_list[0],\n",
    "    description = 'Numerical Var 1:'\n",
    ")\n",
    "w2 = widgets.Dropdown(\n",
    "    options = cols_list,\n",
    "    value = cols_list[1],\n",
    "    description = 'Numerical Var 2:'\n",
    ")\n",
    "\n",
    "if conf_dict['Target'] in conf_dict['CategoricalColumns']:\n",
    "    cols_list = [conf_dict['Target']] + conf_dict['CategoricalColumns'] \n",
    "    cols_list = list(OrderedDict.fromkeys(cols_list)) \n",
    "else:\n",
    "    cols_list = conf_dict['CategoricalColumns']\n",
    "    \n",
    "w3 = widgets.Dropdown(\n",
    "    options = cols_list,\n",
    "    value = cols_list[0],\n",
    "    description = 'Legend Cat Var:'\n",
    ")\n",
    "interact(InteractionAnalytics.nnc_relation, df=fixed(df),conf_dict=fixed(conf_dict), col1=w1, col2=w2, col3=w3)\n"
   ]
  },
  {
   "cell_type": "markdown",
   "metadata": {
    "collapsed": true
   },
   "source": [
    "---------------------------------\n",
    "# 5.0 Latent Trait Analysis & Dimension Reduction\n",
    "\n",
    "## 5.1 Principal Components Analysis (PCA)\n",
    "Principal component analysis re-calculates *n* principal components for a dataset with *n* numerical features. The principal components are derived sequentially to capture the largest amount of variation in the data, i.e. PC1 captures the most variation, followed by PC2, then PC3... Each principal component is a combination of the original features. \n",
    "\n",
    "Practically speaking, PCA is commonly used for two purposes: Dimension reduction and latent trait analysis. For the purposes of this workflow, we are interested in latent trait analysis. \n",
    "\n",
    "PCAs can often capture latent traits in our data in the same way an IQ test estimates intelligence (the latent trait) from questions (our numerical features). The variable factor compass shows how the original numerical features influence the \"momentum\" of points in our PCA scatterplot. For example, if we saw an \"oil temperature\" arrow pointing north-east on our compass, we would ascertain that points in the top right of our scatter plot have high oil temperatures, while points in the bottom left have lower oil temp. Furthermore, arrows that are close to eachother imply a relationship between those values. If our \"oil temperature\" vector points in a similar direction to \"ambient temperature\", a possible relationship between those values is implied. If the scatterplot shows many points flagged as \"failures\" in the top right, this points to a relationship between ambient temp, oil temp and failure.\n",
    "\n",
    "The final chart shows the percentage of variation captured by each principal component. When drawing insights from PCA, it's important to make sure that these insights are based on a sufficient portion of the variation. For example, if PC1 captures 40% of variation and PC2 captures 35%, a scatterplot of PC1 and PC2 explains 75% of the variation and we can draw fairly robust conclusions. Conversely, if PC1 and PC2 only capture 5% of variation, conclusions are fairly disconnected from the complete dataset."
   ]
  },
  {
   "cell_type": "code",
   "execution_count": 357,
   "metadata": {},
   "outputs": [
    {
     "name": "stdout",
     "output_type": "stream",
     "text": [
      "Columns already dropped\n"
     ]
    }
   ],
   "source": [
    "# Investigate missingness\n",
    "# NA values will crash the model fits, so let's see how to handle them\n",
    "\n",
    "## Function to count NAs\n",
    "def count_NA(data):\n",
    "    na_counts = data.isnull().sum(axis=0).reset_index(name='NACount')\n",
    "    ## Print out the list of columns with missing values\n",
    "    return(na_counts[na_counts.NACount>0].sort_values('NACount', ascending=False))\n",
    "\n",
    "def FillNACols(data, colname, value):\n",
    "    data[colname][data[colname].isna()] = value\n",
    "    return(data)\n",
    "\n",
    "# Inspect NA counts\n",
    "## Get the counts of NAs\n",
    "na_counts = count_NA(df)\n",
    "## Print details about each column with NAs\n",
    "for idx in na_counts['index']:\n",
    "    print('Feature: {}'.format(idx))\n",
    "    print('Number of NAs: {}'.format(na_counts.NACount[na_counts['index']==idx].item()))\n",
    "    print(df[idx].unique())\n",
    "    print('==============================================')\n",
    "\n",
    "# Fill values\n",
    "## Simple fills\n",
    "df = FillNACols(df, 'PoolQC', 'None')\n",
    "df = FillNACols(df, 'MiscFeature', 'None')\n",
    "df = FillNACols(df, 'Fence', 'None')\n",
    "df = FillNACols(df, 'FireplaceQu', 'None')\n",
    "df = FillNACols(df, 'GarageFinish', 'None')\n",
    "df = FillNACols(df, 'GarageCond', 'None')\n",
    "df = FillNACols(df, 'GarageQual', 'None')\n",
    "df = FillNACols(df, 'GarageType', 'None')\n",
    "df = FillNACols(df, 'BsmtExposure', 'None')\n",
    "df = FillNACols(df, 'BsmtQual', 'None')\n",
    "df = FillNACols(df, 'BsmtCond', 'None')\n",
    "df = FillNACols(df, 'BsmtFinType1', 'None')\n",
    "df = FillNACols(df, 'BsmtFinType2', 'None')\n",
    "\n",
    "## Remove Rows\n",
    "df = df = df[pd.notna(df['MasVnrType'])]\n",
    "df = df = df[pd.notna(df['Electrical'])]\n",
    "\n",
    "## Remove Columns\n",
    "cols_to_drop = ['GarageYrBlt', 'LotFrontage']\n",
    "try:\n",
    "    df.drop(columns=cols_to_drop, inplace=True)\n",
    "except:\n",
    "    print(\"Columns already dropped\")"
   ]
  },
  {
   "cell_type": "code",
   "execution_count": 364,
   "metadata": {
    "scrolled": false
   },
   "outputs": [],
   "source": [
    "# Update conf_dict to reflect the new df\n",
    "conf_dict['CategoricalColumns'] = list(set(conf_dict['CategoricalColumns']) - set(cols_to_drop))\n",
    "conf_dict['NumericalColumns'] = list(set(conf_dict['NumericalColumns']) - set(cols_to_drop))"
   ]
  },
  {
   "cell_type": "code",
   "execution_count": 376,
   "metadata": {},
   "outputs": [
    {
     "data": {
      "application/vnd.jupyter.widget-view+json": {
       "model_id": "a1f2325b7c114d5b8f7b3d0c7f76e8c1",
       "version_major": 2,
       "version_minor": 0
      },
      "text/plain": [
       "interactive(children=(Dropdown(description='Legend Variable:', options=('HouseStyle', 'Foundation', 'ExterCond…"
      ]
     },
     "metadata": {},
     "output_type": "display_data"
    }
   ],
   "source": [
    "from sklearn.decomposition import PCA\n",
    "import seaborn as sns\n",
    "import numpy as np\n",
    "import matplotlib.pyplot as plt\n",
    "\n",
    "def numerical_pca_egv(df, conf_dict, col1, col2, col3):\n",
    "    # Do the PCA.\n",
    "    n_components = len(conf_dict['NumericalColumns'])\n",
    "    df2 = df[conf_dict['NumericalColumns']]\n",
    "\n",
    "    scaler = StandardScaler()\n",
    "    scaler.fit(df2)\n",
    "    df2 = scaler.transform(df2)\n",
    "    df2 = pd.DataFrame(df2, columns = conf_dict['NumericalColumns'])\n",
    "\n",
    "    pca = PCA(n_components=n_components)\n",
    "    reduced = pca.fit_transform(df2)\n",
    "    print(pca.explained_variance_ratio_)\n",
    "\n",
    "    # Append the principle components for each entry to the dataframe\n",
    "    for i in range(0, n_components):\n",
    "        df2['PC' + str(i + 1)] = reduced[:, i]\n",
    "\n",
    "    #display(df2.head())\n",
    "    if col1 not in conf_dict['NumericalColumns']:\n",
    "        df.reset_index(drop=True, inplace=True)\n",
    "        df2.reset_index(drop=True, inplace=True)\n",
    "        df2[col1] = df[col1]\n",
    "\n",
    "    # Show the points in terms of the first two PCs\n",
    "    g = sns.lmplot(('PC' + str(col2)),\n",
    "                   ('PC' + str(col3)),\n",
    "                   hue=col1,\n",
    "                   data=df2,\n",
    "                   fit_reg=False,\n",
    "                   scatter=True,\n",
    "                   size=7)\n",
    "    plt.show()\n",
    "\n",
    "    # Plot a variable factor map for the first two dimensions.\n",
    "    (fig, ax) = plt.subplots(figsize=(8, 8))\n",
    "    for i in range(0, len(pca.components_)):\n",
    "        ax.arrow(0,\n",
    "                 0,  # Start the arrow at the origin\n",
    "                 pca.components_[int(col2) - 1, i],  #0 for PC1\n",
    "                 pca.components_[int(col3) - 1, i],  #1 for PC2\n",
    "                 head_width=0.05,\n",
    "                 head_length=0.08)\n",
    "\n",
    "        plt.text(pca.components_[int(col2) - 1, i] + 0.05,\n",
    "                 pca.components_[int(col3) - 1, i] + 0.05,\n",
    "                 df2.columns.values[i])\n",
    "\n",
    "    an = np.linspace(0, 2 * np.pi, 100)\n",
    "    plt.plot(np.cos(an), np.sin(an))  # Add a unit circle for scale\n",
    "    plt.axis('equal')\n",
    "    ax.set_title('Variable factor compass')\n",
    "    plt.show()\n",
    "\n",
    "    # Do a scree plot\n",
    "    ind = np.arange(0, n_components)\n",
    "    cumpca = np.cumsum(pca.explained_variance_ratio_)\n",
    "    \n",
    "    (fig, ax) = plt.subplots(figsize=(8, 6))\n",
    "    sns.pointplot(x=ind, y=cumpca)\n",
    "    ax.set_title('Scree plot')\n",
    "    ax.set_xticks(ind)\n",
    "    ax.set_xticklabels(ind)\n",
    "    ax.set_xlabel('Component Number')\n",
    "    ax.set_ylabel('Explained Variance')\n",
    "    plt.show()\n",
    "    \n",
    "\n",
    "num_numeric = len(conf_dict['NumericalColumns'])\n",
    "if  num_numeric > 3:\n",
    "    \n",
    "    w1, w2, w3 = None, None, None\n",
    "    if conf_dict['Target'] in conf_dict['CategoricalColumns']:\n",
    "        cols_list = [conf_dict['Target']] + conf_dict['CategoricalColumns'] \n",
    "        cols_list = list(OrderedDict.fromkeys(cols_list)) \n",
    "    else:\n",
    "        cols_list = conf_dict['CategoricalColumns']\n",
    "\n",
    "    \n",
    "    w1 = widgets.Dropdown(\n",
    "        options = cols_list,\n",
    "        value = cols_list[0],\n",
    "        description = 'Legend Variable:',\n",
    "        width = 10\n",
    "    )\n",
    "    w2 = widgets.Dropdown(\n",
    "        options = [str(x) for x in np.arange(1,num_numeric+1)],\n",
    "        value = '1',\n",
    "        width = 1,\n",
    "        description='PC at X-Axis:'\n",
    "    )\n",
    "    w3 = widgets.Dropdown(\n",
    "        options = [str(x) for x in np.arange(1,num_numeric+1)],\n",
    "        value = '2',\n",
    "        description = 'PC at Y-Axis:'\n",
    "    )\n",
    "    \n",
    "    interact(numerical_pca_egv, \\\n",
    "             df=fixed(df), \\\n",
    "             conf_dict= fixed(conf_dict), \\\n",
    "             col1=w1, col2=w2, col3=w3)"
   ]
  },
  {
   "cell_type": "markdown",
   "metadata": {},
   "source": [
    "-------------------------------------------\n",
    "\n",
    "# 6.0 Save Transformed Dataset"
   ]
  },
  {
   "cell_type": "code",
   "execution_count": 213,
   "metadata": {},
   "outputs": [
    {
     "name": "stdout",
     "output_type": "stream",
     "text": [
      "Download the processed dataset to CSV:\n"
     ]
    },
    {
     "data": {
      "application/vnd.jupyter.widget-view+json": {
       "model_id": "63a3ba8a8a4744bd9906c42e64eb2498",
       "version_major": 2,
       "version_minor": 0
      },
      "text/plain": [
       "Button(description='Download', style=ButtonStyle())"
      ]
     },
     "metadata": {},
     "output_type": "display_data"
    }
   ],
   "source": [
    "# Define download function\n",
    "js_download = \"\"\"\n",
    "                var csv = '%s';\n",
    "\n",
    "                var filename = 'results.csv';\n",
    "                var blob = new Blob([csv], { type: 'text/csv;charset=utf-8;' });\n",
    "                if (navigator.msSaveBlob) { // IE 10+\n",
    "                    navigator.msSaveBlob(blob, filename);\n",
    "                } else {\n",
    "                    var link = document.createElement(\"a\");\n",
    "                    if (link.download !== undefined) { // feature detection\n",
    "                        // Browsers that support HTML5 download attribute\n",
    "                        var url = URL.createObjectURL(blob);\n",
    "                        link.setAttribute(\"href\", url);\n",
    "                        link.setAttribute(\"download\", filename);\n",
    "                        link.style.visibility = 'hidden';\n",
    "                        document.body.appendChild(link);\n",
    "                        link.click();\n",
    "                        document.body.removeChild(link);\n",
    "                    }\n",
    "                }\n",
    "                \"\"\" % df0.to_csv(index=False).replace('\\n','\\\\n').replace(\"'\",\"\\'\")\n",
    "\n",
    "# Run JS on button click\n",
    "def download_csv(sink):\n",
    "    display(Javascript(js_download))\n",
    "\n",
    "\n",
    "print(\"Download the processed dataset to CSV:\")\n",
    "button_dl = widgets.Button(description=\"Download\")\n",
    "button_dl.on_click(download_csv)\n",
    "display(button_dl)"
   ]
  },
  {
   "cell_type": "code",
   "execution_count": null,
   "metadata": {},
   "outputs": [],
   "source": []
  }
 ],
 "metadata": {
  "celltoolbar": "Raw Cell Format",
  "kernelspec": {
   "display_name": "Python 3",
   "language": "python",
   "name": "python3"
  },
  "language_info": {
   "codemirror_mode": {
    "name": "ipython",
    "version": 3
   },
   "file_extension": ".py",
   "mimetype": "text/x-python",
   "name": "python",
   "nbconvert_exporter": "python",
   "pygments_lexer": "ipython3",
   "version": "3.6.3"
  },
  "widgets": {
   "state": {
    "04f0d91d56f342708c52e57fbe9bcd06": {
     "views": [
      {
       "cell_index": 45
      }
     ]
    },
    "0506975d69c14717be17695d1a6c7132": {
     "views": [
      {
       "cell_index": 50
      }
     ]
    },
    "0dc41da3c3f445d690100fd99558f244": {
     "views": [
      {
       "cell_index": 30
      }
     ]
    },
    "2196ee8000864f23bbfa4689bfaffc7d": {
     "views": [
      {
       "cell_index": 37
      }
     ]
    },
    "4a5ca2989b4d456d8d019f38514c3485": {
     "views": [
      {
       "cell_index": 35
      }
     ]
    },
    "56d3942cb1684869808846d861e7b0b9": {
     "views": [
      {
       "cell_index": 48
      }
     ]
    },
    "642af708746142059091fb9c21fb4612": {
     "views": [
      {
       "cell_index": 28
      }
     ]
    },
    "9cc891c4a4dc4ca3bc4801bf7c38e19d": {
     "views": [
      {
       "cell_index": 41
      }
     ]
    },
    "a416687c67684df8818f966704d9f073": {
     "views": [
      {
       "cell_index": 43
      }
     ]
    },
    "d0c17a981a554bcc89cba56b4a1edccd": {
     "views": [
      {
       "cell_index": 39
      }
     ]
    },
    "d0d887fc32c940e88721b75f39ec03c5": {
     "views": [
      {
       "cell_index": 13
      }
     ]
    },
    "e96f8216a4b94c3aa524bce1034708ef": {
     "views": [
      {
       "cell_index": 32
      }
     ]
    }
   },
   "version": "1.2.0"
  }
 },
 "nbformat": 4,
 "nbformat_minor": 1
}
